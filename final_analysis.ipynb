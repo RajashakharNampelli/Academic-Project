{
  "cells": [
    {
      "cell_type": "markdown",
      "metadata": {
        "id": "view-in-github",
        "colab_type": "text"
      },
      "source": [
        "<a href=\"https://colab.research.google.com/github/shekar2012sri/shekar2012sri/blob/main/final_analysis.ipynb\" target=\"_parent\"><img src=\"https://colab.research.google.com/assets/colab-badge.svg\" alt=\"Open In Colab\"/></a>"
      ]
    },
    {
      "cell_type": "markdown",
      "metadata": {
        "execution": {
          "iopub.execute_input": "2022-06-30T18:55:47.138160Z",
          "iopub.status.busy": "2022-06-30T18:55:47.137751Z",
          "iopub.status.idle": "2022-06-30T18:55:47.164744Z",
          "shell.execute_reply": "2022-06-30T18:55:47.163492Z",
          "shell.execute_reply.started": "2022-06-30T18:55:47.138079Z"
        },
        "id": "WnAOTsNKzUw-"
      },
      "source": [
        "---\n",
        "\n",
        "THE START\n",
        "\n",
        "--- "
      ]
    },
    {
      "cell_type": "markdown",
      "metadata": {
        "id": "xGa-fz_lzUxF"
      },
      "source": [
        "---\n",
        "\n",
        "CUSTOMER SEGMENTATION ON BANKING TRANSACTION DATA.\n",
        "\n",
        "---"
      ]
    },
    {
      "cell_type": "code",
      "execution_count": 1,
      "metadata": {
        "execution": {
          "iopub.execute_input": "2022-06-30T18:57:30.943609Z",
          "iopub.status.busy": "2022-06-30T18:57:30.942948Z",
          "iopub.status.idle": "2022-06-30T18:57:32.483011Z",
          "shell.execute_reply": "2022-06-30T18:57:32.481594Z",
          "shell.execute_reply.started": "2022-06-30T18:57:30.943508Z"
        },
        "id": "nVAy0whNzUxG"
      },
      "outputs": [],
      "source": [
        "# import modules required for the segmentation\n",
        "import os\n",
        "import sys\n",
        "\n",
        "# libraries for processing, analysis and loading\n",
        "import pandas as pd\n",
        "import numpy as np\n",
        "import matplotlib.pyplot as plt\n",
        "import seaborn as sns\n",
        "\n",
        "# clustering algorithms\n",
        "from sklearn.decomposition import PCA\n",
        "from sklearn.cluster import KMeans, MeanShift, estimate_bandwidth, SpectralClustering\n",
        "from sklearn.cluster import AgglomerativeClustering, MiniBatchKMeans\n",
        "from sklearn.preprocessing import MinMaxScaler , RobustScaler , StandardScaler, LabelEncoder\n",
        "\n",
        "import warnings\n",
        "warnings.filterwarnings(\"ignore\")"
      ]
    },
    {
      "cell_type": "code",
      "source": [
        "from google.colab import drive\n",
        "drive.mount('/content/drive')"
      ],
      "metadata": {
        "colab": {
          "base_uri": "https://localhost:8080/"
        },
        "id": "I95CMMnyzYHE",
        "outputId": "5e67e82c-9568-449f-ada7-eaeeb1516886"
      },
      "execution_count": 2,
      "outputs": [
        {
          "output_type": "stream",
          "name": "stdout",
          "text": [
            "Mounted at /content/drive\n"
          ]
        }
      ]
    },
    {
      "cell_type": "code",
      "execution_count": 3,
      "metadata": {
        "execution": {
          "iopub.execute_input": "2022-06-30T18:57:32.485552Z",
          "iopub.status.busy": "2022-06-30T18:57:32.485183Z",
          "iopub.status.idle": "2022-06-30T18:57:36.012094Z",
          "shell.execute_reply": "2022-06-30T18:57:36.010758Z",
          "shell.execute_reply.started": "2022-06-30T18:57:32.485518Z"
        },
        "id": "2m9P5nAGzUxI"
      },
      "outputs": [],
      "source": [
        "# read the data\n",
        "df = pd.read_csv(\"/content/drive/MyDrive/bank_transactions.csv\")"
      ]
    },
    {
      "cell_type": "code",
      "execution_count": 4,
      "metadata": {
        "execution": {
          "iopub.execute_input": "2022-06-30T18:57:36.014493Z",
          "iopub.status.busy": "2022-06-30T18:57:36.014149Z",
          "iopub.status.idle": "2022-06-30T18:57:36.024777Z",
          "shell.execute_reply": "2022-06-30T18:57:36.023467Z",
          "shell.execute_reply.started": "2022-06-30T18:57:36.014460Z"
        },
        "colab": {
          "base_uri": "https://localhost:8080/"
        },
        "id": "NBeuSIlrzUxJ",
        "outputId": "5d7f03f7-ee0e-4845-c407-1c5220cd790a"
      },
      "outputs": [
        {
          "output_type": "execute_result",
          "data": {
            "text/plain": [
              "(1048567, 9)"
            ]
          },
          "metadata": {},
          "execution_count": 4
        }
      ],
      "source": [
        "# check the shape of the df\n",
        "df.shape"
      ]
    },
    {
      "cell_type": "code",
      "execution_count": 5,
      "metadata": {
        "execution": {
          "iopub.execute_input": "2022-06-30T18:57:36.026398Z",
          "iopub.status.busy": "2022-06-30T18:57:36.026080Z",
          "iopub.status.idle": "2022-06-30T18:57:36.624379Z",
          "shell.execute_reply": "2022-06-30T18:57:36.622877Z",
          "shell.execute_reply.started": "2022-06-30T18:57:36.026361Z"
        },
        "colab": {
          "base_uri": "https://localhost:8080/"
        },
        "id": "63VSpjdZzUxL",
        "outputId": "ceb5d8c6-7495-40cb-c27d-994804d50b9a"
      },
      "outputs": [
        {
          "output_type": "stream",
          "name": "stdout",
          "text": [
            "<class 'pandas.core.frame.DataFrame'>\n",
            "RangeIndex: 1048567 entries, 0 to 1048566\n",
            "Data columns (total 9 columns):\n",
            " #   Column                   Non-Null Count    Dtype  \n",
            "---  ------                   --------------    -----  \n",
            " 0   TransactionID            1048567 non-null  object \n",
            " 1   CustomerID               1048567 non-null  object \n",
            " 2   CustomerDOB              1045170 non-null  object \n",
            " 3   CustGender               1047467 non-null  object \n",
            " 4   CustLocation             1048416 non-null  object \n",
            " 5   CustAccountBalance       1046198 non-null  float64\n",
            " 6   TransactionDate          1048567 non-null  object \n",
            " 7   TransactionTime          1048567 non-null  int64  \n",
            " 8   TransactionAmount (INR)  1048567 non-null  float64\n",
            "dtypes: float64(2), int64(1), object(6)\n",
            "memory usage: 72.0+ MB\n"
          ]
        }
      ],
      "source": [
        "# information\n",
        "df.info()"
      ]
    },
    {
      "cell_type": "markdown",
      "metadata": {
        "id": "6FoC5K2TzUxM"
      },
      "source": [
        "### Observation\n",
        "- The dataset had a total of `1048567` records\n",
        "- It has a total of 9 columns or attributes in which each is of different data type\n",
        "- From the above, some columns are seen not to be in their correct data type as they are objects.\n",
        "- There are columns storing date objects but are not in the date format.\n",
        "- Some columns seems also be be having some null values.\n",
        "- The number of nulls are going to be investigated and a proper correction made to deal with them from the cell below."
      ]
    },
    {
      "cell_type": "code",
      "execution_count": 6,
      "metadata": {
        "execution": {
          "iopub.execute_input": "2022-06-30T18:57:36.627614Z",
          "iopub.status.busy": "2022-06-30T18:57:36.627167Z",
          "iopub.status.idle": "2022-06-30T18:57:36.653189Z",
          "shell.execute_reply": "2022-06-30T18:57:36.651788Z",
          "shell.execute_reply.started": "2022-06-30T18:57:36.627580Z"
        },
        "colab": {
          "base_uri": "https://localhost:8080/",
          "height": 206
        },
        "id": "fq1jBdVKzUxN",
        "outputId": "5085d697-afec-4f0f-a874-919c3116815e"
      },
      "outputs": [
        {
          "output_type": "execute_result",
          "data": {
            "text/plain": [
              "  TransactionID CustomerID CustomerDOB CustGender CustLocation  \\\n",
              "0            T1   C5841053     10/1/94          F   JAMSHEDPUR   \n",
              "1            T2   C2142763      4/4/57          M      JHAJJAR   \n",
              "2            T3   C4417068    26/11/96          F       MUMBAI   \n",
              "3            T4   C5342380     14/9/73          F       MUMBAI   \n",
              "4            T5   C9031234     24/3/88          F  NAVI MUMBAI   \n",
              "\n",
              "   CustAccountBalance TransactionDate  TransactionTime  \\\n",
              "0            17819.05          2/8/16           143207   \n",
              "1             2270.69          2/8/16           141858   \n",
              "2            17874.44          2/8/16           142712   \n",
              "3           866503.21          2/8/16           142714   \n",
              "4             6714.43          2/8/16           181156   \n",
              "\n",
              "   TransactionAmount (INR)  \n",
              "0                     25.0  \n",
              "1                  27999.0  \n",
              "2                    459.0  \n",
              "3                   2060.0  \n",
              "4                   1762.5  "
            ],
            "text/html": [
              "\n",
              "  <div id=\"df-599f22cf-e92e-4136-87af-23a5e59c5684\">\n",
              "    <div class=\"colab-df-container\">\n",
              "      <div>\n",
              "<style scoped>\n",
              "    .dataframe tbody tr th:only-of-type {\n",
              "        vertical-align: middle;\n",
              "    }\n",
              "\n",
              "    .dataframe tbody tr th {\n",
              "        vertical-align: top;\n",
              "    }\n",
              "\n",
              "    .dataframe thead th {\n",
              "        text-align: right;\n",
              "    }\n",
              "</style>\n",
              "<table border=\"1\" class=\"dataframe\">\n",
              "  <thead>\n",
              "    <tr style=\"text-align: right;\">\n",
              "      <th></th>\n",
              "      <th>TransactionID</th>\n",
              "      <th>CustomerID</th>\n",
              "      <th>CustomerDOB</th>\n",
              "      <th>CustGender</th>\n",
              "      <th>CustLocation</th>\n",
              "      <th>CustAccountBalance</th>\n",
              "      <th>TransactionDate</th>\n",
              "      <th>TransactionTime</th>\n",
              "      <th>TransactionAmount (INR)</th>\n",
              "    </tr>\n",
              "  </thead>\n",
              "  <tbody>\n",
              "    <tr>\n",
              "      <th>0</th>\n",
              "      <td>T1</td>\n",
              "      <td>C5841053</td>\n",
              "      <td>10/1/94</td>\n",
              "      <td>F</td>\n",
              "      <td>JAMSHEDPUR</td>\n",
              "      <td>17819.05</td>\n",
              "      <td>2/8/16</td>\n",
              "      <td>143207</td>\n",
              "      <td>25.0</td>\n",
              "    </tr>\n",
              "    <tr>\n",
              "      <th>1</th>\n",
              "      <td>T2</td>\n",
              "      <td>C2142763</td>\n",
              "      <td>4/4/57</td>\n",
              "      <td>M</td>\n",
              "      <td>JHAJJAR</td>\n",
              "      <td>2270.69</td>\n",
              "      <td>2/8/16</td>\n",
              "      <td>141858</td>\n",
              "      <td>27999.0</td>\n",
              "    </tr>\n",
              "    <tr>\n",
              "      <th>2</th>\n",
              "      <td>T3</td>\n",
              "      <td>C4417068</td>\n",
              "      <td>26/11/96</td>\n",
              "      <td>F</td>\n",
              "      <td>MUMBAI</td>\n",
              "      <td>17874.44</td>\n",
              "      <td>2/8/16</td>\n",
              "      <td>142712</td>\n",
              "      <td>459.0</td>\n",
              "    </tr>\n",
              "    <tr>\n",
              "      <th>3</th>\n",
              "      <td>T4</td>\n",
              "      <td>C5342380</td>\n",
              "      <td>14/9/73</td>\n",
              "      <td>F</td>\n",
              "      <td>MUMBAI</td>\n",
              "      <td>866503.21</td>\n",
              "      <td>2/8/16</td>\n",
              "      <td>142714</td>\n",
              "      <td>2060.0</td>\n",
              "    </tr>\n",
              "    <tr>\n",
              "      <th>4</th>\n",
              "      <td>T5</td>\n",
              "      <td>C9031234</td>\n",
              "      <td>24/3/88</td>\n",
              "      <td>F</td>\n",
              "      <td>NAVI MUMBAI</td>\n",
              "      <td>6714.43</td>\n",
              "      <td>2/8/16</td>\n",
              "      <td>181156</td>\n",
              "      <td>1762.5</td>\n",
              "    </tr>\n",
              "  </tbody>\n",
              "</table>\n",
              "</div>\n",
              "      <button class=\"colab-df-convert\" onclick=\"convertToInteractive('df-599f22cf-e92e-4136-87af-23a5e59c5684')\"\n",
              "              title=\"Convert this dataframe to an interactive table.\"\n",
              "              style=\"display:none;\">\n",
              "        \n",
              "  <svg xmlns=\"http://www.w3.org/2000/svg\" height=\"24px\"viewBox=\"0 0 24 24\"\n",
              "       width=\"24px\">\n",
              "    <path d=\"M0 0h24v24H0V0z\" fill=\"none\"/>\n",
              "    <path d=\"M18.56 5.44l.94 2.06.94-2.06 2.06-.94-2.06-.94-.94-2.06-.94 2.06-2.06.94zm-11 1L8.5 8.5l.94-2.06 2.06-.94-2.06-.94L8.5 2.5l-.94 2.06-2.06.94zm10 10l.94 2.06.94-2.06 2.06-.94-2.06-.94-.94-2.06-.94 2.06-2.06.94z\"/><path d=\"M17.41 7.96l-1.37-1.37c-.4-.4-.92-.59-1.43-.59-.52 0-1.04.2-1.43.59L10.3 9.45l-7.72 7.72c-.78.78-.78 2.05 0 2.83L4 21.41c.39.39.9.59 1.41.59.51 0 1.02-.2 1.41-.59l7.78-7.78 2.81-2.81c.8-.78.8-2.07 0-2.86zM5.41 20L4 18.59l7.72-7.72 1.47 1.35L5.41 20z\"/>\n",
              "  </svg>\n",
              "      </button>\n",
              "      \n",
              "  <style>\n",
              "    .colab-df-container {\n",
              "      display:flex;\n",
              "      flex-wrap:wrap;\n",
              "      gap: 12px;\n",
              "    }\n",
              "\n",
              "    .colab-df-convert {\n",
              "      background-color: #E8F0FE;\n",
              "      border: none;\n",
              "      border-radius: 50%;\n",
              "      cursor: pointer;\n",
              "      display: none;\n",
              "      fill: #1967D2;\n",
              "      height: 32px;\n",
              "      padding: 0 0 0 0;\n",
              "      width: 32px;\n",
              "    }\n",
              "\n",
              "    .colab-df-convert:hover {\n",
              "      background-color: #E2EBFA;\n",
              "      box-shadow: 0px 1px 2px rgba(60, 64, 67, 0.3), 0px 1px 3px 1px rgba(60, 64, 67, 0.15);\n",
              "      fill: #174EA6;\n",
              "    }\n",
              "\n",
              "    [theme=dark] .colab-df-convert {\n",
              "      background-color: #3B4455;\n",
              "      fill: #D2E3FC;\n",
              "    }\n",
              "\n",
              "    [theme=dark] .colab-df-convert:hover {\n",
              "      background-color: #434B5C;\n",
              "      box-shadow: 0px 1px 3px 1px rgba(0, 0, 0, 0.15);\n",
              "      filter: drop-shadow(0px 1px 2px rgba(0, 0, 0, 0.3));\n",
              "      fill: #FFFFFF;\n",
              "    }\n",
              "  </style>\n",
              "\n",
              "      <script>\n",
              "        const buttonEl =\n",
              "          document.querySelector('#df-599f22cf-e92e-4136-87af-23a5e59c5684 button.colab-df-convert');\n",
              "        buttonEl.style.display =\n",
              "          google.colab.kernel.accessAllowed ? 'block' : 'none';\n",
              "\n",
              "        async function convertToInteractive(key) {\n",
              "          const element = document.querySelector('#df-599f22cf-e92e-4136-87af-23a5e59c5684');\n",
              "          const dataTable =\n",
              "            await google.colab.kernel.invokeFunction('convertToInteractive',\n",
              "                                                     [key], {});\n",
              "          if (!dataTable) return;\n",
              "\n",
              "          const docLinkHtml = 'Like what you see? Visit the ' +\n",
              "            '<a target=\"_blank\" href=https://colab.research.google.com/notebooks/data_table.ipynb>data table notebook</a>'\n",
              "            + ' to learn more about interactive tables.';\n",
              "          element.innerHTML = '';\n",
              "          dataTable['output_type'] = 'display_data';\n",
              "          await google.colab.output.renderOutput(dataTable, element);\n",
              "          const docLink = document.createElement('div');\n",
              "          docLink.innerHTML = docLinkHtml;\n",
              "          element.appendChild(docLink);\n",
              "        }\n",
              "      </script>\n",
              "    </div>\n",
              "  </div>\n",
              "  "
            ]
          },
          "metadata": {},
          "execution_count": 6
        }
      ],
      "source": [
        "# sample head\n",
        "df.head()"
      ]
    },
    {
      "cell_type": "code",
      "execution_count": 7,
      "metadata": {
        "execution": {
          "iopub.execute_input": "2022-06-30T18:57:36.655515Z",
          "iopub.status.busy": "2022-06-30T18:57:36.655171Z",
          "iopub.status.idle": "2022-06-30T18:57:36.708067Z",
          "shell.execute_reply": "2022-06-30T18:57:36.706645Z",
          "shell.execute_reply.started": "2022-06-30T18:57:36.655483Z"
        },
        "colab": {
          "base_uri": "https://localhost:8080/",
          "height": 206
        },
        "id": "MuCo8jCgzUxO",
        "outputId": "1f16c544-bbe0-4d7a-ef48-e7545e36e718"
      },
      "outputs": [
        {
          "output_type": "execute_result",
          "data": {
            "text/plain": [
              "       TransactionID CustomerID CustomerDOB CustGender CustLocation  \\\n",
              "942056       T942057   C7836259     15/5/85          M        DELHI   \n",
              "155368       T155369   C1729126      1/5/85          M      CHENNAI   \n",
              "517868       T517869   C7968538     16/6/81          M        DELHI   \n",
              "608147       T608148   C2430968    14/10/82          M    NEW DELHI   \n",
              "508992       T508993   C6520256    27/10/91          F   CHANDIGARH   \n",
              "\n",
              "        CustAccountBalance TransactionDate  TransactionTime  \\\n",
              "942056            28058.21         11/9/16           175742   \n",
              "155368            17099.93          3/9/16           150254   \n",
              "517868             5960.24         19/8/16           224942   \n",
              "608147            92852.43         26/8/16           190110   \n",
              "508992            10007.59         19/8/16           180410   \n",
              "\n",
              "        TransactionAmount (INR)  \n",
              "942056                  1499.00  \n",
              "155368                   245.00  \n",
              "517868                  1750.65  \n",
              "608147                   500.00  \n",
              "508992                    89.00  "
            ],
            "text/html": [
              "\n",
              "  <div id=\"df-00f8cd67-c540-4f03-9205-d69a246721e5\">\n",
              "    <div class=\"colab-df-container\">\n",
              "      <div>\n",
              "<style scoped>\n",
              "    .dataframe tbody tr th:only-of-type {\n",
              "        vertical-align: middle;\n",
              "    }\n",
              "\n",
              "    .dataframe tbody tr th {\n",
              "        vertical-align: top;\n",
              "    }\n",
              "\n",
              "    .dataframe thead th {\n",
              "        text-align: right;\n",
              "    }\n",
              "</style>\n",
              "<table border=\"1\" class=\"dataframe\">\n",
              "  <thead>\n",
              "    <tr style=\"text-align: right;\">\n",
              "      <th></th>\n",
              "      <th>TransactionID</th>\n",
              "      <th>CustomerID</th>\n",
              "      <th>CustomerDOB</th>\n",
              "      <th>CustGender</th>\n",
              "      <th>CustLocation</th>\n",
              "      <th>CustAccountBalance</th>\n",
              "      <th>TransactionDate</th>\n",
              "      <th>TransactionTime</th>\n",
              "      <th>TransactionAmount (INR)</th>\n",
              "    </tr>\n",
              "  </thead>\n",
              "  <tbody>\n",
              "    <tr>\n",
              "      <th>942056</th>\n",
              "      <td>T942057</td>\n",
              "      <td>C7836259</td>\n",
              "      <td>15/5/85</td>\n",
              "      <td>M</td>\n",
              "      <td>DELHI</td>\n",
              "      <td>28058.21</td>\n",
              "      <td>11/9/16</td>\n",
              "      <td>175742</td>\n",
              "      <td>1499.00</td>\n",
              "    </tr>\n",
              "    <tr>\n",
              "      <th>155368</th>\n",
              "      <td>T155369</td>\n",
              "      <td>C1729126</td>\n",
              "      <td>1/5/85</td>\n",
              "      <td>M</td>\n",
              "      <td>CHENNAI</td>\n",
              "      <td>17099.93</td>\n",
              "      <td>3/9/16</td>\n",
              "      <td>150254</td>\n",
              "      <td>245.00</td>\n",
              "    </tr>\n",
              "    <tr>\n",
              "      <th>517868</th>\n",
              "      <td>T517869</td>\n",
              "      <td>C7968538</td>\n",
              "      <td>16/6/81</td>\n",
              "      <td>M</td>\n",
              "      <td>DELHI</td>\n",
              "      <td>5960.24</td>\n",
              "      <td>19/8/16</td>\n",
              "      <td>224942</td>\n",
              "      <td>1750.65</td>\n",
              "    </tr>\n",
              "    <tr>\n",
              "      <th>608147</th>\n",
              "      <td>T608148</td>\n",
              "      <td>C2430968</td>\n",
              "      <td>14/10/82</td>\n",
              "      <td>M</td>\n",
              "      <td>NEW DELHI</td>\n",
              "      <td>92852.43</td>\n",
              "      <td>26/8/16</td>\n",
              "      <td>190110</td>\n",
              "      <td>500.00</td>\n",
              "    </tr>\n",
              "    <tr>\n",
              "      <th>508992</th>\n",
              "      <td>T508993</td>\n",
              "      <td>C6520256</td>\n",
              "      <td>27/10/91</td>\n",
              "      <td>F</td>\n",
              "      <td>CHANDIGARH</td>\n",
              "      <td>10007.59</td>\n",
              "      <td>19/8/16</td>\n",
              "      <td>180410</td>\n",
              "      <td>89.00</td>\n",
              "    </tr>\n",
              "  </tbody>\n",
              "</table>\n",
              "</div>\n",
              "      <button class=\"colab-df-convert\" onclick=\"convertToInteractive('df-00f8cd67-c540-4f03-9205-d69a246721e5')\"\n",
              "              title=\"Convert this dataframe to an interactive table.\"\n",
              "              style=\"display:none;\">\n",
              "        \n",
              "  <svg xmlns=\"http://www.w3.org/2000/svg\" height=\"24px\"viewBox=\"0 0 24 24\"\n",
              "       width=\"24px\">\n",
              "    <path d=\"M0 0h24v24H0V0z\" fill=\"none\"/>\n",
              "    <path d=\"M18.56 5.44l.94 2.06.94-2.06 2.06-.94-2.06-.94-.94-2.06-.94 2.06-2.06.94zm-11 1L8.5 8.5l.94-2.06 2.06-.94-2.06-.94L8.5 2.5l-.94 2.06-2.06.94zm10 10l.94 2.06.94-2.06 2.06-.94-2.06-.94-.94-2.06-.94 2.06-2.06.94z\"/><path d=\"M17.41 7.96l-1.37-1.37c-.4-.4-.92-.59-1.43-.59-.52 0-1.04.2-1.43.59L10.3 9.45l-7.72 7.72c-.78.78-.78 2.05 0 2.83L4 21.41c.39.39.9.59 1.41.59.51 0 1.02-.2 1.41-.59l7.78-7.78 2.81-2.81c.8-.78.8-2.07 0-2.86zM5.41 20L4 18.59l7.72-7.72 1.47 1.35L5.41 20z\"/>\n",
              "  </svg>\n",
              "      </button>\n",
              "      \n",
              "  <style>\n",
              "    .colab-df-container {\n",
              "      display:flex;\n",
              "      flex-wrap:wrap;\n",
              "      gap: 12px;\n",
              "    }\n",
              "\n",
              "    .colab-df-convert {\n",
              "      background-color: #E8F0FE;\n",
              "      border: none;\n",
              "      border-radius: 50%;\n",
              "      cursor: pointer;\n",
              "      display: none;\n",
              "      fill: #1967D2;\n",
              "      height: 32px;\n",
              "      padding: 0 0 0 0;\n",
              "      width: 32px;\n",
              "    }\n",
              "\n",
              "    .colab-df-convert:hover {\n",
              "      background-color: #E2EBFA;\n",
              "      box-shadow: 0px 1px 2px rgba(60, 64, 67, 0.3), 0px 1px 3px 1px rgba(60, 64, 67, 0.15);\n",
              "      fill: #174EA6;\n",
              "    }\n",
              "\n",
              "    [theme=dark] .colab-df-convert {\n",
              "      background-color: #3B4455;\n",
              "      fill: #D2E3FC;\n",
              "    }\n",
              "\n",
              "    [theme=dark] .colab-df-convert:hover {\n",
              "      background-color: #434B5C;\n",
              "      box-shadow: 0px 1px 3px 1px rgba(0, 0, 0, 0.15);\n",
              "      filter: drop-shadow(0px 1px 2px rgba(0, 0, 0, 0.3));\n",
              "      fill: #FFFFFF;\n",
              "    }\n",
              "  </style>\n",
              "\n",
              "      <script>\n",
              "        const buttonEl =\n",
              "          document.querySelector('#df-00f8cd67-c540-4f03-9205-d69a246721e5 button.colab-df-convert');\n",
              "        buttonEl.style.display =\n",
              "          google.colab.kernel.accessAllowed ? 'block' : 'none';\n",
              "\n",
              "        async function convertToInteractive(key) {\n",
              "          const element = document.querySelector('#df-00f8cd67-c540-4f03-9205-d69a246721e5');\n",
              "          const dataTable =\n",
              "            await google.colab.kernel.invokeFunction('convertToInteractive',\n",
              "                                                     [key], {});\n",
              "          if (!dataTable) return;\n",
              "\n",
              "          const docLinkHtml = 'Like what you see? Visit the ' +\n",
              "            '<a target=\"_blank\" href=https://colab.research.google.com/notebooks/data_table.ipynb>data table notebook</a>'\n",
              "            + ' to learn more about interactive tables.';\n",
              "          element.innerHTML = '';\n",
              "          dataTable['output_type'] = 'display_data';\n",
              "          await google.colab.output.renderOutput(dataTable, element);\n",
              "          const docLink = document.createElement('div');\n",
              "          docLink.innerHTML = docLinkHtml;\n",
              "          element.appendChild(docLink);\n",
              "        }\n",
              "      </script>\n",
              "    </div>\n",
              "  </div>\n",
              "  "
            ]
          },
          "metadata": {},
          "execution_count": 7
        }
      ],
      "source": [
        "# sample randomly picked\n",
        "df.sample(5)"
      ]
    },
    {
      "cell_type": "code",
      "execution_count": 8,
      "metadata": {
        "execution": {
          "iopub.execute_input": "2022-06-30T18:57:36.709889Z",
          "iopub.status.busy": "2022-06-30T18:57:36.709540Z",
          "iopub.status.idle": "2022-06-30T18:57:37.274053Z",
          "shell.execute_reply": "2022-06-30T18:57:37.272832Z",
          "shell.execute_reply.started": "2022-06-30T18:57:36.709858Z"
        },
        "colab": {
          "base_uri": "https://localhost:8080/"
        },
        "id": "4xQMN7z3zUxQ",
        "outputId": "579d7228-313d-4117-f51c-c7fff99e4a61"
      },
      "outputs": [
        {
          "output_type": "execute_result",
          "data": {
            "text/plain": [
              "TransactionID                 0\n",
              "CustomerID                    0\n",
              "CustomerDOB                3397\n",
              "CustGender                 1100\n",
              "CustLocation                151\n",
              "CustAccountBalance         2369\n",
              "TransactionDate               0\n",
              "TransactionTime               0\n",
              "TransactionAmount (INR)       0\n",
              "dtype: int64"
            ]
          },
          "metadata": {},
          "execution_count": 8
        }
      ],
      "source": [
        "# check presence of nulls\n",
        "df.isna().sum()"
      ]
    },
    {
      "cell_type": "code",
      "execution_count": 9,
      "metadata": {
        "execution": {
          "iopub.execute_input": "2022-06-30T18:57:37.277745Z",
          "iopub.status.busy": "2022-06-30T18:57:37.277379Z",
          "iopub.status.idle": "2022-06-30T18:57:37.835837Z",
          "shell.execute_reply": "2022-06-30T18:57:37.834380Z",
          "shell.execute_reply.started": "2022-06-30T18:57:37.277713Z"
        },
        "colab": {
          "base_uri": "https://localhost:8080/"
        },
        "id": "Kwwbfjc2zUxT",
        "outputId": "e4a6b034-4679-42ff-b111-42a6297617fe"
      },
      "outputs": [
        {
          "output_type": "execute_result",
          "data": {
            "text/plain": [
              "TransactionID              0.000000\n",
              "CustomerID                 0.000000\n",
              "CustomerDOB                0.003240\n",
              "CustGender                 0.001049\n",
              "CustLocation               0.000144\n",
              "CustAccountBalance         0.002259\n",
              "TransactionDate            0.000000\n",
              "TransactionTime            0.000000\n",
              "TransactionAmount (INR)    0.000000\n",
              "dtype: float64"
            ]
          },
          "metadata": {},
          "execution_count": 9
        }
      ],
      "source": [
        "# percentage nulls\n",
        "df.isna().sum()/df.shape[0]"
      ]
    },
    {
      "cell_type": "code",
      "execution_count": 10,
      "metadata": {
        "execution": {
          "iopub.execute_input": "2022-06-30T18:57:37.838387Z",
          "iopub.status.busy": "2022-06-30T18:57:37.837484Z",
          "iopub.status.idle": "2022-06-30T18:57:38.520399Z",
          "shell.execute_reply": "2022-06-30T18:57:38.519190Z",
          "shell.execute_reply.started": "2022-06-30T18:57:37.838322Z"
        },
        "colab": {
          "base_uri": "https://localhost:8080/"
        },
        "id": "Pw0FCo5ozUxU",
        "outputId": "dcd0ac3c-594b-4139-a259-9b61410c8995"
      },
      "outputs": [
        {
          "output_type": "stream",
          "name": "stdout",
          "text": [
            "There are  1048567 records before dropping nulls\n",
            "There are  1041614 records after dropping nulls\n"
          ]
        }
      ],
      "source": [
        "# drop all nulls since they account for less than 1% of the total records\n",
        "# Also for columns like customerAccountBance should not be nulls, the nulls might be unrecorded values\n",
        "print(f\"There are  {df.shape[0]} records before dropping nulls\")\n",
        "\n",
        "# drop them\n",
        "df.dropna(inplace=True)\n",
        "\n",
        "print(f\"There are  {df.shape[0]} records after dropping nulls\")\n"
      ]
    },
    {
      "cell_type": "code",
      "execution_count": 11,
      "metadata": {
        "execution": {
          "iopub.execute_input": "2022-06-30T18:57:38.522129Z",
          "iopub.status.busy": "2022-06-30T18:57:38.521819Z",
          "iopub.status.idle": "2022-06-30T18:57:38.526962Z",
          "shell.execute_reply": "2022-06-30T18:57:38.525756Z",
          "shell.execute_reply.started": "2022-06-30T18:57:38.522099Z"
        },
        "id": "V_bpNW_OzUxV"
      },
      "outputs": [],
      "source": [
        "# about 6953 records were dropped"
      ]
    },
    {
      "cell_type": "code",
      "execution_count": 12,
      "metadata": {
        "execution": {
          "iopub.execute_input": "2022-06-30T18:57:38.530402Z",
          "iopub.status.busy": "2022-06-30T18:57:38.530033Z",
          "iopub.status.idle": "2022-06-30T18:57:39.089953Z",
          "shell.execute_reply": "2022-06-30T18:57:39.088672Z",
          "shell.execute_reply.started": "2022-06-30T18:57:38.530360Z"
        },
        "colab": {
          "base_uri": "https://localhost:8080/"
        },
        "id": "w1Dfir5qzUxV",
        "outputId": "7373df39-3a36-4de9-c088-a7d9ab8edee0"
      },
      "outputs": [
        {
          "output_type": "execute_result",
          "data": {
            "text/plain": [
              "TransactionID              0\n",
              "CustomerID                 0\n",
              "CustomerDOB                0\n",
              "CustGender                 0\n",
              "CustLocation               0\n",
              "CustAccountBalance         0\n",
              "TransactionDate            0\n",
              "TransactionTime            0\n",
              "TransactionAmount (INR)    0\n",
              "dtype: int64"
            ]
          },
          "metadata": {},
          "execution_count": 12
        }
      ],
      "source": [
        "df.isna().sum()"
      ]
    },
    {
      "cell_type": "markdown",
      "metadata": {
        "id": "THfGPOfvzUxW"
      },
      "source": [
        "### Observation\n",
        "- From the null analysis, it is observed that null values were present in the following\n",
        "        CustomerDOB                3397 records with nulls\n",
        "        CustGender                 1100 records with nulls\n",
        "        CustLocation                151 records with nulls\n",
        "        CustAccountBalance         2369 records with nulls\n",
        "\n",
        "- As the data keeps record of transactions, A record with CustAccountBalance as null is not relevant so it will dropped. Since the null records did not even accumulate over 1% of the whole records, removing them will be an easier way to go. In order to make work easier all nulls are going to be removed.\n",
        "- After removing all null records, there was 1041614 records which remained."
      ]
    },
    {
      "cell_type": "code",
      "execution_count": 13,
      "metadata": {
        "execution": {
          "iopub.execute_input": "2022-06-30T18:57:39.092018Z",
          "iopub.status.busy": "2022-06-30T18:57:39.091550Z",
          "iopub.status.idle": "2022-06-30T18:57:39.107065Z",
          "shell.execute_reply": "2022-06-30T18:57:39.105740Z",
          "shell.execute_reply.started": "2022-06-30T18:57:39.091984Z"
        },
        "colab": {
          "base_uri": "https://localhost:8080/",
          "height": 49
        },
        "id": "2vYJ9FuZzUxW",
        "outputId": "06c83947-453c-4a84-dc1e-c0c5636712f2"
      },
      "outputs": [
        {
          "output_type": "execute_result",
          "data": {
            "text/plain": [
              "Empty DataFrame\n",
              "Columns: [TransactionID, CustomerID, CustomerDOB, CustGender, CustLocation, CustAccountBalance, TransactionDate, TransactionTime, TransactionAmount (INR)]\n",
              "Index: []"
            ],
            "text/html": [
              "\n",
              "  <div id=\"df-44501754-7f21-450b-9324-d274a0c1c761\">\n",
              "    <div class=\"colab-df-container\">\n",
              "      <div>\n",
              "<style scoped>\n",
              "    .dataframe tbody tr th:only-of-type {\n",
              "        vertical-align: middle;\n",
              "    }\n",
              "\n",
              "    .dataframe tbody tr th {\n",
              "        vertical-align: top;\n",
              "    }\n",
              "\n",
              "    .dataframe thead th {\n",
              "        text-align: right;\n",
              "    }\n",
              "</style>\n",
              "<table border=\"1\" class=\"dataframe\">\n",
              "  <thead>\n",
              "    <tr style=\"text-align: right;\">\n",
              "      <th></th>\n",
              "      <th>TransactionID</th>\n",
              "      <th>CustomerID</th>\n",
              "      <th>CustomerDOB</th>\n",
              "      <th>CustGender</th>\n",
              "      <th>CustLocation</th>\n",
              "      <th>CustAccountBalance</th>\n",
              "      <th>TransactionDate</th>\n",
              "      <th>TransactionTime</th>\n",
              "      <th>TransactionAmount (INR)</th>\n",
              "    </tr>\n",
              "  </thead>\n",
              "  <tbody>\n",
              "  </tbody>\n",
              "</table>\n",
              "</div>\n",
              "      <button class=\"colab-df-convert\" onclick=\"convertToInteractive('df-44501754-7f21-450b-9324-d274a0c1c761')\"\n",
              "              title=\"Convert this dataframe to an interactive table.\"\n",
              "              style=\"display:none;\">\n",
              "        \n",
              "  <svg xmlns=\"http://www.w3.org/2000/svg\" height=\"24px\"viewBox=\"0 0 24 24\"\n",
              "       width=\"24px\">\n",
              "    <path d=\"M0 0h24v24H0V0z\" fill=\"none\"/>\n",
              "    <path d=\"M18.56 5.44l.94 2.06.94-2.06 2.06-.94-2.06-.94-.94-2.06-.94 2.06-2.06.94zm-11 1L8.5 8.5l.94-2.06 2.06-.94-2.06-.94L8.5 2.5l-.94 2.06-2.06.94zm10 10l.94 2.06.94-2.06 2.06-.94-2.06-.94-.94-2.06-.94 2.06-2.06.94z\"/><path d=\"M17.41 7.96l-1.37-1.37c-.4-.4-.92-.59-1.43-.59-.52 0-1.04.2-1.43.59L10.3 9.45l-7.72 7.72c-.78.78-.78 2.05 0 2.83L4 21.41c.39.39.9.59 1.41.59.51 0 1.02-.2 1.41-.59l7.78-7.78 2.81-2.81c.8-.78.8-2.07 0-2.86zM5.41 20L4 18.59l7.72-7.72 1.47 1.35L5.41 20z\"/>\n",
              "  </svg>\n",
              "      </button>\n",
              "      \n",
              "  <style>\n",
              "    .colab-df-container {\n",
              "      display:flex;\n",
              "      flex-wrap:wrap;\n",
              "      gap: 12px;\n",
              "    }\n",
              "\n",
              "    .colab-df-convert {\n",
              "      background-color: #E8F0FE;\n",
              "      border: none;\n",
              "      border-radius: 50%;\n",
              "      cursor: pointer;\n",
              "      display: none;\n",
              "      fill: #1967D2;\n",
              "      height: 32px;\n",
              "      padding: 0 0 0 0;\n",
              "      width: 32px;\n",
              "    }\n",
              "\n",
              "    .colab-df-convert:hover {\n",
              "      background-color: #E2EBFA;\n",
              "      box-shadow: 0px 1px 2px rgba(60, 64, 67, 0.3), 0px 1px 3px 1px rgba(60, 64, 67, 0.15);\n",
              "      fill: #174EA6;\n",
              "    }\n",
              "\n",
              "    [theme=dark] .colab-df-convert {\n",
              "      background-color: #3B4455;\n",
              "      fill: #D2E3FC;\n",
              "    }\n",
              "\n",
              "    [theme=dark] .colab-df-convert:hover {\n",
              "      background-color: #434B5C;\n",
              "      box-shadow: 0px 1px 3px 1px rgba(0, 0, 0, 0.15);\n",
              "      filter: drop-shadow(0px 1px 2px rgba(0, 0, 0, 0.3));\n",
              "      fill: #FFFFFF;\n",
              "    }\n",
              "  </style>\n",
              "\n",
              "      <script>\n",
              "        const buttonEl =\n",
              "          document.querySelector('#df-44501754-7f21-450b-9324-d274a0c1c761 button.colab-df-convert');\n",
              "        buttonEl.style.display =\n",
              "          google.colab.kernel.accessAllowed ? 'block' : 'none';\n",
              "\n",
              "        async function convertToInteractive(key) {\n",
              "          const element = document.querySelector('#df-44501754-7f21-450b-9324-d274a0c1c761');\n",
              "          const dataTable =\n",
              "            await google.colab.kernel.invokeFunction('convertToInteractive',\n",
              "                                                     [key], {});\n",
              "          if (!dataTable) return;\n",
              "\n",
              "          const docLinkHtml = 'Like what you see? Visit the ' +\n",
              "            '<a target=\"_blank\" href=https://colab.research.google.com/notebooks/data_table.ipynb>data table notebook</a>'\n",
              "            + ' to learn more about interactive tables.';\n",
              "          element.innerHTML = '';\n",
              "          dataTable['output_type'] = 'display_data';\n",
              "          await google.colab.output.renderOutput(dataTable, element);\n",
              "          const docLink = document.createElement('div');\n",
              "          docLink.innerHTML = docLinkHtml;\n",
              "          element.appendChild(docLink);\n",
              "        }\n",
              "      </script>\n",
              "    </div>\n",
              "  </div>\n",
              "  "
            ]
          },
          "metadata": {},
          "execution_count": 13
        }
      ],
      "source": [
        "# check if there is a customer with less than zero balance (Backruptcy)\n",
        "df[df['CustAccountBalance']<0]"
      ]
    },
    {
      "cell_type": "code",
      "execution_count": 14,
      "metadata": {
        "execution": {
          "iopub.execute_input": "2022-06-30T18:57:39.108890Z",
          "iopub.status.busy": "2022-06-30T18:57:39.108534Z",
          "iopub.status.idle": "2022-06-30T18:57:39.123375Z",
          "shell.execute_reply": "2022-06-30T18:57:39.122444Z",
          "shell.execute_reply.started": "2022-06-30T18:57:39.108859Z"
        },
        "colab": {
          "base_uri": "https://localhost:8080/",
          "height": 49
        },
        "id": "70S6NeFhzUxX",
        "outputId": "94b1cf42-5963-471c-ad7a-7a743ae9de16"
      },
      "outputs": [
        {
          "output_type": "execute_result",
          "data": {
            "text/plain": [
              "Empty DataFrame\n",
              "Columns: [TransactionID, CustomerID, CustomerDOB, CustGender, CustLocation, CustAccountBalance, TransactionDate, TransactionTime, TransactionAmount (INR)]\n",
              "Index: []"
            ],
            "text/html": [
              "\n",
              "  <div id=\"df-c1ff5ca7-b208-4b02-948e-5981f50bd665\">\n",
              "    <div class=\"colab-df-container\">\n",
              "      <div>\n",
              "<style scoped>\n",
              "    .dataframe tbody tr th:only-of-type {\n",
              "        vertical-align: middle;\n",
              "    }\n",
              "\n",
              "    .dataframe tbody tr th {\n",
              "        vertical-align: top;\n",
              "    }\n",
              "\n",
              "    .dataframe thead th {\n",
              "        text-align: right;\n",
              "    }\n",
              "</style>\n",
              "<table border=\"1\" class=\"dataframe\">\n",
              "  <thead>\n",
              "    <tr style=\"text-align: right;\">\n",
              "      <th></th>\n",
              "      <th>TransactionID</th>\n",
              "      <th>CustomerID</th>\n",
              "      <th>CustomerDOB</th>\n",
              "      <th>CustGender</th>\n",
              "      <th>CustLocation</th>\n",
              "      <th>CustAccountBalance</th>\n",
              "      <th>TransactionDate</th>\n",
              "      <th>TransactionTime</th>\n",
              "      <th>TransactionAmount (INR)</th>\n",
              "    </tr>\n",
              "  </thead>\n",
              "  <tbody>\n",
              "  </tbody>\n",
              "</table>\n",
              "</div>\n",
              "      <button class=\"colab-df-convert\" onclick=\"convertToInteractive('df-c1ff5ca7-b208-4b02-948e-5981f50bd665')\"\n",
              "              title=\"Convert this dataframe to an interactive table.\"\n",
              "              style=\"display:none;\">\n",
              "        \n",
              "  <svg xmlns=\"http://www.w3.org/2000/svg\" height=\"24px\"viewBox=\"0 0 24 24\"\n",
              "       width=\"24px\">\n",
              "    <path d=\"M0 0h24v24H0V0z\" fill=\"none\"/>\n",
              "    <path d=\"M18.56 5.44l.94 2.06.94-2.06 2.06-.94-2.06-.94-.94-2.06-.94 2.06-2.06.94zm-11 1L8.5 8.5l.94-2.06 2.06-.94-2.06-.94L8.5 2.5l-.94 2.06-2.06.94zm10 10l.94 2.06.94-2.06 2.06-.94-2.06-.94-.94-2.06-.94 2.06-2.06.94z\"/><path d=\"M17.41 7.96l-1.37-1.37c-.4-.4-.92-.59-1.43-.59-.52 0-1.04.2-1.43.59L10.3 9.45l-7.72 7.72c-.78.78-.78 2.05 0 2.83L4 21.41c.39.39.9.59 1.41.59.51 0 1.02-.2 1.41-.59l7.78-7.78 2.81-2.81c.8-.78.8-2.07 0-2.86zM5.41 20L4 18.59l7.72-7.72 1.47 1.35L5.41 20z\"/>\n",
              "  </svg>\n",
              "      </button>\n",
              "      \n",
              "  <style>\n",
              "    .colab-df-container {\n",
              "      display:flex;\n",
              "      flex-wrap:wrap;\n",
              "      gap: 12px;\n",
              "    }\n",
              "\n",
              "    .colab-df-convert {\n",
              "      background-color: #E8F0FE;\n",
              "      border: none;\n",
              "      border-radius: 50%;\n",
              "      cursor: pointer;\n",
              "      display: none;\n",
              "      fill: #1967D2;\n",
              "      height: 32px;\n",
              "      padding: 0 0 0 0;\n",
              "      width: 32px;\n",
              "    }\n",
              "\n",
              "    .colab-df-convert:hover {\n",
              "      background-color: #E2EBFA;\n",
              "      box-shadow: 0px 1px 2px rgba(60, 64, 67, 0.3), 0px 1px 3px 1px rgba(60, 64, 67, 0.15);\n",
              "      fill: #174EA6;\n",
              "    }\n",
              "\n",
              "    [theme=dark] .colab-df-convert {\n",
              "      background-color: #3B4455;\n",
              "      fill: #D2E3FC;\n",
              "    }\n",
              "\n",
              "    [theme=dark] .colab-df-convert:hover {\n",
              "      background-color: #434B5C;\n",
              "      box-shadow: 0px 1px 3px 1px rgba(0, 0, 0, 0.15);\n",
              "      filter: drop-shadow(0px 1px 2px rgba(0, 0, 0, 0.3));\n",
              "      fill: #FFFFFF;\n",
              "    }\n",
              "  </style>\n",
              "\n",
              "      <script>\n",
              "        const buttonEl =\n",
              "          document.querySelector('#df-c1ff5ca7-b208-4b02-948e-5981f50bd665 button.colab-df-convert');\n",
              "        buttonEl.style.display =\n",
              "          google.colab.kernel.accessAllowed ? 'block' : 'none';\n",
              "\n",
              "        async function convertToInteractive(key) {\n",
              "          const element = document.querySelector('#df-c1ff5ca7-b208-4b02-948e-5981f50bd665');\n",
              "          const dataTable =\n",
              "            await google.colab.kernel.invokeFunction('convertToInteractive',\n",
              "                                                     [key], {});\n",
              "          if (!dataTable) return;\n",
              "\n",
              "          const docLinkHtml = 'Like what you see? Visit the ' +\n",
              "            '<a target=\"_blank\" href=https://colab.research.google.com/notebooks/data_table.ipynb>data table notebook</a>'\n",
              "            + ' to learn more about interactive tables.';\n",
              "          element.innerHTML = '';\n",
              "          dataTable['output_type'] = 'display_data';\n",
              "          await google.colab.output.renderOutput(dataTable, element);\n",
              "          const docLink = document.createElement('div');\n",
              "          docLink.innerHTML = docLinkHtml;\n",
              "          element.appendChild(docLink);\n",
              "        }\n",
              "      </script>\n",
              "    </div>\n",
              "  </div>\n",
              "  "
            ]
          },
          "metadata": {},
          "execution_count": 14
        }
      ],
      "source": [
        "# check if there is a customer who transacted with negative values, they might be outliers\n",
        "df[df['TransactionAmount (INR)']<0]"
      ]
    },
    {
      "cell_type": "code",
      "execution_count": 15,
      "metadata": {
        "execution": {
          "iopub.execute_input": "2022-06-30T18:57:39.126808Z",
          "iopub.status.busy": "2022-06-30T18:57:39.125912Z",
          "iopub.status.idle": "2022-06-30T18:57:40.935680Z",
          "shell.execute_reply": "2022-06-30T18:57:40.934403Z",
          "shell.execute_reply.started": "2022-06-30T18:57:39.126736Z"
        },
        "colab": {
          "base_uri": "https://localhost:8080/",
          "height": 49
        },
        "id": "tGcRgQYfzUxX",
        "outputId": "a937da6b-b753-4399-eb3d-40db42786970"
      },
      "outputs": [
        {
          "output_type": "execute_result",
          "data": {
            "text/plain": [
              "Empty DataFrame\n",
              "Columns: [TransactionID, CustomerID, CustomerDOB, CustGender, CustLocation, CustAccountBalance, TransactionDate, TransactionTime, TransactionAmount (INR)]\n",
              "Index: []"
            ],
            "text/html": [
              "\n",
              "  <div id=\"df-88156743-2bd5-4059-91e5-48162017c956\">\n",
              "    <div class=\"colab-df-container\">\n",
              "      <div>\n",
              "<style scoped>\n",
              "    .dataframe tbody tr th:only-of-type {\n",
              "        vertical-align: middle;\n",
              "    }\n",
              "\n",
              "    .dataframe tbody tr th {\n",
              "        vertical-align: top;\n",
              "    }\n",
              "\n",
              "    .dataframe thead th {\n",
              "        text-align: right;\n",
              "    }\n",
              "</style>\n",
              "<table border=\"1\" class=\"dataframe\">\n",
              "  <thead>\n",
              "    <tr style=\"text-align: right;\">\n",
              "      <th></th>\n",
              "      <th>TransactionID</th>\n",
              "      <th>CustomerID</th>\n",
              "      <th>CustomerDOB</th>\n",
              "      <th>CustGender</th>\n",
              "      <th>CustLocation</th>\n",
              "      <th>CustAccountBalance</th>\n",
              "      <th>TransactionDate</th>\n",
              "      <th>TransactionTime</th>\n",
              "      <th>TransactionAmount (INR)</th>\n",
              "    </tr>\n",
              "  </thead>\n",
              "  <tbody>\n",
              "  </tbody>\n",
              "</table>\n",
              "</div>\n",
              "      <button class=\"colab-df-convert\" onclick=\"convertToInteractive('df-88156743-2bd5-4059-91e5-48162017c956')\"\n",
              "              title=\"Convert this dataframe to an interactive table.\"\n",
              "              style=\"display:none;\">\n",
              "        \n",
              "  <svg xmlns=\"http://www.w3.org/2000/svg\" height=\"24px\"viewBox=\"0 0 24 24\"\n",
              "       width=\"24px\">\n",
              "    <path d=\"M0 0h24v24H0V0z\" fill=\"none\"/>\n",
              "    <path d=\"M18.56 5.44l.94 2.06.94-2.06 2.06-.94-2.06-.94-.94-2.06-.94 2.06-2.06.94zm-11 1L8.5 8.5l.94-2.06 2.06-.94-2.06-.94L8.5 2.5l-.94 2.06-2.06.94zm10 10l.94 2.06.94-2.06 2.06-.94-2.06-.94-.94-2.06-.94 2.06-2.06.94z\"/><path d=\"M17.41 7.96l-1.37-1.37c-.4-.4-.92-.59-1.43-.59-.52 0-1.04.2-1.43.59L10.3 9.45l-7.72 7.72c-.78.78-.78 2.05 0 2.83L4 21.41c.39.39.9.59 1.41.59.51 0 1.02-.2 1.41-.59l7.78-7.78 2.81-2.81c.8-.78.8-2.07 0-2.86zM5.41 20L4 18.59l7.72-7.72 1.47 1.35L5.41 20z\"/>\n",
              "  </svg>\n",
              "      </button>\n",
              "      \n",
              "  <style>\n",
              "    .colab-df-container {\n",
              "      display:flex;\n",
              "      flex-wrap:wrap;\n",
              "      gap: 12px;\n",
              "    }\n",
              "\n",
              "    .colab-df-convert {\n",
              "      background-color: #E8F0FE;\n",
              "      border: none;\n",
              "      border-radius: 50%;\n",
              "      cursor: pointer;\n",
              "      display: none;\n",
              "      fill: #1967D2;\n",
              "      height: 32px;\n",
              "      padding: 0 0 0 0;\n",
              "      width: 32px;\n",
              "    }\n",
              "\n",
              "    .colab-df-convert:hover {\n",
              "      background-color: #E2EBFA;\n",
              "      box-shadow: 0px 1px 2px rgba(60, 64, 67, 0.3), 0px 1px 3px 1px rgba(60, 64, 67, 0.15);\n",
              "      fill: #174EA6;\n",
              "    }\n",
              "\n",
              "    [theme=dark] .colab-df-convert {\n",
              "      background-color: #3B4455;\n",
              "      fill: #D2E3FC;\n",
              "    }\n",
              "\n",
              "    [theme=dark] .colab-df-convert:hover {\n",
              "      background-color: #434B5C;\n",
              "      box-shadow: 0px 1px 3px 1px rgba(0, 0, 0, 0.15);\n",
              "      filter: drop-shadow(0px 1px 2px rgba(0, 0, 0, 0.3));\n",
              "      fill: #FFFFFF;\n",
              "    }\n",
              "  </style>\n",
              "\n",
              "      <script>\n",
              "        const buttonEl =\n",
              "          document.querySelector('#df-88156743-2bd5-4059-91e5-48162017c956 button.colab-df-convert');\n",
              "        buttonEl.style.display =\n",
              "          google.colab.kernel.accessAllowed ? 'block' : 'none';\n",
              "\n",
              "        async function convertToInteractive(key) {\n",
              "          const element = document.querySelector('#df-88156743-2bd5-4059-91e5-48162017c956');\n",
              "          const dataTable =\n",
              "            await google.colab.kernel.invokeFunction('convertToInteractive',\n",
              "                                                     [key], {});\n",
              "          if (!dataTable) return;\n",
              "\n",
              "          const docLinkHtml = 'Like what you see? Visit the ' +\n",
              "            '<a target=\"_blank\" href=https://colab.research.google.com/notebooks/data_table.ipynb>data table notebook</a>'\n",
              "            + ' to learn more about interactive tables.';\n",
              "          element.innerHTML = '';\n",
              "          dataTable['output_type'] = 'display_data';\n",
              "          await google.colab.output.renderOutput(dataTable, element);\n",
              "          const docLink = document.createElement('div');\n",
              "          docLink.innerHTML = docLinkHtml;\n",
              "          element.appendChild(docLink);\n",
              "        }\n",
              "      </script>\n",
              "    </div>\n",
              "  </div>\n",
              "  "
            ]
          },
          "metadata": {},
          "execution_count": 15
        }
      ],
      "source": [
        "# check if there is duplicated\n",
        "df[df.duplicated()]"
      ]
    },
    {
      "cell_type": "code",
      "execution_count": 16,
      "metadata": {
        "execution": {
          "iopub.execute_input": "2022-06-30T18:57:40.937899Z",
          "iopub.status.busy": "2022-06-30T18:57:40.937440Z",
          "iopub.status.idle": "2022-06-30T18:57:41.086988Z",
          "shell.execute_reply": "2022-06-30T18:57:41.085996Z",
          "shell.execute_reply.started": "2022-06-30T18:57:40.937864Z"
        },
        "colab": {
          "base_uri": "https://localhost:8080/",
          "height": 143
        },
        "id": "KPSGwXLTzUxY",
        "outputId": "a8c43302-1f98-45a3-ad55-751b0df953f6"
      },
      "outputs": [
        {
          "output_type": "execute_result",
          "data": {
            "text/plain": [
              "                             count           mean            std  min  \\\n",
              "CustAccountBalance       1041614.0  114998.605283  846760.940316  0.0   \n",
              "TransactionTime          1041614.0  157122.116378   51263.516076  0.0   \n",
              "TransactionAmount (INR)  1041614.0    1566.096079    6561.464373  0.0   \n",
              "\n",
              "                               25%        50%        75%           max  \n",
              "CustAccountBalance         4728.14   16768.52   57428.85  1.150355e+08  \n",
              "TransactionTime          124041.00  164247.00  200022.00  2.359590e+05  \n",
              "TransactionAmount (INR)     160.00     457.50    1200.00  1.560035e+06  "
            ],
            "text/html": [
              "\n",
              "  <div id=\"df-3a8db9b0-c5ec-4279-923e-8ee1194c58ec\">\n",
              "    <div class=\"colab-df-container\">\n",
              "      <div>\n",
              "<style scoped>\n",
              "    .dataframe tbody tr th:only-of-type {\n",
              "        vertical-align: middle;\n",
              "    }\n",
              "\n",
              "    .dataframe tbody tr th {\n",
              "        vertical-align: top;\n",
              "    }\n",
              "\n",
              "    .dataframe thead th {\n",
              "        text-align: right;\n",
              "    }\n",
              "</style>\n",
              "<table border=\"1\" class=\"dataframe\">\n",
              "  <thead>\n",
              "    <tr style=\"text-align: right;\">\n",
              "      <th></th>\n",
              "      <th>count</th>\n",
              "      <th>mean</th>\n",
              "      <th>std</th>\n",
              "      <th>min</th>\n",
              "      <th>25%</th>\n",
              "      <th>50%</th>\n",
              "      <th>75%</th>\n",
              "      <th>max</th>\n",
              "    </tr>\n",
              "  </thead>\n",
              "  <tbody>\n",
              "    <tr>\n",
              "      <th>CustAccountBalance</th>\n",
              "      <td>1041614.0</td>\n",
              "      <td>114998.605283</td>\n",
              "      <td>846760.940316</td>\n",
              "      <td>0.0</td>\n",
              "      <td>4728.14</td>\n",
              "      <td>16768.52</td>\n",
              "      <td>57428.85</td>\n",
              "      <td>1.150355e+08</td>\n",
              "    </tr>\n",
              "    <tr>\n",
              "      <th>TransactionTime</th>\n",
              "      <td>1041614.0</td>\n",
              "      <td>157122.116378</td>\n",
              "      <td>51263.516076</td>\n",
              "      <td>0.0</td>\n",
              "      <td>124041.00</td>\n",
              "      <td>164247.00</td>\n",
              "      <td>200022.00</td>\n",
              "      <td>2.359590e+05</td>\n",
              "    </tr>\n",
              "    <tr>\n",
              "      <th>TransactionAmount (INR)</th>\n",
              "      <td>1041614.0</td>\n",
              "      <td>1566.096079</td>\n",
              "      <td>6561.464373</td>\n",
              "      <td>0.0</td>\n",
              "      <td>160.00</td>\n",
              "      <td>457.50</td>\n",
              "      <td>1200.00</td>\n",
              "      <td>1.560035e+06</td>\n",
              "    </tr>\n",
              "  </tbody>\n",
              "</table>\n",
              "</div>\n",
              "      <button class=\"colab-df-convert\" onclick=\"convertToInteractive('df-3a8db9b0-c5ec-4279-923e-8ee1194c58ec')\"\n",
              "              title=\"Convert this dataframe to an interactive table.\"\n",
              "              style=\"display:none;\">\n",
              "        \n",
              "  <svg xmlns=\"http://www.w3.org/2000/svg\" height=\"24px\"viewBox=\"0 0 24 24\"\n",
              "       width=\"24px\">\n",
              "    <path d=\"M0 0h24v24H0V0z\" fill=\"none\"/>\n",
              "    <path d=\"M18.56 5.44l.94 2.06.94-2.06 2.06-.94-2.06-.94-.94-2.06-.94 2.06-2.06.94zm-11 1L8.5 8.5l.94-2.06 2.06-.94-2.06-.94L8.5 2.5l-.94 2.06-2.06.94zm10 10l.94 2.06.94-2.06 2.06-.94-2.06-.94-.94-2.06-.94 2.06-2.06.94z\"/><path d=\"M17.41 7.96l-1.37-1.37c-.4-.4-.92-.59-1.43-.59-.52 0-1.04.2-1.43.59L10.3 9.45l-7.72 7.72c-.78.78-.78 2.05 0 2.83L4 21.41c.39.39.9.59 1.41.59.51 0 1.02-.2 1.41-.59l7.78-7.78 2.81-2.81c.8-.78.8-2.07 0-2.86zM5.41 20L4 18.59l7.72-7.72 1.47 1.35L5.41 20z\"/>\n",
              "  </svg>\n",
              "      </button>\n",
              "      \n",
              "  <style>\n",
              "    .colab-df-container {\n",
              "      display:flex;\n",
              "      flex-wrap:wrap;\n",
              "      gap: 12px;\n",
              "    }\n",
              "\n",
              "    .colab-df-convert {\n",
              "      background-color: #E8F0FE;\n",
              "      border: none;\n",
              "      border-radius: 50%;\n",
              "      cursor: pointer;\n",
              "      display: none;\n",
              "      fill: #1967D2;\n",
              "      height: 32px;\n",
              "      padding: 0 0 0 0;\n",
              "      width: 32px;\n",
              "    }\n",
              "\n",
              "    .colab-df-convert:hover {\n",
              "      background-color: #E2EBFA;\n",
              "      box-shadow: 0px 1px 2px rgba(60, 64, 67, 0.3), 0px 1px 3px 1px rgba(60, 64, 67, 0.15);\n",
              "      fill: #174EA6;\n",
              "    }\n",
              "\n",
              "    [theme=dark] .colab-df-convert {\n",
              "      background-color: #3B4455;\n",
              "      fill: #D2E3FC;\n",
              "    }\n",
              "\n",
              "    [theme=dark] .colab-df-convert:hover {\n",
              "      background-color: #434B5C;\n",
              "      box-shadow: 0px 1px 3px 1px rgba(0, 0, 0, 0.15);\n",
              "      filter: drop-shadow(0px 1px 2px rgba(0, 0, 0, 0.3));\n",
              "      fill: #FFFFFF;\n",
              "    }\n",
              "  </style>\n",
              "\n",
              "      <script>\n",
              "        const buttonEl =\n",
              "          document.querySelector('#df-3a8db9b0-c5ec-4279-923e-8ee1194c58ec button.colab-df-convert');\n",
              "        buttonEl.style.display =\n",
              "          google.colab.kernel.accessAllowed ? 'block' : 'none';\n",
              "\n",
              "        async function convertToInteractive(key) {\n",
              "          const element = document.querySelector('#df-3a8db9b0-c5ec-4279-923e-8ee1194c58ec');\n",
              "          const dataTable =\n",
              "            await google.colab.kernel.invokeFunction('convertToInteractive',\n",
              "                                                     [key], {});\n",
              "          if (!dataTable) return;\n",
              "\n",
              "          const docLinkHtml = 'Like what you see? Visit the ' +\n",
              "            '<a target=\"_blank\" href=https://colab.research.google.com/notebooks/data_table.ipynb>data table notebook</a>'\n",
              "            + ' to learn more about interactive tables.';\n",
              "          element.innerHTML = '';\n",
              "          dataTable['output_type'] = 'display_data';\n",
              "          await google.colab.output.renderOutput(dataTable, element);\n",
              "          const docLink = document.createElement('div');\n",
              "          docLink.innerHTML = docLinkHtml;\n",
              "          element.appendChild(docLink);\n",
              "        }\n",
              "      </script>\n",
              "    </div>\n",
              "  </div>\n",
              "  "
            ]
          },
          "metadata": {},
          "execution_count": 16
        }
      ],
      "source": [
        "# summary starts of numnerical columns\n",
        "df.describe().T"
      ]
    },
    {
      "cell_type": "code",
      "execution_count": 17,
      "metadata": {
        "execution": {
          "iopub.execute_input": "2022-06-30T18:57:41.089123Z",
          "iopub.status.busy": "2022-06-30T18:57:41.088371Z",
          "iopub.status.idle": "2022-06-30T18:57:41.096865Z",
          "shell.execute_reply": "2022-06-30T18:57:41.095481Z",
          "shell.execute_reply.started": "2022-06-30T18:57:41.089087Z"
        },
        "colab": {
          "base_uri": "https://localhost:8080/"
        },
        "id": "mRk2rC-7zUxZ",
        "outputId": "5a9df7c4-e5bc-484c-d3e9-7159bfcdb759"
      },
      "outputs": [
        {
          "output_type": "execute_result",
          "data": {
            "text/plain": [
              "Index(['TransactionID', 'CustomerID', 'CustomerDOB', 'CustGender',\n",
              "       'CustLocation', 'CustAccountBalance', 'TransactionDate',\n",
              "       'TransactionTime', 'TransactionAmount (INR)'],\n",
              "      dtype='object')"
            ]
          },
          "metadata": {},
          "execution_count": 17
        }
      ],
      "source": [
        "# columns\n",
        "df.columns"
      ]
    },
    {
      "cell_type": "code",
      "execution_count": 18,
      "metadata": {
        "execution": {
          "iopub.execute_input": "2022-06-30T18:57:41.100238Z",
          "iopub.status.busy": "2022-06-30T18:57:41.099484Z",
          "iopub.status.idle": "2022-06-30T18:57:41.196024Z",
          "shell.execute_reply": "2022-06-30T18:57:41.194700Z",
          "shell.execute_reply.started": "2022-06-30T18:57:41.100200Z"
        },
        "colab": {
          "base_uri": "https://localhost:8080/"
        },
        "id": "sG7Jmm3bzUxZ",
        "outputId": "1e4c4c1a-5f88-4d8f-d606-1086e426c660"
      },
      "outputs": [
        {
          "output_type": "execute_result",
          "data": {
            "text/plain": [
              "Index(['CustomerDOB', 'CustGender', 'CustLocation', 'CustAccountBalance',\n",
              "       'TransactionDate', 'TransactionTime', 'TransactionAmount (INR)'],\n",
              "      dtype='object')"
            ]
          },
          "metadata": {},
          "execution_count": 18
        }
      ],
      "source": [
        "# drop customer and transaction IDS since there are not of much importance to the task\n",
        "\n",
        "df.drop(columns=['TransactionID', \"CustomerID\"], inplace =True)\n",
        "\n",
        "df.columns"
      ]
    },
    {
      "cell_type": "markdown",
      "metadata": {
        "id": "FBh0tF0WzUxZ"
      },
      "source": [
        "### Observation\n",
        "- There no values with negative values for , Customer Balance and Transaction amount since if there are negatives they might be meaning an overdraft.\n",
        "- The data did not also have duplicated values.\n",
        "- Columns that stores and are keep to identify a record are not that import in this tasks since the analysis will be generalizing the data.\n",
        "- TransactionID and customerID columns are going to be removed since they are unique Identifiers.\n",
        "- On observation on the numerical columns, it is clearly seen that TransactionAmount, accountBalance and Transaction time are very highly skewed this is when the value is observed between the mean and maximum is very big (`Also they have a large std value`)\n",
        "\n"
      ]
    },
    {
      "cell_type": "markdown",
      "metadata": {
        "id": "5MMJEFHSzUxa"
      },
      "source": [
        "### EDA PArt\n",
        "\n",
        "#### 1. How is Gender data distributed from the record\n",
        "\n",
        "\n",
        "- The record with gender value other F or M is going to be removed since they are the only one documented for in the dataset"
      ]
    },
    {
      "cell_type": "code",
      "execution_count": 19,
      "metadata": {
        "execution": {
          "iopub.execute_input": "2022-06-30T18:57:41.198726Z",
          "iopub.status.busy": "2022-06-30T18:57:41.198230Z",
          "iopub.status.idle": "2022-06-30T18:57:41.429527Z",
          "shell.execute_reply": "2022-06-30T18:57:41.428348Z",
          "shell.execute_reply.started": "2022-06-30T18:57:41.198681Z"
        },
        "id": "ID_-b53TzUxa"
      },
      "outputs": [],
      "source": [
        "# remove T in gender\n",
        "df = df[~(df['CustGender'] ==\"T\")]"
      ]
    },
    {
      "cell_type": "code",
      "execution_count": 20,
      "metadata": {
        "execution": {
          "iopub.execute_input": "2022-06-30T18:57:41.701702Z",
          "iopub.status.busy": "2022-06-30T18:57:41.701296Z",
          "iopub.status.idle": "2022-06-30T18:57:41.811470Z",
          "shell.execute_reply": "2022-06-30T18:57:41.810142Z",
          "shell.execute_reply.started": "2022-06-30T18:57:41.701655Z"
        },
        "colab": {
          "base_uri": "https://localhost:8080/"
        },
        "id": "ck6HvsUrzUxa",
        "outputId": "1b00e5eb-c483-4fa5-c452-ce1565f9dcd7"
      },
      "outputs": [
        {
          "output_type": "execute_result",
          "data": {
            "text/plain": [
              "M    0.730577\n",
              "F    0.269423\n",
              "Name: CustGender, dtype: float64"
            ]
          },
          "metadata": {},
          "execution_count": 20
        }
      ],
      "source": [
        "df.CustGender.value_counts(normalize=True, )"
      ]
    },
    {
      "cell_type": "code",
      "execution_count": 21,
      "metadata": {
        "execution": {
          "iopub.execute_input": "2022-06-30T18:57:42.303759Z",
          "iopub.status.busy": "2022-06-30T18:57:42.303349Z",
          "iopub.status.idle": "2022-06-30T18:57:42.583474Z",
          "shell.execute_reply": "2022-06-30T18:57:42.582087Z",
          "shell.execute_reply.started": "2022-06-30T18:57:42.303726Z"
        },
        "colab": {
          "base_uri": "https://localhost:8080/",
          "height": 487
        },
        "id": "WBnPYBwnzUxb",
        "outputId": "8d9e093c-3e0b-410c-c09e-4b647f528021"
      },
      "outputs": [
        {
          "output_type": "display_data",
          "data": {
            "text/plain": [
              "<Figure size 720x576 with 1 Axes>"
            ],
            "image/png": "[encoded data removed]"
          },
          "metadata": {}
        }
      ],
      "source": [
        "# get the gender data\n",
        "gender_data = df.CustGender.value_counts(normalize=False, )\n",
        "#plot the graph of piechart\n",
        "plt.figure(figsize=(10,8))\n",
        "plt.pie(\n",
        "    gender_data.values, labels=gender_data.keys(),\n",
        "    colors=sns.color_palette(\"dark\"),\n",
        "    autopct='%.2f%%', explode =(0,0.06)\n",
        ")\n",
        "plt.title(\"Male vs Female distribution comparison\", fontsize=19, c='w')\n",
        "plt.show()"
      ]
    },
    {
      "cell_type": "markdown",
      "metadata": {
        "id": "Gh_95hwuzUxb"
      },
      "source": [
        "### Results\n",
        "- There are about 73% of the dataset as Male and 27% as Female. It shows that males transacts more than Females"
      ]
    },
    {
      "cell_type": "code",
      "execution_count": 22,
      "metadata": {
        "execution": {
          "iopub.execute_input": "2022-06-30T18:57:42.907455Z",
          "iopub.status.busy": "2022-06-30T18:57:42.907065Z",
          "iopub.status.idle": "2022-06-30T18:57:43.067425Z",
          "shell.execute_reply": "2022-06-30T18:57:43.066162Z",
          "shell.execute_reply.started": "2022-06-30T18:57:42.907420Z"
        },
        "colab": {
          "base_uri": "https://localhost:8080/",
          "height": 143
        },
        "id": "LAqiRYNIzUxb",
        "outputId": "2e33f5f0-b96c-438c-b91e-fe924aebaccd"
      },
      "outputs": [
        {
          "output_type": "execute_result",
          "data": {
            "text/plain": [
              "            TransactionAmount (INR)  TransactionTime  CustAccountBalance\n",
              "CustGender                                                              \n",
              "F                       1643.958457    159708.341586       109578.913540\n",
              "M                       1537.341185    156168.345152       116997.375472"
            ],
            "text/html": [
              "\n",
              "  <div id=\"df-f67d3826-9ce0-44ce-a4e4-edc92d2bf3af\">\n",
              "    <div class=\"colab-df-container\">\n",
              "      <div>\n",
              "<style scoped>\n",
              "    .dataframe tbody tr th:only-of-type {\n",
              "        vertical-align: middle;\n",
              "    }\n",
              "\n",
              "    .dataframe tbody tr th {\n",
              "        vertical-align: top;\n",
              "    }\n",
              "\n",
              "    .dataframe thead th {\n",
              "        text-align: right;\n",
              "    }\n",
              "</style>\n",
              "<table border=\"1\" class=\"dataframe\">\n",
              "  <thead>\n",
              "    <tr style=\"text-align: right;\">\n",
              "      <th></th>\n",
              "      <th>TransactionAmount (INR)</th>\n",
              "      <th>TransactionTime</th>\n",
              "      <th>CustAccountBalance</th>\n",
              "    </tr>\n",
              "    <tr>\n",
              "      <th>CustGender</th>\n",
              "      <th></th>\n",
              "      <th></th>\n",
              "      <th></th>\n",
              "    </tr>\n",
              "  </thead>\n",
              "  <tbody>\n",
              "    <tr>\n",
              "      <th>F</th>\n",
              "      <td>1643.958457</td>\n",
              "      <td>159708.341586</td>\n",
              "      <td>109578.913540</td>\n",
              "    </tr>\n",
              "    <tr>\n",
              "      <th>M</th>\n",
              "      <td>1537.341185</td>\n",
              "      <td>156168.345152</td>\n",
              "      <td>116997.375472</td>\n",
              "    </tr>\n",
              "  </tbody>\n",
              "</table>\n",
              "</div>\n",
              "      <button class=\"colab-df-convert\" onclick=\"convertToInteractive('df-f67d3826-9ce0-44ce-a4e4-edc92d2bf3af')\"\n",
              "              title=\"Convert this dataframe to an interactive table.\"\n",
              "              style=\"display:none;\">\n",
              "        \n",
              "  <svg xmlns=\"http://www.w3.org/2000/svg\" height=\"24px\"viewBox=\"0 0 24 24\"\n",
              "       width=\"24px\">\n",
              "    <path d=\"M0 0h24v24H0V0z\" fill=\"none\"/>\n",
              "    <path d=\"M18.56 5.44l.94 2.06.94-2.06 2.06-.94-2.06-.94-.94-2.06-.94 2.06-2.06.94zm-11 1L8.5 8.5l.94-2.06 2.06-.94-2.06-.94L8.5 2.5l-.94 2.06-2.06.94zm10 10l.94 2.06.94-2.06 2.06-.94-2.06-.94-.94-2.06-.94 2.06-2.06.94z\"/><path d=\"M17.41 7.96l-1.37-1.37c-.4-.4-.92-.59-1.43-.59-.52 0-1.04.2-1.43.59L10.3 9.45l-7.72 7.72c-.78.78-.78 2.05 0 2.83L4 21.41c.39.39.9.59 1.41.59.51 0 1.02-.2 1.41-.59l7.78-7.78 2.81-2.81c.8-.78.8-2.07 0-2.86zM5.41 20L4 18.59l7.72-7.72 1.47 1.35L5.41 20z\"/>\n",
              "  </svg>\n",
              "      </button>\n",
              "      \n",
              "  <style>\n",
              "    .colab-df-container {\n",
              "      display:flex;\n",
              "      flex-wrap:wrap;\n",
              "      gap: 12px;\n",
              "    }\n",
              "\n",
              "    .colab-df-convert {\n",
              "      background-color: #E8F0FE;\n",
              "      border: none;\n",
              "      border-radius: 50%;\n",
              "      cursor: pointer;\n",
              "      display: none;\n",
              "      fill: #1967D2;\n",
              "      height: 32px;\n",
              "      padding: 0 0 0 0;\n",
              "      width: 32px;\n",
              "    }\n",
              "\n",
              "    .colab-df-convert:hover {\n",
              "      background-color: #E2EBFA;\n",
              "      box-shadow: 0px 1px 2px rgba(60, 64, 67, 0.3), 0px 1px 3px 1px rgba(60, 64, 67, 0.15);\n",
              "      fill: #174EA6;\n",
              "    }\n",
              "\n",
              "    [theme=dark] .colab-df-convert {\n",
              "      background-color: #3B4455;\n",
              "      fill: #D2E3FC;\n",
              "    }\n",
              "\n",
              "    [theme=dark] .colab-df-convert:hover {\n",
              "      background-color: #434B5C;\n",
              "      box-shadow: 0px 1px 3px 1px rgba(0, 0, 0, 0.15);\n",
              "      filter: drop-shadow(0px 1px 2px rgba(0, 0, 0, 0.3));\n",
              "      fill: #FFFFFF;\n",
              "    }\n",
              "  </style>\n",
              "\n",
              "      <script>\n",
              "        const buttonEl =\n",
              "          document.querySelector('#df-f67d3826-9ce0-44ce-a4e4-edc92d2bf3af button.colab-df-convert');\n",
              "        buttonEl.style.display =\n",
              "          google.colab.kernel.accessAllowed ? 'block' : 'none';\n",
              "\n",
              "        async function convertToInteractive(key) {\n",
              "          const element = document.querySelector('#df-f67d3826-9ce0-44ce-a4e4-edc92d2bf3af');\n",
              "          const dataTable =\n",
              "            await google.colab.kernel.invokeFunction('convertToInteractive',\n",
              "                                                     [key], {});\n",
              "          if (!dataTable) return;\n",
              "\n",
              "          const docLinkHtml = 'Like what you see? Visit the ' +\n",
              "            '<a target=\"_blank\" href=https://colab.research.google.com/notebooks/data_table.ipynb>data table notebook</a>'\n",
              "            + ' to learn more about interactive tables.';\n",
              "          element.innerHTML = '';\n",
              "          dataTable['output_type'] = 'display_data';\n",
              "          await google.colab.output.renderOutput(dataTable, element);\n",
              "          const docLink = document.createElement('div');\n",
              "          docLink.innerHTML = docLinkHtml;\n",
              "          element.appendChild(docLink);\n",
              "        }\n",
              "      </script>\n",
              "    </div>\n",
              "  </div>\n",
              "  "
            ]
          },
          "metadata": {},
          "execution_count": 22
        }
      ],
      "source": [
        "df.groupby(\"CustGender\").mean()[['TransactionAmount (INR)', 'TransactionTime', 'CustAccountBalance']]"
      ]
    },
    {
      "cell_type": "code",
      "execution_count": 23,
      "metadata": {
        "execution": {
          "iopub.execute_input": "2022-06-30T18:57:43.506339Z",
          "iopub.status.busy": "2022-06-30T18:57:43.505551Z",
          "iopub.status.idle": "2022-06-30T18:57:44.211998Z",
          "shell.execute_reply": "2022-06-30T18:57:44.210687Z",
          "shell.execute_reply.started": "2022-06-30T18:57:43.506295Z"
        },
        "colab": {
          "base_uri": "https://localhost:8080/",
          "height": 143
        },
        "id": "nTjdPIruzUxc",
        "outputId": "9e609658-bfd8-4d8a-9784-77edd6f1d46f"
      },
      "outputs": [
        {
          "output_type": "execute_result",
          "data": {
            "text/plain": [
              "            TransactionAmount (INR)  TransactionTime  CustAccountBalance\n",
              "CustGender                                                              \n",
              "F                        1380002.88           235957          82244629.9\n",
              "M                        1560034.99           235959         115035495.1"
            ],
            "text/html": [
              "\n",
              "  <div id=\"df-ecb9d84f-8886-40a9-8231-70c655bea61e\">\n",
              "    <div class=\"colab-df-container\">\n",
              "      <div>\n",
              "<style scoped>\n",
              "    .dataframe tbody tr th:only-of-type {\n",
              "        vertical-align: middle;\n",
              "    }\n",
              "\n",
              "    .dataframe tbody tr th {\n",
              "        vertical-align: top;\n",
              "    }\n",
              "\n",
              "    .dataframe thead th {\n",
              "        text-align: right;\n",
              "    }\n",
              "</style>\n",
              "<table border=\"1\" class=\"dataframe\">\n",
              "  <thead>\n",
              "    <tr style=\"text-align: right;\">\n",
              "      <th></th>\n",
              "      <th>TransactionAmount (INR)</th>\n",
              "      <th>TransactionTime</th>\n",
              "      <th>CustAccountBalance</th>\n",
              "    </tr>\n",
              "    <tr>\n",
              "      <th>CustGender</th>\n",
              "      <th></th>\n",
              "      <th></th>\n",
              "      <th></th>\n",
              "    </tr>\n",
              "  </thead>\n",
              "  <tbody>\n",
              "    <tr>\n",
              "      <th>F</th>\n",
              "      <td>1380002.88</td>\n",
              "      <td>235957</td>\n",
              "      <td>82244629.9</td>\n",
              "    </tr>\n",
              "    <tr>\n",
              "      <th>M</th>\n",
              "      <td>1560034.99</td>\n",
              "      <td>235959</td>\n",
              "      <td>115035495.1</td>\n",
              "    </tr>\n",
              "  </tbody>\n",
              "</table>\n",
              "</div>\n",
              "      <button class=\"colab-df-convert\" onclick=\"convertToInteractive('df-ecb9d84f-8886-40a9-8231-70c655bea61e')\"\n",
              "              title=\"Convert this dataframe to an interactive table.\"\n",
              "              style=\"display:none;\">\n",
              "        \n",
              "  <svg xmlns=\"http://www.w3.org/2000/svg\" height=\"24px\"viewBox=\"0 0 24 24\"\n",
              "       width=\"24px\">\n",
              "    <path d=\"M0 0h24v24H0V0z\" fill=\"none\"/>\n",
              "    <path d=\"M18.56 5.44l.94 2.06.94-2.06 2.06-.94-2.06-.94-.94-2.06-.94 2.06-2.06.94zm-11 1L8.5 8.5l.94-2.06 2.06-.94-2.06-.94L8.5 2.5l-.94 2.06-2.06.94zm10 10l.94 2.06.94-2.06 2.06-.94-2.06-.94-.94-2.06-.94 2.06-2.06.94z\"/><path d=\"M17.41 7.96l-1.37-1.37c-.4-.4-.92-.59-1.43-.59-.52 0-1.04.2-1.43.59L10.3 9.45l-7.72 7.72c-.78.78-.78 2.05 0 2.83L4 21.41c.39.39.9.59 1.41.59.51 0 1.02-.2 1.41-.59l7.78-7.78 2.81-2.81c.8-.78.8-2.07 0-2.86zM5.41 20L4 18.59l7.72-7.72 1.47 1.35L5.41 20z\"/>\n",
              "  </svg>\n",
              "      </button>\n",
              "      \n",
              "  <style>\n",
              "    .colab-df-container {\n",
              "      display:flex;\n",
              "      flex-wrap:wrap;\n",
              "      gap: 12px;\n",
              "    }\n",
              "\n",
              "    .colab-df-convert {\n",
              "      background-color: #E8F0FE;\n",
              "      border: none;\n",
              "      border-radius: 50%;\n",
              "      cursor: pointer;\n",
              "      display: none;\n",
              "      fill: #1967D2;\n",
              "      height: 32px;\n",
              "      padding: 0 0 0 0;\n",
              "      width: 32px;\n",
              "    }\n",
              "\n",
              "    .colab-df-convert:hover {\n",
              "      background-color: #E2EBFA;\n",
              "      box-shadow: 0px 1px 2px rgba(60, 64, 67, 0.3), 0px 1px 3px 1px rgba(60, 64, 67, 0.15);\n",
              "      fill: #174EA6;\n",
              "    }\n",
              "\n",
              "    [theme=dark] .colab-df-convert {\n",
              "      background-color: #3B4455;\n",
              "      fill: #D2E3FC;\n",
              "    }\n",
              "\n",
              "    [theme=dark] .colab-df-convert:hover {\n",
              "      background-color: #434B5C;\n",
              "      box-shadow: 0px 1px 3px 1px rgba(0, 0, 0, 0.15);\n",
              "      filter: drop-shadow(0px 1px 2px rgba(0, 0, 0, 0.3));\n",
              "      fill: #FFFFFF;\n",
              "    }\n",
              "  </style>\n",
              "\n",
              "      <script>\n",
              "        const buttonEl =\n",
              "          document.querySelector('#df-ecb9d84f-8886-40a9-8231-70c655bea61e button.colab-df-convert');\n",
              "        buttonEl.style.display =\n",
              "          google.colab.kernel.accessAllowed ? 'block' : 'none';\n",
              "\n",
              "        async function convertToInteractive(key) {\n",
              "          const element = document.querySelector('#df-ecb9d84f-8886-40a9-8231-70c655bea61e');\n",
              "          const dataTable =\n",
              "            await google.colab.kernel.invokeFunction('convertToInteractive',\n",
              "                                                     [key], {});\n",
              "          if (!dataTable) return;\n",
              "\n",
              "          const docLinkHtml = 'Like what you see? Visit the ' +\n",
              "            '<a target=\"_blank\" href=https://colab.research.google.com/notebooks/data_table.ipynb>data table notebook</a>'\n",
              "            + ' to learn more about interactive tables.';\n",
              "          element.innerHTML = '';\n",
              "          dataTable['output_type'] = 'display_data';\n",
              "          await google.colab.output.renderOutput(dataTable, element);\n",
              "          const docLink = document.createElement('div');\n",
              "          docLink.innerHTML = docLinkHtml;\n",
              "          element.appendChild(docLink);\n",
              "        }\n",
              "      </script>\n",
              "    </div>\n",
              "  </div>\n",
              "  "
            ]
          },
          "metadata": {},
          "execution_count": 23
        }
      ],
      "source": [
        "df.groupby(\"CustGender\").max()[['TransactionAmount (INR)', 'TransactionTime', 'CustAccountBalance']]"
      ]
    },
    {
      "cell_type": "code",
      "execution_count": 24,
      "metadata": {
        "execution": {
          "iopub.execute_input": "2022-06-30T18:57:44.219845Z",
          "iopub.status.busy": "2022-06-30T18:57:44.219438Z",
          "iopub.status.idle": "2022-06-30T18:57:44.922350Z",
          "shell.execute_reply": "2022-06-30T18:57:44.920883Z",
          "shell.execute_reply.started": "2022-06-30T18:57:44.219811Z"
        },
        "colab": {
          "base_uri": "https://localhost:8080/",
          "height": 143
        },
        "id": "BR5IgZ7VzUxc",
        "outputId": "d8e25da1-bb20-4311-d493-b57314186616"
      },
      "outputs": [
        {
          "output_type": "execute_result",
          "data": {
            "text/plain": [
              "            TransactionAmount (INR)  TransactionTime  CustAccountBalance\n",
              "CustGender                                                              \n",
              "F                               0.0                0                 0.0\n",
              "M                               0.0                0                 0.0"
            ],
            "text/html": [
              "\n",
              "  <div id=\"df-b9627758-d6af-48bc-a72d-6606273a9d6b\">\n",
              "    <div class=\"colab-df-container\">\n",
              "      <div>\n",
              "<style scoped>\n",
              "    .dataframe tbody tr th:only-of-type {\n",
              "        vertical-align: middle;\n",
              "    }\n",
              "\n",
              "    .dataframe tbody tr th {\n",
              "        vertical-align: top;\n",
              "    }\n",
              "\n",
              "    .dataframe thead th {\n",
              "        text-align: right;\n",
              "    }\n",
              "</style>\n",
              "<table border=\"1\" class=\"dataframe\">\n",
              "  <thead>\n",
              "    <tr style=\"text-align: right;\">\n",
              "      <th></th>\n",
              "      <th>TransactionAmount (INR)</th>\n",
              "      <th>TransactionTime</th>\n",
              "      <th>CustAccountBalance</th>\n",
              "    </tr>\n",
              "    <tr>\n",
              "      <th>CustGender</th>\n",
              "      <th></th>\n",
              "      <th></th>\n",
              "      <th></th>\n",
              "    </tr>\n",
              "  </thead>\n",
              "  <tbody>\n",
              "    <tr>\n",
              "      <th>F</th>\n",
              "      <td>0.0</td>\n",
              "      <td>0</td>\n",
              "      <td>0.0</td>\n",
              "    </tr>\n",
              "    <tr>\n",
              "      <th>M</th>\n",
              "      <td>0.0</td>\n",
              "      <td>0</td>\n",
              "      <td>0.0</td>\n",
              "    </tr>\n",
              "  </tbody>\n",
              "</table>\n",
              "</div>\n",
              "      <button class=\"colab-df-convert\" onclick=\"convertToInteractive('df-b9627758-d6af-48bc-a72d-6606273a9d6b')\"\n",
              "              title=\"Convert this dataframe to an interactive table.\"\n",
              "              style=\"display:none;\">\n",
              "        \n",
              "  <svg xmlns=\"http://www.w3.org/2000/svg\" height=\"24px\"viewBox=\"0 0 24 24\"\n",
              "       width=\"24px\">\n",
              "    <path d=\"M0 0h24v24H0V0z\" fill=\"none\"/>\n",
              "    <path d=\"M18.56 5.44l.94 2.06.94-2.06 2.06-.94-2.06-.94-.94-2.06-.94 2.06-2.06.94zm-11 1L8.5 8.5l.94-2.06 2.06-.94-2.06-.94L8.5 2.5l-.94 2.06-2.06.94zm10 10l.94 2.06.94-2.06 2.06-.94-2.06-.94-.94-2.06-.94 2.06-2.06.94z\"/><path d=\"M17.41 7.96l-1.37-1.37c-.4-.4-.92-.59-1.43-.59-.52 0-1.04.2-1.43.59L10.3 9.45l-7.72 7.72c-.78.78-.78 2.05 0 2.83L4 21.41c.39.39.9.59 1.41.59.51 0 1.02-.2 1.41-.59l7.78-7.78 2.81-2.81c.8-.78.8-2.07 0-2.86zM5.41 20L4 18.59l7.72-7.72 1.47 1.35L5.41 20z\"/>\n",
              "  </svg>\n",
              "      </button>\n",
              "      \n",
              "  <style>\n",
              "    .colab-df-container {\n",
              "      display:flex;\n",
              "      flex-wrap:wrap;\n",
              "      gap: 12px;\n",
              "    }\n",
              "\n",
              "    .colab-df-convert {\n",
              "      background-color: #E8F0FE;\n",
              "      border: none;\n",
              "      border-radius: 50%;\n",
              "      cursor: pointer;\n",
              "      display: none;\n",
              "      fill: #1967D2;\n",
              "      height: 32px;\n",
              "      padding: 0 0 0 0;\n",
              "      width: 32px;\n",
              "    }\n",
              "\n",
              "    .colab-df-convert:hover {\n",
              "      background-color: #E2EBFA;\n",
              "      box-shadow: 0px 1px 2px rgba(60, 64, 67, 0.3), 0px 1px 3px 1px rgba(60, 64, 67, 0.15);\n",
              "      fill: #174EA6;\n",
              "    }\n",
              "\n",
              "    [theme=dark] .colab-df-convert {\n",
              "      background-color: #3B4455;\n",
              "      fill: #D2E3FC;\n",
              "    }\n",
              "\n",
              "    [theme=dark] .colab-df-convert:hover {\n",
              "      background-color: #434B5C;\n",
              "      box-shadow: 0px 1px 3px 1px rgba(0, 0, 0, 0.15);\n",
              "      filter: drop-shadow(0px 1px 2px rgba(0, 0, 0, 0.3));\n",
              "      fill: #FFFFFF;\n",
              "    }\n",
              "  </style>\n",
              "\n",
              "      <script>\n",
              "        const buttonEl =\n",
              "          document.querySelector('#df-b9627758-d6af-48bc-a72d-6606273a9d6b button.colab-df-convert');\n",
              "        buttonEl.style.display =\n",
              "          google.colab.kernel.accessAllowed ? 'block' : 'none';\n",
              "\n",
              "        async function convertToInteractive(key) {\n",
              "          const element = document.querySelector('#df-b9627758-d6af-48bc-a72d-6606273a9d6b');\n",
              "          const dataTable =\n",
              "            await google.colab.kernel.invokeFunction('convertToInteractive',\n",
              "                                                     [key], {});\n",
              "          if (!dataTable) return;\n",
              "\n",
              "          const docLinkHtml = 'Like what you see? Visit the ' +\n",
              "            '<a target=\"_blank\" href=https://colab.research.google.com/notebooks/data_table.ipynb>data table notebook</a>'\n",
              "            + ' to learn more about interactive tables.';\n",
              "          element.innerHTML = '';\n",
              "          dataTable['output_type'] = 'display_data';\n",
              "          await google.colab.output.renderOutput(dataTable, element);\n",
              "          const docLink = document.createElement('div');\n",
              "          docLink.innerHTML = docLinkHtml;\n",
              "          element.appendChild(docLink);\n",
              "        }\n",
              "      </script>\n",
              "    </div>\n",
              "  </div>\n",
              "  "
            ]
          },
          "metadata": {},
          "execution_count": 24
        }
      ],
      "source": [
        "df.groupby(\"CustGender\").min()[['TransactionAmount (INR)', 'TransactionTime', 'CustAccountBalance']]"
      ]
    },
    {
      "cell_type": "code",
      "execution_count": 25,
      "metadata": {
        "execution": {
          "iopub.execute_input": "2022-06-30T18:57:44.925075Z",
          "iopub.status.busy": "2022-06-30T18:57:44.924731Z",
          "iopub.status.idle": "2022-06-30T18:57:45.087510Z",
          "shell.execute_reply": "2022-06-30T18:57:45.086130Z",
          "shell.execute_reply.started": "2022-06-30T18:57:44.925042Z"
        },
        "colab": {
          "base_uri": "https://localhost:8080/",
          "height": 143
        },
        "id": "Ip8I6c1RzUxc",
        "outputId": "b403cb80-8ac4-44a1-f958-694ba0ad4055"
      },
      "outputs": [
        {
          "output_type": "execute_result",
          "data": {
            "text/plain": [
              "            TransactionAmount (INR)  TransactionTime  CustAccountBalance\n",
              "CustGender                                                              \n",
              "F                      4.613523e+08      44819750441        3.075168e+10\n",
              "M                      1.169883e+09     118840674957        8.903243e+10"
            ],
            "text/html": [
              "\n",
              "  <div id=\"df-bf6cce09-7915-4192-921d-ab89dae11ae8\">\n",
              "    <div class=\"colab-df-container\">\n",
              "      <div>\n",
              "<style scoped>\n",
              "    .dataframe tbody tr th:only-of-type {\n",
              "        vertical-align: middle;\n",
              "    }\n",
              "\n",
              "    .dataframe tbody tr th {\n",
              "        vertical-align: top;\n",
              "    }\n",
              "\n",
              "    .dataframe thead th {\n",
              "        text-align: right;\n",
              "    }\n",
              "</style>\n",
              "<table border=\"1\" class=\"dataframe\">\n",
              "  <thead>\n",
              "    <tr style=\"text-align: right;\">\n",
              "      <th></th>\n",
              "      <th>TransactionAmount (INR)</th>\n",
              "      <th>TransactionTime</th>\n",
              "      <th>CustAccountBalance</th>\n",
              "    </tr>\n",
              "    <tr>\n",
              "      <th>CustGender</th>\n",
              "      <th></th>\n",
              "      <th></th>\n",
              "      <th></th>\n",
              "    </tr>\n",
              "  </thead>\n",
              "  <tbody>\n",
              "    <tr>\n",
              "      <th>F</th>\n",
              "      <td>4.613523e+08</td>\n",
              "      <td>44819750441</td>\n",
              "      <td>3.075168e+10</td>\n",
              "    </tr>\n",
              "    <tr>\n",
              "      <th>M</th>\n",
              "      <td>1.169883e+09</td>\n",
              "      <td>118840674957</td>\n",
              "      <td>8.903243e+10</td>\n",
              "    </tr>\n",
              "  </tbody>\n",
              "</table>\n",
              "</div>\n",
              "      <button class=\"colab-df-convert\" onclick=\"convertToInteractive('df-bf6cce09-7915-4192-921d-ab89dae11ae8')\"\n",
              "              title=\"Convert this dataframe to an interactive table.\"\n",
              "              style=\"display:none;\">\n",
              "        \n",
              "  <svg xmlns=\"http://www.w3.org/2000/svg\" height=\"24px\"viewBox=\"0 0 24 24\"\n",
              "       width=\"24px\">\n",
              "    <path d=\"M0 0h24v24H0V0z\" fill=\"none\"/>\n",
              "    <path d=\"M18.56 5.44l.94 2.06.94-2.06 2.06-.94-2.06-.94-.94-2.06-.94 2.06-2.06.94zm-11 1L8.5 8.5l.94-2.06 2.06-.94-2.06-.94L8.5 2.5l-.94 2.06-2.06.94zm10 10l.94 2.06.94-2.06 2.06-.94-2.06-.94-.94-2.06-.94 2.06-2.06.94z\"/><path d=\"M17.41 7.96l-1.37-1.37c-.4-.4-.92-.59-1.43-.59-.52 0-1.04.2-1.43.59L10.3 9.45l-7.72 7.72c-.78.78-.78 2.05 0 2.83L4 21.41c.39.39.9.59 1.41.59.51 0 1.02-.2 1.41-.59l7.78-7.78 2.81-2.81c.8-.78.8-2.07 0-2.86zM5.41 20L4 18.59l7.72-7.72 1.47 1.35L5.41 20z\"/>\n",
              "  </svg>\n",
              "      </button>\n",
              "      \n",
              "  <style>\n",
              "    .colab-df-container {\n",
              "      display:flex;\n",
              "      flex-wrap:wrap;\n",
              "      gap: 12px;\n",
              "    }\n",
              "\n",
              "    .colab-df-convert {\n",
              "      background-color: #E8F0FE;\n",
              "      border: none;\n",
              "      border-radius: 50%;\n",
              "      cursor: pointer;\n",
              "      display: none;\n",
              "      fill: #1967D2;\n",
              "      height: 32px;\n",
              "      padding: 0 0 0 0;\n",
              "      width: 32px;\n",
              "    }\n",
              "\n",
              "    .colab-df-convert:hover {\n",
              "      background-color: #E2EBFA;\n",
              "      box-shadow: 0px 1px 2px rgba(60, 64, 67, 0.3), 0px 1px 3px 1px rgba(60, 64, 67, 0.15);\n",
              "      fill: #174EA6;\n",
              "    }\n",
              "\n",
              "    [theme=dark] .colab-df-convert {\n",
              "      background-color: #3B4455;\n",
              "      fill: #D2E3FC;\n",
              "    }\n",
              "\n",
              "    [theme=dark] .colab-df-convert:hover {\n",
              "      background-color: #434B5C;\n",
              "      box-shadow: 0px 1px 3px 1px rgba(0, 0, 0, 0.15);\n",
              "      filter: drop-shadow(0px 1px 2px rgba(0, 0, 0, 0.3));\n",
              "      fill: #FFFFFF;\n",
              "    }\n",
              "  </style>\n",
              "\n",
              "      <script>\n",
              "        const buttonEl =\n",
              "          document.querySelector('#df-bf6cce09-7915-4192-921d-ab89dae11ae8 button.colab-df-convert');\n",
              "        buttonEl.style.display =\n",
              "          google.colab.kernel.accessAllowed ? 'block' : 'none';\n",
              "\n",
              "        async function convertToInteractive(key) {\n",
              "          const element = document.querySelector('#df-bf6cce09-7915-4192-921d-ab89dae11ae8');\n",
              "          const dataTable =\n",
              "            await google.colab.kernel.invokeFunction('convertToInteractive',\n",
              "                                                     [key], {});\n",
              "          if (!dataTable) return;\n",
              "\n",
              "          const docLinkHtml = 'Like what you see? Visit the ' +\n",
              "            '<a target=\"_blank\" href=https://colab.research.google.com/notebooks/data_table.ipynb>data table notebook</a>'\n",
              "            + ' to learn more about interactive tables.';\n",
              "          element.innerHTML = '';\n",
              "          dataTable['output_type'] = 'display_data';\n",
              "          await google.colab.output.renderOutput(dataTable, element);\n",
              "          const docLink = document.createElement('div');\n",
              "          docLink.innerHTML = docLinkHtml;\n",
              "          element.appendChild(docLink);\n",
              "        }\n",
              "      </script>\n",
              "    </div>\n",
              "  </div>\n",
              "  "
            ]
          },
          "metadata": {},
          "execution_count": 25
        }
      ],
      "source": [
        "df.groupby(\"CustGender\").sum()[['TransactionAmount (INR)', 'TransactionTime', 'CustAccountBalance']]"
      ]
    },
    {
      "cell_type": "markdown",
      "metadata": {
        "id": "HuB0qlGizUxd"
      },
      "source": [
        "### Results\n",
        "- From all analysis above, Males have allways large value transactions than Females\n",
        "- Example, Males Transacted a sum of 1.16e9 while females had 4.6e8 records transation amount.\n",
        "- Interms of average amounts, Females had the largest average amount transacted of about 1643 and male 1537 while their male counterparts had the large amount of account balances average i.e M = 116997 while F=109578. This shows that Males keeps more money while Females Transacts more "
      ]
    },
    {
      "cell_type": "code",
      "execution_count": 26,
      "metadata": {
        "execution": {
          "iopub.execute_input": "2022-06-30T18:57:45.485544Z",
          "iopub.status.busy": "2022-06-30T18:57:45.484814Z",
          "iopub.status.idle": "2022-06-30T18:57:45.900185Z",
          "shell.execute_reply": "2022-06-30T18:57:45.899222Z",
          "shell.execute_reply.started": "2022-06-30T18:57:45.485506Z"
        },
        "colab": {
          "base_uri": "https://localhost:8080/",
          "height": 298
        },
        "id": "lSCKZg_EzUxe",
        "outputId": "aaf73440-0992-454c-d2d9-2c129be56227"
      },
      "outputs": [
        {
          "output_type": "display_data",
          "data": {
            "text/plain": [
              "<Figure size 432x288 with 1 Axes>"
            ],
            "image/png": "[encoded data removed]"
          },
          "metadata": {
            "needs_background": "light"
          }
        }
      ],
      "source": [
        "\n",
        "df.groupby(\"CustGender\").sum()[['TransactionAmount (INR)', 'TransactionTime', 'CustAccountBalance']].plot(kind='bar')\n",
        "plt.title(\"Comparisons between all parameters for both male and Female\", fontsize=18,c='r')\n",
        "plt.show()"
      ]
    },
    {
      "cell_type": "markdown",
      "metadata": {
        "id": "Uia-DANxzUxe"
      },
      "source": [
        "### Results\n",
        "- When checking on the 3 main parameters, TransactionAmount was the lost.\n",
        "- Time taken for transaction in second was way higher than the params\n",
        "- Customer Acoount balance is higher than  transaction amount hence indicating that the amount being transacted is way lower than amount in their balance. The amount is distribution is low when compaired to stored amount."
      ]
    },
    {
      "cell_type": "code",
      "execution_count": 27,
      "metadata": {
        "execution": {
          "iopub.execute_input": "2022-06-30T18:57:46.332141Z",
          "iopub.status.busy": "2022-06-30T18:57:46.331755Z",
          "iopub.status.idle": "2022-06-30T18:57:46.610236Z",
          "shell.execute_reply": "2022-06-30T18:57:46.609279Z",
          "shell.execute_reply.started": "2022-06-30T18:57:46.332108Z"
        },
        "colab": {
          "base_uri": "https://localhost:8080/",
          "height": 296
        },
        "id": "WSbYhacrzUxe",
        "outputId": "e664a529-932b-4a94-f477-a837d3d0e55d"
      },
      "outputs": [
        {
          "output_type": "display_data",
          "data": {
            "text/plain": [
              "<Figure size 432x288 with 1 Axes>"
            ],
            "image/png": "[encoded data removed]"
          },
          "metadata": {
            "needs_background": "light"
          }
        }
      ],
      "source": [
        "# account balance based on gender\n",
        "df.groupby('CustGender')['CustAccountBalance'].mean().plot(kind='bar')\n",
        "plt.ylabel('Mean Customer Account Balance based on gender');"
      ]
    },
    {
      "cell_type": "code",
      "execution_count": 28,
      "metadata": {
        "execution": {
          "iopub.execute_input": "2022-06-30T18:57:46.972950Z",
          "iopub.status.busy": "2022-06-30T18:57:46.972192Z",
          "iopub.status.idle": "2022-06-30T18:57:47.251979Z",
          "shell.execute_reply": "2022-06-30T18:57:47.250916Z",
          "shell.execute_reply.started": "2022-06-30T18:57:46.972916Z"
        },
        "colab": {
          "base_uri": "https://localhost:8080/",
          "height": 278
        },
        "id": "y0kzur7EzUxf",
        "outputId": "b0350b59-51ed-48ae-de7a-e63e731be1ee"
      },
      "outputs": [
        {
          "output_type": "display_data",
          "data": {
            "text/plain": [
              "<Figure size 432x288 with 1 Axes>"
            ],
            "image/png": "[encoded data removed]"
          },
          "metadata": {
            "needs_background": "light"
          }
        }
      ],
      "source": [
        "# TransactionTime\n",
        "df.groupby('CustGender')['TransactionTime'].mean().plot(kind='bar')\n",
        "plt.ylabel('Mean TransactionTime based on gender');"
      ]
    },
    {
      "cell_type": "markdown",
      "metadata": {
        "id": "vFatxQZFzUxf"
      },
      "source": [
        "### Summary\n",
        "- In summary from the 3 attributes\n",
        "    - Female took more time for transaction than males.\n",
        "    - Males have higher account balances than females\n",
        "    - Females have large transaction amount than males\n"
      ]
    },
    {
      "cell_type": "markdown",
      "metadata": {
        "id": "tc7E2wcvzUxf"
      },
      "source": [
        "### Working on Date features"
      ]
    },
    {
      "cell_type": "code",
      "execution_count": 29,
      "metadata": {
        "execution": {
          "iopub.execute_input": "2022-06-30T18:57:47.661535Z",
          "iopub.status.busy": "2022-06-30T18:57:47.661135Z",
          "iopub.status.idle": "2022-06-30T18:57:47.668226Z",
          "shell.execute_reply": "2022-06-30T18:57:47.667241Z",
          "shell.execute_reply.started": "2022-06-30T18:57:47.661501Z"
        },
        "colab": {
          "base_uri": "https://localhost:8080/"
        },
        "id": "4Zg3l8n7zUxg",
        "outputId": "18a63e84-8a5a-4fb6-df8f-2264373f91ec"
      },
      "outputs": [
        {
          "output_type": "execute_result",
          "data": {
            "text/plain": [
              "Index(['CustomerDOB', 'CustGender', 'CustLocation', 'CustAccountBalance',\n",
              "       'TransactionDate', 'TransactionTime', 'TransactionAmount (INR)'],\n",
              "      dtype='object')"
            ]
          },
          "metadata": {},
          "execution_count": 29
        }
      ],
      "source": [
        "df.columns"
      ]
    },
    {
      "cell_type": "code",
      "execution_count": 30,
      "metadata": {
        "execution": {
          "iopub.execute_input": "2022-06-30T18:57:48.146366Z",
          "iopub.status.busy": "2022-06-30T18:57:48.145953Z",
          "iopub.status.idle": "2022-06-30T18:57:48.151422Z",
          "shell.execute_reply": "2022-06-30T18:57:48.150192Z",
          "shell.execute_reply.started": "2022-06-30T18:57:48.146333Z"
        },
        "id": "80dQVgdCzUxg"
      },
      "outputs": [],
      "source": [
        "# columns with date\n",
        "date_cols =[\"TransactionDate\", \"CustomerDOB\"]\n"
      ]
    },
    {
      "cell_type": "code",
      "execution_count": 31,
      "metadata": {
        "execution": {
          "iopub.execute_input": "2022-06-30T18:57:48.753608Z",
          "iopub.status.busy": "2022-06-30T18:57:48.752862Z",
          "iopub.status.idle": "2022-06-30T18:57:48.959312Z",
          "shell.execute_reply": "2022-06-30T18:57:48.958466Z",
          "shell.execute_reply.started": "2022-06-30T18:57:48.753573Z"
        },
        "colab": {
          "base_uri": "https://localhost:8080/"
        },
        "id": "hMgW1yGKzUxg",
        "outputId": "a4ea8a06-60e3-4805-98be-5c1c1ea09e13"
      },
      "outputs": [
        {
          "output_type": "execute_result",
          "data": {
            "text/plain": [
              "1/1/1800    56291\n",
              "1/1/89        809\n",
              "1/1/90        784\n",
              "6/8/91        698\n",
              "1/1/91        665\n",
              "            ...  \n",
              "17/1/59         1\n",
              "15/4/41         1\n",
              "4/8/34          1\n",
              "6/9/71          1\n",
              "24/10/44        1\n",
              "Name: CustomerDOB, Length: 17233, dtype: int64"
            ]
          },
          "metadata": {},
          "execution_count": 31
        }
      ],
      "source": [
        "# date of birth\n",
        "df.CustomerDOB.value_counts().sort_values(ascending=False)"
      ]
    },
    {
      "cell_type": "markdown",
      "metadata": {
        "id": "5w-7TDQ4zUxh"
      },
      "source": [
        "### Results\n",
        "- The above shows that 1/1/1800 date of birth as unrealistic since people born at that time might not be alive now (`It is the largest and might have about 222yrs`).\n",
        "- From the conclusion, the date might be a placeholder\n",
        "- SInce there is a need to observe them, the records will not be removed"
      ]
    },
    {
      "cell_type": "code",
      "execution_count": 32,
      "metadata": {
        "execution": {
          "iopub.execute_input": "2022-06-30T18:57:49.380720Z",
          "iopub.status.busy": "2022-06-30T18:57:49.379674Z",
          "iopub.status.idle": "2022-06-30T18:57:49.385425Z",
          "shell.execute_reply": "2022-06-30T18:57:49.384550Z",
          "shell.execute_reply.started": "2022-06-30T18:57:49.380683Z"
        },
        "id": "u-D4jmygzUxh"
      },
      "outputs": [],
      "source": [
        "# possibility that the 1800 date is a placeholder. it has the largest number of records.\n",
        "# It maybe a placehold because there might no people alive of that age who has bank account\n",
        "# the records cannot be removed since they cover the large part of the dataset"
      ]
    },
    {
      "cell_type": "code",
      "execution_count": 33,
      "metadata": {
        "execution": {
          "iopub.execute_input": "2022-06-30T18:57:50.068671Z",
          "iopub.status.busy": "2022-06-30T18:57:50.067905Z",
          "iopub.status.idle": "2022-06-30T18:57:50.213753Z",
          "shell.execute_reply": "2022-06-30T18:57:50.212352Z",
          "shell.execute_reply.started": "2022-06-30T18:57:50.068601Z"
        },
        "colab": {
          "base_uri": "https://localhost:8080/"
        },
        "id": "MnitK1n3zUxh",
        "outputId": "46cc2b7d-3c57-4fb6-8201-ef082f1a2c4a"
      },
      "outputs": [
        {
          "output_type": "execute_result",
          "data": {
            "text/plain": [
              "7/8/16      27084\n",
              "13/8/16     26738\n",
              "4/9/16      26420\n",
              "6/8/16      26416\n",
              "3/9/16      26292\n",
              "10/9/16     25627\n",
              "14/8/16     25407\n",
              "11/9/16     25355\n",
              "15/8/16     24020\n",
              "21/8/16     22833\n",
              "2/9/16      22718\n",
              "12/8/16     22277\n",
              "1/9/16      22179\n",
              "11/8/16     21674\n",
              "9/8/16      21673\n",
              "8/9/16      21648\n",
              "10/8/16     21457\n",
              "9/9/16      21444\n",
              "27/8/16     21349\n",
              "20/8/16     21188\n",
              "5/9/16      21116\n",
              "7/9/16      20999\n",
              "17/8/16     20960\n",
              "5/8/16      20949\n",
              "28/8/16     20944\n",
              "8/8/16      20883\n",
              "2/8/16      20787\n",
              "12/9/16     20611\n",
              "4/8/16      20535\n",
              "13/9/16     20506\n",
              "3/8/16      20446\n",
              "16/8/16     20278\n",
              "1/8/16      20277\n",
              "14/9/16     19845\n",
              "15/9/16     19610\n",
              "31/8/16     19586\n",
              "6/9/16      19510\n",
              "18/8/16     19338\n",
              "19/8/16     18559\n",
              "22/8/16     18441\n",
              "25/8/16     18424\n",
              "24/8/16     17893\n",
              "26/8/16     17615\n",
              "30/8/16     17273\n",
              "23/8/16     17239\n",
              "29/8/16     16700\n",
              "18/9/16     14622\n",
              "26/9/16     12376\n",
              "25/9/16      8127\n",
              "27/9/16      7401\n",
              "22/9/16      6925\n",
              "21/10/16     3641\n",
              "23/9/16      3460\n",
              "30/9/16      1935\n",
              "16/10/16        3\n",
              "Name: TransactionDate, dtype: int64"
            ]
          },
          "metadata": {},
          "execution_count": 33
        }
      ],
      "source": [
        "df.TransactionDate.value_counts()"
      ]
    },
    {
      "cell_type": "code",
      "execution_count": 34,
      "metadata": {
        "execution": {
          "iopub.execute_input": "2022-06-30T18:57:50.540366Z",
          "iopub.status.busy": "2022-06-30T18:57:50.539355Z",
          "iopub.status.idle": "2022-06-30T18:57:50.546080Z",
          "shell.execute_reply": "2022-06-30T18:57:50.544753Z",
          "shell.execute_reply.started": "2022-06-30T18:57:50.540316Z"
        },
        "id": "UAOJT0HSzUxh"
      },
      "outputs": [],
      "source": [
        "# Transaction seems to be a record spanning in 3 months\n"
      ]
    },
    {
      "cell_type": "markdown",
      "metadata": {
        "id": "nEy-UxTjzUxi"
      },
      "source": [
        "### Results.\n",
        "- The transactions seems to span accross a period of 3 months.\n",
        "- The month of december has the lowest number of records.\n",
        "\n",
        "- THe date columns are going to be converted to the required date format.\n",
        "- This will help in gathering the meta data that can be derrived from them using feature engineering"
      ]
    },
    {
      "cell_type": "code",
      "execution_count": 35,
      "metadata": {
        "execution": {
          "iopub.execute_input": "2022-06-30T18:57:50.953756Z",
          "iopub.status.busy": "2022-06-30T18:57:50.953153Z",
          "iopub.status.idle": "2022-06-30T18:59:23.845599Z",
          "shell.execute_reply": "2022-06-30T18:59:23.844486Z",
          "shell.execute_reply.started": "2022-06-30T18:57:50.953721Z"
        },
        "id": "Wq0Z1g0tzUxi"
      },
      "outputs": [],
      "source": [
        "# convert these columns to datetime\n",
        "df['CustomerDOB'] =pd.to_datetime(df.CustomerDOB)\n",
        "df['TransactionDate'] = pd.to_datetime(df['TransactionDate'])"
      ]
    },
    {
      "cell_type": "code",
      "execution_count": 36,
      "metadata": {
        "execution": {
          "iopub.execute_input": "2022-06-30T18:59:23.848614Z",
          "iopub.status.busy": "2022-06-30T18:59:23.848138Z",
          "iopub.status.idle": "2022-06-30T18:59:23.856610Z",
          "shell.execute_reply": "2022-06-30T18:59:23.855275Z",
          "shell.execute_reply.started": "2022-06-30T18:59:23.848564Z"
        },
        "colab": {
          "base_uri": "https://localhost:8080/"
        },
        "id": "38dS58ADzUxi",
        "outputId": "f0e43afd-a1dc-42f1-d098-379dcb3b702b"
      },
      "outputs": [
        {
          "output_type": "execute_result",
          "data": {
            "text/plain": [
              "datetime.date(2023, 1, 2)"
            ]
          },
          "metadata": {},
          "execution_count": 36
        }
      ],
      "source": [
        "from datetime import date\n",
        "date.today()"
      ]
    },
    {
      "cell_type": "code",
      "execution_count": 37,
      "metadata": {
        "execution": {
          "iopub.execute_input": "2022-06-30T18:59:23.858497Z",
          "iopub.status.busy": "2022-06-30T18:59:23.858091Z",
          "iopub.status.idle": "2022-06-30T18:59:35.608433Z",
          "shell.execute_reply": "2022-06-30T18:59:35.607312Z",
          "shell.execute_reply.started": "2022-06-30T18:59:23.858447Z"
        },
        "id": "1LgzY_qVzUxi"
      },
      "outputs": [],
      "source": [
        "# get the possible the age in years of the customer at the time of todata\n",
        "\n",
        "def get_cust_age(DOB):\n",
        "    \"\"\"\n",
        "    get the year in which the customer was born\n",
        "    \"\"\"\n",
        "    return date.today().year - DOB.year - ((date.today().month, date.today().day) < (DOB.month, DOB.day))\n",
        "\n",
        "# apply the function and call it Age\n",
        "df['Age'] = df.CustomerDOB.apply(get_cust_age)"
      ]
    },
    {
      "cell_type": "code",
      "execution_count": 38,
      "metadata": {
        "execution": {
          "iopub.execute_input": "2022-06-30T18:59:35.611547Z",
          "iopub.status.busy": "2022-06-30T18:59:35.611226Z",
          "iopub.status.idle": "2022-06-30T18:59:35.708161Z",
          "shell.execute_reply": "2022-06-30T18:59:35.706805Z",
          "shell.execute_reply.started": "2022-06-30T18:59:35.611516Z"
        },
        "colab": {
          "base_uri": "https://localhost:8080/",
          "height": 424
        },
        "id": "vAXP8DXszUxj",
        "outputId": "a05eaffe-b499-4824-e891-a52539f09468"
      },
      "outputs": [
        {
          "output_type": "execute_result",
          "data": {
            "text/plain": [
              "        CustomerDOB CustGender   CustLocation  CustAccountBalance  \\\n",
              "0        1994-10-01          F     JAMSHEDPUR            17819.05   \n",
              "2        1996-11-26          F         MUMBAI            17874.44   \n",
              "3        1973-09-14          F         MUMBAI           866503.21   \n",
              "4        1988-03-24          F    NAVI MUMBAI             6714.43   \n",
              "6        1992-01-26          F         MUMBAI              973.46   \n",
              "...             ...        ...            ...                 ...   \n",
              "1048562  1990-08-04          M      NEW DELHI             7635.19   \n",
              "1048563  1992-02-20          M         NASHIK            27311.42   \n",
              "1048564  1989-05-18          M      HYDERABAD           221757.06   \n",
              "1048565  1978-08-30          M  VISAKHAPATNAM            10117.87   \n",
              "1048566  1984-05-03          M           PUNE            75734.42   \n",
              "\n",
              "        TransactionDate  TransactionTime  TransactionAmount (INR)  Age  \n",
              "0            2016-02-08           143207                     25.0   28  \n",
              "2            2016-02-08           142712                    459.0   26  \n",
              "3            2016-02-08           142714                   2060.0   49  \n",
              "4            2016-02-08           181156                   1762.5   34  \n",
              "6            2016-02-08           173806                    566.0   30  \n",
              "...                 ...              ...                      ...  ...  \n",
              "1048562      2016-09-18           184824                    799.0   32  \n",
              "1048563      2016-09-18           183734                    460.0   30  \n",
              "1048564      2016-09-18           183313                    770.0   33  \n",
              "1048565      2016-09-18           184706                   1000.0   44  \n",
              "1048566      2016-09-18           181222                   1166.0   38  \n",
              "\n",
              "[957431 rows x 8 columns]"
            ],
            "text/html": [
              "\n",
              "  <div id=\"df-bc51ad2e-4cf4-4153-8e68-4b9a5d280366\">\n",
              "    <div class=\"colab-df-container\">\n",
              "      <div>\n",
              "<style scoped>\n",
              "    .dataframe tbody tr th:only-of-type {\n",
              "        vertical-align: middle;\n",
              "    }\n",
              "\n",
              "    .dataframe tbody tr th {\n",
              "        vertical-align: top;\n",
              "    }\n",
              "\n",
              "    .dataframe thead th {\n",
              "        text-align: right;\n",
              "    }\n",
              "</style>\n",
              "<table border=\"1\" class=\"dataframe\">\n",
              "  <thead>\n",
              "    <tr style=\"text-align: right;\">\n",
              "      <th></th>\n",
              "      <th>CustomerDOB</th>\n",
              "      <th>CustGender</th>\n",
              "      <th>CustLocation</th>\n",
              "      <th>CustAccountBalance</th>\n",
              "      <th>TransactionDate</th>\n",
              "      <th>TransactionTime</th>\n",
              "      <th>TransactionAmount (INR)</th>\n",
              "      <th>Age</th>\n",
              "    </tr>\n",
              "  </thead>\n",
              "  <tbody>\n",
              "    <tr>\n",
              "      <th>0</th>\n",
              "      <td>1994-10-01</td>\n",
              "      <td>F</td>\n",
              "      <td>JAMSHEDPUR</td>\n",
              "      <td>17819.05</td>\n",
              "      <td>2016-02-08</td>\n",
              "      <td>143207</td>\n",
              "      <td>25.0</td>\n",
              "      <td>28</td>\n",
              "    </tr>\n",
              "    <tr>\n",
              "      <th>2</th>\n",
              "      <td>1996-11-26</td>\n",
              "      <td>F</td>\n",
              "      <td>MUMBAI</td>\n",
              "      <td>17874.44</td>\n",
              "      <td>2016-02-08</td>\n",
              "      <td>142712</td>\n",
              "      <td>459.0</td>\n",
              "      <td>26</td>\n",
              "    </tr>\n",
              "    <tr>\n",
              "      <th>3</th>\n",
              "      <td>1973-09-14</td>\n",
              "      <td>F</td>\n",
              "      <td>MUMBAI</td>\n",
              "      <td>866503.21</td>\n",
              "      <td>2016-02-08</td>\n",
              "      <td>142714</td>\n",
              "      <td>2060.0</td>\n",
              "      <td>49</td>\n",
              "    </tr>\n",
              "    <tr>\n",
              "      <th>4</th>\n",
              "      <td>1988-03-24</td>\n",
              "      <td>F</td>\n",
              "      <td>NAVI MUMBAI</td>\n",
              "      <td>6714.43</td>\n",
              "      <td>2016-02-08</td>\n",
              "      <td>181156</td>\n",
              "      <td>1762.5</td>\n",
              "      <td>34</td>\n",
              "    </tr>\n",
              "    <tr>\n",
              "      <th>6</th>\n",
              "      <td>1992-01-26</td>\n",
              "      <td>F</td>\n",
              "      <td>MUMBAI</td>\n",
              "      <td>973.46</td>\n",
              "      <td>2016-02-08</td>\n",
              "      <td>173806</td>\n",
              "      <td>566.0</td>\n",
              "      <td>30</td>\n",
              "    </tr>\n",
              "    <tr>\n",
              "      <th>...</th>\n",
              "      <td>...</td>\n",
              "      <td>...</td>\n",
              "      <td>...</td>\n",
              "      <td>...</td>\n",
              "      <td>...</td>\n",
              "      <td>...</td>\n",
              "      <td>...</td>\n",
              "      <td>...</td>\n",
              "    </tr>\n",
              "    <tr>\n",
              "      <th>1048562</th>\n",
              "      <td>1990-08-04</td>\n",
              "      <td>M</td>\n",
              "      <td>NEW DELHI</td>\n",
              "      <td>7635.19</td>\n",
              "      <td>2016-09-18</td>\n",
              "      <td>184824</td>\n",
              "      <td>799.0</td>\n",
              "      <td>32</td>\n",
              "    </tr>\n",
              "    <tr>\n",
              "      <th>1048563</th>\n",
              "      <td>1992-02-20</td>\n",
              "      <td>M</td>\n",
              "      <td>NASHIK</td>\n",
              "      <td>27311.42</td>\n",
              "      <td>2016-09-18</td>\n",
              "      <td>183734</td>\n",
              "      <td>460.0</td>\n",
              "      <td>30</td>\n",
              "    </tr>\n",
              "    <tr>\n",
              "      <th>1048564</th>\n",
              "      <td>1989-05-18</td>\n",
              "      <td>M</td>\n",
              "      <td>HYDERABAD</td>\n",
              "      <td>221757.06</td>\n",
              "      <td>2016-09-18</td>\n",
              "      <td>183313</td>\n",
              "      <td>770.0</td>\n",
              "      <td>33</td>\n",
              "    </tr>\n",
              "    <tr>\n",
              "      <th>1048565</th>\n",
              "      <td>1978-08-30</td>\n",
              "      <td>M</td>\n",
              "      <td>VISAKHAPATNAM</td>\n",
              "      <td>10117.87</td>\n",
              "      <td>2016-09-18</td>\n",
              "      <td>184706</td>\n",
              "      <td>1000.0</td>\n",
              "      <td>44</td>\n",
              "    </tr>\n",
              "    <tr>\n",
              "      <th>1048566</th>\n",
              "      <td>1984-05-03</td>\n",
              "      <td>M</td>\n",
              "      <td>PUNE</td>\n",
              "      <td>75734.42</td>\n",
              "      <td>2016-09-18</td>\n",
              "      <td>181222</td>\n",
              "      <td>1166.0</td>\n",
              "      <td>38</td>\n",
              "    </tr>\n",
              "  </tbody>\n",
              "</table>\n",
              "<p>957431 rows × 8 columns</p>\n",
              "</div>\n",
              "      <button class=\"colab-df-convert\" onclick=\"convertToInteractive('df-bc51ad2e-4cf4-4153-8e68-4b9a5d280366')\"\n",
              "              title=\"Convert this dataframe to an interactive table.\"\n",
              "              style=\"display:none;\">\n",
              "        \n",
              "  <svg xmlns=\"http://www.w3.org/2000/svg\" height=\"24px\"viewBox=\"0 0 24 24\"\n",
              "       width=\"24px\">\n",
              "    <path d=\"M0 0h24v24H0V0z\" fill=\"none\"/>\n",
              "    <path d=\"M18.56 5.44l.94 2.06.94-2.06 2.06-.94-2.06-.94-.94-2.06-.94 2.06-2.06.94zm-11 1L8.5 8.5l.94-2.06 2.06-.94-2.06-.94L8.5 2.5l-.94 2.06-2.06.94zm10 10l.94 2.06.94-2.06 2.06-.94-2.06-.94-.94-2.06-.94 2.06-2.06.94z\"/><path d=\"M17.41 7.96l-1.37-1.37c-.4-.4-.92-.59-1.43-.59-.52 0-1.04.2-1.43.59L10.3 9.45l-7.72 7.72c-.78.78-.78 2.05 0 2.83L4 21.41c.39.39.9.59 1.41.59.51 0 1.02-.2 1.41-.59l7.78-7.78 2.81-2.81c.8-.78.8-2.07 0-2.86zM5.41 20L4 18.59l7.72-7.72 1.47 1.35L5.41 20z\"/>\n",
              "  </svg>\n",
              "      </button>\n",
              "      \n",
              "  <style>\n",
              "    .colab-df-container {\n",
              "      display:flex;\n",
              "      flex-wrap:wrap;\n",
              "      gap: 12px;\n",
              "    }\n",
              "\n",
              "    .colab-df-convert {\n",
              "      background-color: #E8F0FE;\n",
              "      border: none;\n",
              "      border-radius: 50%;\n",
              "      cursor: pointer;\n",
              "      display: none;\n",
              "      fill: #1967D2;\n",
              "      height: 32px;\n",
              "      padding: 0 0 0 0;\n",
              "      width: 32px;\n",
              "    }\n",
              "\n",
              "    .colab-df-convert:hover {\n",
              "      background-color: #E2EBFA;\n",
              "      box-shadow: 0px 1px 2px rgba(60, 64, 67, 0.3), 0px 1px 3px 1px rgba(60, 64, 67, 0.15);\n",
              "      fill: #174EA6;\n",
              "    }\n",
              "\n",
              "    [theme=dark] .colab-df-convert {\n",
              "      background-color: #3B4455;\n",
              "      fill: #D2E3FC;\n",
              "    }\n",
              "\n",
              "    [theme=dark] .colab-df-convert:hover {\n",
              "      background-color: #434B5C;\n",
              "      box-shadow: 0px 1px 3px 1px rgba(0, 0, 0, 0.15);\n",
              "      filter: drop-shadow(0px 1px 2px rgba(0, 0, 0, 0.3));\n",
              "      fill: #FFFFFF;\n",
              "    }\n",
              "  </style>\n",
              "\n",
              "      <script>\n",
              "        const buttonEl =\n",
              "          document.querySelector('#df-bc51ad2e-4cf4-4153-8e68-4b9a5d280366 button.colab-df-convert');\n",
              "        buttonEl.style.display =\n",
              "          google.colab.kernel.accessAllowed ? 'block' : 'none';\n",
              "\n",
              "        async function convertToInteractive(key) {\n",
              "          const element = document.querySelector('#df-bc51ad2e-4cf4-4153-8e68-4b9a5d280366');\n",
              "          const dataTable =\n",
              "            await google.colab.kernel.invokeFunction('convertToInteractive',\n",
              "                                                     [key], {});\n",
              "          if (!dataTable) return;\n",
              "\n",
              "          const docLinkHtml = 'Like what you see? Visit the ' +\n",
              "            '<a target=\"_blank\" href=https://colab.research.google.com/notebooks/data_table.ipynb>data table notebook</a>'\n",
              "            + ' to learn more about interactive tables.';\n",
              "          element.innerHTML = '';\n",
              "          dataTable['output_type'] = 'display_data';\n",
              "          await google.colab.output.renderOutput(dataTable, element);\n",
              "          const docLink = document.createElement('div');\n",
              "          docLink.innerHTML = docLinkHtml;\n",
              "          element.appendChild(docLink);\n",
              "        }\n",
              "      </script>\n",
              "    </div>\n",
              "  </div>\n",
              "  "
            ]
          },
          "metadata": {},
          "execution_count": 38
        }
      ],
      "source": [
        "# check ages that are less than 16((Adult age where one can own an account).\n",
        "# AN assumption is made that those with less than 16 years cannot own an account\n",
        "df[df.Age >16]"
      ]
    },
    {
      "cell_type": "code",
      "execution_count": 39,
      "metadata": {
        "execution": {
          "iopub.execute_input": "2022-06-30T18:59:35.710391Z",
          "iopub.status.busy": "2022-06-30T18:59:35.709927Z",
          "iopub.status.idle": "2022-06-30T18:59:35.715953Z",
          "shell.execute_reply": "2022-06-30T18:59:35.714590Z",
          "shell.execute_reply.started": "2022-06-30T18:59:35.710347Z"
        },
        "id": "dSwStxHCzUxj"
      },
      "outputs": [],
      "source": [
        "# There is  about 75020 rows with age that is less than 16.\n",
        "# The rows with age less than 16 are removed"
      ]
    },
    {
      "cell_type": "markdown",
      "metadata": {
        "id": "PfFbEL40zUxj"
      },
      "source": [
        "### Results\n",
        "- Based on the age columns, Some of the values were negative, it seemed unrealistic since there cannot be a date in future that has already occured.\n",
        "- All values that are negative were going to be removed\n",
        "- The records also that had an age less than 18 was removed i.e `It was assumed that in order to create an account, one must be attained the adulthood age since he needs to use his details for account registration so any value less than it are removed.`\n",
        "- 75020 records were removed\n"
      ]
    },
    {
      "cell_type": "code",
      "execution_count": 40,
      "metadata": {
        "execution": {
          "iopub.execute_input": "2022-06-30T18:59:35.718940Z",
          "iopub.status.busy": "2022-06-30T18:59:35.717847Z",
          "iopub.status.idle": "2022-06-30T18:59:35.798223Z",
          "shell.execute_reply": "2022-06-30T18:59:35.796928Z",
          "shell.execute_reply.started": "2022-06-30T18:59:35.718903Z"
        },
        "colab": {
          "base_uri": "https://localhost:8080/",
          "height": 206
        },
        "id": "qou6IB_KzUxj",
        "outputId": "9a65c76e-0837-4ccf-8288-ac062d0935e8"
      },
      "outputs": [
        {
          "output_type": "execute_result",
          "data": {
            "text/plain": [
              "  CustomerDOB CustGender CustLocation  CustAccountBalance TransactionDate  \\\n",
              "0  1994-10-01          F   JAMSHEDPUR            17819.05      2016-02-08   \n",
              "2  1996-11-26          F       MUMBAI            17874.44      2016-02-08   \n",
              "3  1973-09-14          F       MUMBAI           866503.21      2016-02-08   \n",
              "4  1988-03-24          F  NAVI MUMBAI             6714.43      2016-02-08   \n",
              "6  1992-01-26          F       MUMBAI              973.46      2016-02-08   \n",
              "\n",
              "   TransactionTime  TransactionAmount (INR)  Age  \n",
              "0           143207                     25.0   28  \n",
              "2           142712                    459.0   26  \n",
              "3           142714                   2060.0   49  \n",
              "4           181156                   1762.5   34  \n",
              "6           173806                    566.0   30  "
            ],
            "text/html": [
              "\n",
              "  <div id=\"df-a072fbad-2b36-4230-b1bf-b3e3ddf44a94\">\n",
              "    <div class=\"colab-df-container\">\n",
              "      <div>\n",
              "<style scoped>\n",
              "    .dataframe tbody tr th:only-of-type {\n",
              "        vertical-align: middle;\n",
              "    }\n",
              "\n",
              "    .dataframe tbody tr th {\n",
              "        vertical-align: top;\n",
              "    }\n",
              "\n",
              "    .dataframe thead th {\n",
              "        text-align: right;\n",
              "    }\n",
              "</style>\n",
              "<table border=\"1\" class=\"dataframe\">\n",
              "  <thead>\n",
              "    <tr style=\"text-align: right;\">\n",
              "      <th></th>\n",
              "      <th>CustomerDOB</th>\n",
              "      <th>CustGender</th>\n",
              "      <th>CustLocation</th>\n",
              "      <th>CustAccountBalance</th>\n",
              "      <th>TransactionDate</th>\n",
              "      <th>TransactionTime</th>\n",
              "      <th>TransactionAmount (INR)</th>\n",
              "      <th>Age</th>\n",
              "    </tr>\n",
              "  </thead>\n",
              "  <tbody>\n",
              "    <tr>\n",
              "      <th>0</th>\n",
              "      <td>1994-10-01</td>\n",
              "      <td>F</td>\n",
              "      <td>JAMSHEDPUR</td>\n",
              "      <td>17819.05</td>\n",
              "      <td>2016-02-08</td>\n",
              "      <td>143207</td>\n",
              "      <td>25.0</td>\n",
              "      <td>28</td>\n",
              "    </tr>\n",
              "    <tr>\n",
              "      <th>2</th>\n",
              "      <td>1996-11-26</td>\n",
              "      <td>F</td>\n",
              "      <td>MUMBAI</td>\n",
              "      <td>17874.44</td>\n",
              "      <td>2016-02-08</td>\n",
              "      <td>142712</td>\n",
              "      <td>459.0</td>\n",
              "      <td>26</td>\n",
              "    </tr>\n",
              "    <tr>\n",
              "      <th>3</th>\n",
              "      <td>1973-09-14</td>\n",
              "      <td>F</td>\n",
              "      <td>MUMBAI</td>\n",
              "      <td>866503.21</td>\n",
              "      <td>2016-02-08</td>\n",
              "      <td>142714</td>\n",
              "      <td>2060.0</td>\n",
              "      <td>49</td>\n",
              "    </tr>\n",
              "    <tr>\n",
              "      <th>4</th>\n",
              "      <td>1988-03-24</td>\n",
              "      <td>F</td>\n",
              "      <td>NAVI MUMBAI</td>\n",
              "      <td>6714.43</td>\n",
              "      <td>2016-02-08</td>\n",
              "      <td>181156</td>\n",
              "      <td>1762.5</td>\n",
              "      <td>34</td>\n",
              "    </tr>\n",
              "    <tr>\n",
              "      <th>6</th>\n",
              "      <td>1992-01-26</td>\n",
              "      <td>F</td>\n",
              "      <td>MUMBAI</td>\n",
              "      <td>973.46</td>\n",
              "      <td>2016-02-08</td>\n",
              "      <td>173806</td>\n",
              "      <td>566.0</td>\n",
              "      <td>30</td>\n",
              "    </tr>\n",
              "  </tbody>\n",
              "</table>\n",
              "</div>\n",
              "      <button class=\"colab-df-convert\" onclick=\"convertToInteractive('df-a072fbad-2b36-4230-b1bf-b3e3ddf44a94')\"\n",
              "              title=\"Convert this dataframe to an interactive table.\"\n",
              "              style=\"display:none;\">\n",
              "        \n",
              "  <svg xmlns=\"http://www.w3.org/2000/svg\" height=\"24px\"viewBox=\"0 0 24 24\"\n",
              "       width=\"24px\">\n",
              "    <path d=\"M0 0h24v24H0V0z\" fill=\"none\"/>\n",
              "    <path d=\"M18.56 5.44l.94 2.06.94-2.06 2.06-.94-2.06-.94-.94-2.06-.94 2.06-2.06.94zm-11 1L8.5 8.5l.94-2.06 2.06-.94-2.06-.94L8.5 2.5l-.94 2.06-2.06.94zm10 10l.94 2.06.94-2.06 2.06-.94-2.06-.94-.94-2.06-.94 2.06-2.06.94z\"/><path d=\"M17.41 7.96l-1.37-1.37c-.4-.4-.92-.59-1.43-.59-.52 0-1.04.2-1.43.59L10.3 9.45l-7.72 7.72c-.78.78-.78 2.05 0 2.83L4 21.41c.39.39.9.59 1.41.59.51 0 1.02-.2 1.41-.59l7.78-7.78 2.81-2.81c.8-.78.8-2.07 0-2.86zM5.41 20L4 18.59l7.72-7.72 1.47 1.35L5.41 20z\"/>\n",
              "  </svg>\n",
              "      </button>\n",
              "      \n",
              "  <style>\n",
              "    .colab-df-container {\n",
              "      display:flex;\n",
              "      flex-wrap:wrap;\n",
              "      gap: 12px;\n",
              "    }\n",
              "\n",
              "    .colab-df-convert {\n",
              "      background-color: #E8F0FE;\n",
              "      border: none;\n",
              "      border-radius: 50%;\n",
              "      cursor: pointer;\n",
              "      display: none;\n",
              "      fill: #1967D2;\n",
              "      height: 32px;\n",
              "      padding: 0 0 0 0;\n",
              "      width: 32px;\n",
              "    }\n",
              "\n",
              "    .colab-df-convert:hover {\n",
              "      background-color: #E2EBFA;\n",
              "      box-shadow: 0px 1px 2px rgba(60, 64, 67, 0.3), 0px 1px 3px 1px rgba(60, 64, 67, 0.15);\n",
              "      fill: #174EA6;\n",
              "    }\n",
              "\n",
              "    [theme=dark] .colab-df-convert {\n",
              "      background-color: #3B4455;\n",
              "      fill: #D2E3FC;\n",
              "    }\n",
              "\n",
              "    [theme=dark] .colab-df-convert:hover {\n",
              "      background-color: #434B5C;\n",
              "      box-shadow: 0px 1px 3px 1px rgba(0, 0, 0, 0.15);\n",
              "      filter: drop-shadow(0px 1px 2px rgba(0, 0, 0, 0.3));\n",
              "      fill: #FFFFFF;\n",
              "    }\n",
              "  </style>\n",
              "\n",
              "      <script>\n",
              "        const buttonEl =\n",
              "          document.querySelector('#df-a072fbad-2b36-4230-b1bf-b3e3ddf44a94 button.colab-df-convert');\n",
              "        buttonEl.style.display =\n",
              "          google.colab.kernel.accessAllowed ? 'block' : 'none';\n",
              "\n",
              "        async function convertToInteractive(key) {\n",
              "          const element = document.querySelector('#df-a072fbad-2b36-4230-b1bf-b3e3ddf44a94');\n",
              "          const dataTable =\n",
              "            await google.colab.kernel.invokeFunction('convertToInteractive',\n",
              "                                                     [key], {});\n",
              "          if (!dataTable) return;\n",
              "\n",
              "          const docLinkHtml = 'Like what you see? Visit the ' +\n",
              "            '<a target=\"_blank\" href=https://colab.research.google.com/notebooks/data_table.ipynb>data table notebook</a>'\n",
              "            + ' to learn more about interactive tables.';\n",
              "          element.innerHTML = '';\n",
              "          dataTable['output_type'] = 'display_data';\n",
              "          await google.colab.output.renderOutput(dataTable, element);\n",
              "          const docLink = document.createElement('div');\n",
              "          docLink.innerHTML = docLinkHtml;\n",
              "          element.appendChild(docLink);\n",
              "        }\n",
              "      </script>\n",
              "    </div>\n",
              "  </div>\n",
              "  "
            ]
          },
          "metadata": {},
          "execution_count": 40
        }
      ],
      "source": [
        "df = df[df.Age>16]\n",
        "df.head()"
      ]
    },
    {
      "cell_type": "code",
      "execution_count": 41,
      "metadata": {
        "execution": {
          "iopub.execute_input": "2022-06-30T18:59:35.800281Z",
          "iopub.status.busy": "2022-06-30T18:59:35.799970Z",
          "iopub.status.idle": "2022-06-30T18:59:36.280865Z",
          "shell.execute_reply": "2022-06-30T18:59:36.279657Z",
          "shell.execute_reply.started": "2022-06-30T18:59:35.800250Z"
        },
        "id": "qi67KVE7zUxk"
      },
      "outputs": [],
      "source": [
        "# extract date meta data. They will help in modelling\n",
        "\n",
        "df['TransMonth'] = df.TransactionDate.dt.month\n",
        "df['TransactionDay'] = df.TransactionDate.dt.day\n",
        "df['TransWeekDay'] = df.TransactionDate.dt.dayofweek\n",
        "df['TransYearDay'] = df.TransactionDate.dt.dayofyear\n",
        "df['TransYear']  = df.TransactionDate.dt.year"
      ]
    },
    {
      "cell_type": "code",
      "execution_count": 42,
      "metadata": {
        "execution": {
          "iopub.execute_input": "2022-06-30T18:59:36.282523Z",
          "iopub.status.busy": "2022-06-30T18:59:36.282198Z",
          "iopub.status.idle": "2022-06-30T18:59:40.769178Z",
          "shell.execute_reply": "2022-06-30T18:59:40.768038Z",
          "shell.execute_reply.started": "2022-06-30T18:59:36.282492Z"
        },
        "id": "6jDXGDgzzUxk"
      },
      "outputs": [],
      "source": [
        "# transaction hour from trasaction time.\n",
        "from datetime import datetime\n",
        "df[\"TransHour\"] = [int(datetime.fromtimestamp(i).strftime(\"%H\")) for i in df.TransactionTime.values]"
      ]
    },
    {
      "cell_type": "code",
      "execution_count": 43,
      "metadata": {
        "execution": {
          "iopub.execute_input": "2022-06-30T18:59:40.771193Z",
          "iopub.status.busy": "2022-06-30T18:59:40.770716Z",
          "iopub.status.idle": "2022-06-30T18:59:40.794196Z",
          "shell.execute_reply": "2022-06-30T18:59:40.792676Z",
          "shell.execute_reply.started": "2022-06-30T18:59:40.771147Z"
        },
        "colab": {
          "base_uri": "https://localhost:8080/",
          "height": 288
        },
        "id": "qPMLpiLqzUxl",
        "outputId": "cc85a9d0-0ffb-48ea-c868-b1c9a2f38d24"
      },
      "outputs": [
        {
          "output_type": "execute_result",
          "data": {
            "text/plain": [
              "  CustomerDOB CustGender CustLocation  CustAccountBalance TransactionDate  \\\n",
              "0  1994-10-01          F   JAMSHEDPUR            17819.05      2016-02-08   \n",
              "2  1996-11-26          F       MUMBAI            17874.44      2016-02-08   \n",
              "3  1973-09-14          F       MUMBAI           866503.21      2016-02-08   \n",
              "4  1988-03-24          F  NAVI MUMBAI             6714.43      2016-02-08   \n",
              "6  1992-01-26          F       MUMBAI              973.46      2016-02-08   \n",
              "\n",
              "   TransactionTime  TransactionAmount (INR)  Age  TransMonth  TransactionDay  \\\n",
              "0           143207                     25.0   28           2               8   \n",
              "2           142712                    459.0   26           2               8   \n",
              "3           142714                   2060.0   49           2               8   \n",
              "4           181156                   1762.5   34           2               8   \n",
              "6           173806                    566.0   30           2               8   \n",
              "\n",
              "   TransWeekDay  TransYearDay  TransYear  TransHour  \n",
              "0             0            39       2016         15  \n",
              "2             0            39       2016         15  \n",
              "3             0            39       2016         15  \n",
              "4             0            39       2016          2  \n",
              "6             0            39       2016          0  "
            ],
            "text/html": [
              "\n",
              "  <div id=\"df-167f478b-1d1f-435c-8099-c213da8c4b1b\">\n",
              "    <div class=\"colab-df-container\">\n",
              "      <div>\n",
              "<style scoped>\n",
              "    .dataframe tbody tr th:only-of-type {\n",
              "        vertical-align: middle;\n",
              "    }\n",
              "\n",
              "    .dataframe tbody tr th {\n",
              "        vertical-align: top;\n",
              "    }\n",
              "\n",
              "    .dataframe thead th {\n",
              "        text-align: right;\n",
              "    }\n",
              "</style>\n",
              "<table border=\"1\" class=\"dataframe\">\n",
              "  <thead>\n",
              "    <tr style=\"text-align: right;\">\n",
              "      <th></th>\n",
              "      <th>CustomerDOB</th>\n",
              "      <th>CustGender</th>\n",
              "      <th>CustLocation</th>\n",
              "      <th>CustAccountBalance</th>\n",
              "      <th>TransactionDate</th>\n",
              "      <th>TransactionTime</th>\n",
              "      <th>TransactionAmount (INR)</th>\n",
              "      <th>Age</th>\n",
              "      <th>TransMonth</th>\n",
              "      <th>TransactionDay</th>\n",
              "      <th>TransWeekDay</th>\n",
              "      <th>TransYearDay</th>\n",
              "      <th>TransYear</th>\n",
              "      <th>TransHour</th>\n",
              "    </tr>\n",
              "  </thead>\n",
              "  <tbody>\n",
              "    <tr>\n",
              "      <th>0</th>\n",
              "      <td>1994-10-01</td>\n",
              "      <td>F</td>\n",
              "      <td>JAMSHEDPUR</td>\n",
              "      <td>17819.05</td>\n",
              "      <td>2016-02-08</td>\n",
              "      <td>143207</td>\n",
              "      <td>25.0</td>\n",
              "      <td>28</td>\n",
              "      <td>2</td>\n",
              "      <td>8</td>\n",
              "      <td>0</td>\n",
              "      <td>39</td>\n",
              "      <td>2016</td>\n",
              "      <td>15</td>\n",
              "    </tr>\n",
              "    <tr>\n",
              "      <th>2</th>\n",
              "      <td>1996-11-26</td>\n",
              "      <td>F</td>\n",
              "      <td>MUMBAI</td>\n",
              "      <td>17874.44</td>\n",
              "      <td>2016-02-08</td>\n",
              "      <td>142712</td>\n",
              "      <td>459.0</td>\n",
              "      <td>26</td>\n",
              "      <td>2</td>\n",
              "      <td>8</td>\n",
              "      <td>0</td>\n",
              "      <td>39</td>\n",
              "      <td>2016</td>\n",
              "      <td>15</td>\n",
              "    </tr>\n",
              "    <tr>\n",
              "      <th>3</th>\n",
              "      <td>1973-09-14</td>\n",
              "      <td>F</td>\n",
              "      <td>MUMBAI</td>\n",
              "      <td>866503.21</td>\n",
              "      <td>2016-02-08</td>\n",
              "      <td>142714</td>\n",
              "      <td>2060.0</td>\n",
              "      <td>49</td>\n",
              "      <td>2</td>\n",
              "      <td>8</td>\n",
              "      <td>0</td>\n",
              "      <td>39</td>\n",
              "      <td>2016</td>\n",
              "      <td>15</td>\n",
              "    </tr>\n",
              "    <tr>\n",
              "      <th>4</th>\n",
              "      <td>1988-03-24</td>\n",
              "      <td>F</td>\n",
              "      <td>NAVI MUMBAI</td>\n",
              "      <td>6714.43</td>\n",
              "      <td>2016-02-08</td>\n",
              "      <td>181156</td>\n",
              "      <td>1762.5</td>\n",
              "      <td>34</td>\n",
              "      <td>2</td>\n",
              "      <td>8</td>\n",
              "      <td>0</td>\n",
              "      <td>39</td>\n",
              "      <td>2016</td>\n",
              "      <td>2</td>\n",
              "    </tr>\n",
              "    <tr>\n",
              "      <th>6</th>\n",
              "      <td>1992-01-26</td>\n",
              "      <td>F</td>\n",
              "      <td>MUMBAI</td>\n",
              "      <td>973.46</td>\n",
              "      <td>2016-02-08</td>\n",
              "      <td>173806</td>\n",
              "      <td>566.0</td>\n",
              "      <td>30</td>\n",
              "      <td>2</td>\n",
              "      <td>8</td>\n",
              "      <td>0</td>\n",
              "      <td>39</td>\n",
              "      <td>2016</td>\n",
              "      <td>0</td>\n",
              "    </tr>\n",
              "  </tbody>\n",
              "</table>\n",
              "</div>\n",
              "      <button class=\"colab-df-convert\" onclick=\"convertToInteractive('df-167f478b-1d1f-435c-8099-c213da8c4b1b')\"\n",
              "              title=\"Convert this dataframe to an interactive table.\"\n",
              "              style=\"display:none;\">\n",
              "        \n",
              "  <svg xmlns=\"http://www.w3.org/2000/svg\" height=\"24px\"viewBox=\"0 0 24 24\"\n",
              "       width=\"24px\">\n",
              "    <path d=\"M0 0h24v24H0V0z\" fill=\"none\"/>\n",
              "    <path d=\"M18.56 5.44l.94 2.06.94-2.06 2.06-.94-2.06-.94-.94-2.06-.94 2.06-2.06.94zm-11 1L8.5 8.5l.94-2.06 2.06-.94-2.06-.94L8.5 2.5l-.94 2.06-2.06.94zm10 10l.94 2.06.94-2.06 2.06-.94-2.06-.94-.94-2.06-.94 2.06-2.06.94z\"/><path d=\"M17.41 7.96l-1.37-1.37c-.4-.4-.92-.59-1.43-.59-.52 0-1.04.2-1.43.59L10.3 9.45l-7.72 7.72c-.78.78-.78 2.05 0 2.83L4 21.41c.39.39.9.59 1.41.59.51 0 1.02-.2 1.41-.59l7.78-7.78 2.81-2.81c.8-.78.8-2.07 0-2.86zM5.41 20L4 18.59l7.72-7.72 1.47 1.35L5.41 20z\"/>\n",
              "  </svg>\n",
              "      </button>\n",
              "      \n",
              "  <style>\n",
              "    .colab-df-container {\n",
              "      display:flex;\n",
              "      flex-wrap:wrap;\n",
              "      gap: 12px;\n",
              "    }\n",
              "\n",
              "    .colab-df-convert {\n",
              "      background-color: #E8F0FE;\n",
              "      border: none;\n",
              "      border-radius: 50%;\n",
              "      cursor: pointer;\n",
              "      display: none;\n",
              "      fill: #1967D2;\n",
              "      height: 32px;\n",
              "      padding: 0 0 0 0;\n",
              "      width: 32px;\n",
              "    }\n",
              "\n",
              "    .colab-df-convert:hover {\n",
              "      background-color: #E2EBFA;\n",
              "      box-shadow: 0px 1px 2px rgba(60, 64, 67, 0.3), 0px 1px 3px 1px rgba(60, 64, 67, 0.15);\n",
              "      fill: #174EA6;\n",
              "    }\n",
              "\n",
              "    [theme=dark] .colab-df-convert {\n",
              "      background-color: #3B4455;\n",
              "      fill: #D2E3FC;\n",
              "    }\n",
              "\n",
              "    [theme=dark] .colab-df-convert:hover {\n",
              "      background-color: #434B5C;\n",
              "      box-shadow: 0px 1px 3px 1px rgba(0, 0, 0, 0.15);\n",
              "      filter: drop-shadow(0px 1px 2px rgba(0, 0, 0, 0.3));\n",
              "      fill: #FFFFFF;\n",
              "    }\n",
              "  </style>\n",
              "\n",
              "      <script>\n",
              "        const buttonEl =\n",
              "          document.querySelector('#df-167f478b-1d1f-435c-8099-c213da8c4b1b button.colab-df-convert');\n",
              "        buttonEl.style.display =\n",
              "          google.colab.kernel.accessAllowed ? 'block' : 'none';\n",
              "\n",
              "        async function convertToInteractive(key) {\n",
              "          const element = document.querySelector('#df-167f478b-1d1f-435c-8099-c213da8c4b1b');\n",
              "          const dataTable =\n",
              "            await google.colab.kernel.invokeFunction('convertToInteractive',\n",
              "                                                     [key], {});\n",
              "          if (!dataTable) return;\n",
              "\n",
              "          const docLinkHtml = 'Like what you see? Visit the ' +\n",
              "            '<a target=\"_blank\" href=https://colab.research.google.com/notebooks/data_table.ipynb>data table notebook</a>'\n",
              "            + ' to learn more about interactive tables.';\n",
              "          element.innerHTML = '';\n",
              "          dataTable['output_type'] = 'display_data';\n",
              "          await google.colab.output.renderOutput(dataTable, element);\n",
              "          const docLink = document.createElement('div');\n",
              "          docLink.innerHTML = docLinkHtml;\n",
              "          element.appendChild(docLink);\n",
              "        }\n",
              "      </script>\n",
              "    </div>\n",
              "  </div>\n",
              "  "
            ]
          },
          "metadata": {},
          "execution_count": 43
        }
      ],
      "source": [
        "df.head()"
      ]
    },
    {
      "cell_type": "markdown",
      "metadata": {
        "id": "bCh6vfKFzUxl"
      },
      "source": [
        "### Date Features Analysis.\n",
        "\n",
        "- Some fetures like month, day and month will be used to do some analysis.\n",
        "- It will help in gaining insights on when the transactions were made."
      ]
    },
    {
      "cell_type": "code",
      "execution_count": 44,
      "metadata": {
        "execution": {
          "iopub.execute_input": "2022-06-30T18:59:40.799491Z",
          "iopub.status.busy": "2022-06-30T18:59:40.798707Z",
          "iopub.status.idle": "2022-06-30T18:59:41.070343Z",
          "shell.execute_reply": "2022-06-30T18:59:41.069416Z",
          "shell.execute_reply.started": "2022-06-30T18:59:40.799456Z"
        },
        "id": "5fDmCRu6zUxm"
      },
      "outputs": [],
      "source": [
        "\n",
        "# all months\n",
        "all_months =['Jan',\"Feb\",\"March\",\"April\",\"May\",\"June\",\"July\",\"Aug\",\"sept\",\"Oct\",\"Nov\",\"Dec\"]\n",
        "month_df =df.groupby([\"TransMonth\", \"CustGender\"]).mean().reset_index()\n"
      ]
    },
    {
      "cell_type": "code",
      "execution_count": 45,
      "metadata": {
        "execution": {
          "iopub.execute_input": "2022-06-30T18:59:41.072124Z",
          "iopub.status.busy": "2022-06-30T18:59:41.071650Z",
          "iopub.status.idle": "2022-06-30T18:59:41.681107Z",
          "shell.execute_reply": "2022-06-30T18:59:41.679839Z",
          "shell.execute_reply.started": "2022-06-30T18:59:41.072093Z"
        },
        "colab": {
          "base_uri": "https://localhost:8080/",
          "height": 427
        },
        "id": "LfzPf6jwzUxm",
        "outputId": "45f96a02-e979-4d5a-9dfc-715462b18245"
      },
      "outputs": [
        {
          "output_type": "execute_result",
          "data": {
            "text/plain": [
              "<seaborn.axisgrid.FacetGrid at 0x7fcb3542cbb0>"
            ]
          },
          "metadata": {},
          "execution_count": 45
        },
        {
          "output_type": "display_data",
          "data": {
            "text/plain": [
              "<Figure size 1080x864 with 0 Axes>"
            ]
          },
          "metadata": {}
        },
        {
          "output_type": "display_data",
          "data": {
            "text/plain": [
              "<Figure size 427.25x360 with 1 Axes>"
            ],
            "image/png": "[encoded data removed]"
          },
          "metadata": {
            "needs_background": "light"
          }
        }
      ],
      "source": [
        "# view the transaction as for each month comparison\n",
        "plt.figure(figsize=(15,12))\n",
        "g = sns.catplot(\n",
        "    data = month_df,\n",
        "    y='TransactionAmount (INR)',\n",
        "    kind='bar',\n",
        "    x=\"TransMonth\",\n",
        "    hue='CustGender')\n",
        "plt.title('Monthly Male vs Female comparisons on Transaction amount',fontsize=22,c='r');\n",
        "\n",
        "g.set_xticklabels(all_months)"
      ]
    },
    {
      "cell_type": "markdown",
      "metadata": {
        "id": "qQRR69EhzUxm"
      },
      "source": [
        "### Observation\n",
        "- Based on individual month transaction amount on total based, unlike for averages, Male customers have higher transaction rate than females.\n",
        "- Banks should then consider providing more special incentives to males as they are like to be active interms of number of customers.\n",
        "- August and September had had the most amount of transactions"
      ]
    },
    {
      "cell_type": "code",
      "execution_count": 46,
      "metadata": {
        "execution": {
          "iopub.execute_input": "2022-06-30T18:59:41.683313Z",
          "iopub.status.busy": "2022-06-30T18:59:41.682958Z",
          "iopub.status.idle": "2022-06-30T18:59:42.195533Z",
          "shell.execute_reply": "2022-06-30T18:59:42.194388Z",
          "shell.execute_reply.started": "2022-06-30T18:59:41.683279Z"
        },
        "colab": {
          "base_uri": "https://localhost:8080/",
          "height": 409
        },
        "id": "0bDvcn4zzUxn",
        "outputId": "ae692307-4fc7-46d0-c2f7-333034afe05f"
      },
      "outputs": [
        {
          "output_type": "execute_result",
          "data": {
            "text/plain": [
              "<seaborn.axisgrid.FacetGrid at 0x7fcb35415310>"
            ]
          },
          "metadata": {},
          "execution_count": 46
        },
        {
          "output_type": "display_data",
          "data": {
            "text/plain": [
              "<Figure size 427.25x360 with 1 Axes>"
            ],
            "image/png": "[encoded data removed]"
          },
          "metadata": {
            "needs_background": "light"
          }
        }
      ],
      "source": [
        "\n",
        "g = sns.catplot(\n",
        "    data = month_df,\n",
        "    y='CustAccountBalance',\n",
        "    kind='bar',\n",
        "    x=\"TransMonth\",\n",
        "    hue='CustGender')\n",
        "plt.title('Monthly Comparison AccountBalnces for Males vs Female',fontsize=22,c='r');\n",
        "\n",
        "g.set_xticklabels(all_months)"
      ]
    },
    {
      "cell_type": "markdown",
      "metadata": {
        "execution": {
          "iopub.execute_input": "2022-06-30T10:48:27.890570Z",
          "iopub.status.busy": "2022-06-30T10:48:27.890210Z",
          "iopub.status.idle": "2022-06-30T10:48:27.894337Z",
          "shell.execute_reply": "2022-06-30T10:48:27.893516Z",
          "shell.execute_reply.started": "2022-06-30T10:48:27.890538Z"
        },
        "id": "QJ6uYga2zUxn"
      },
      "source": [
        "### Res\n",
        "- Male customers predominantly have greater account balances as compared to their female counterparts. \n",
        "- This can be attributed to the fact that their average transaction rates is low as compaired to females. What makes them more interms of TransactionAmount is that they are many unlike females.\n",
        "- In the month of decembers, Females outweighed males in Amount since maybe on december males tends to give out more money"
      ]
    },
    {
      "cell_type": "code",
      "execution_count": 47,
      "metadata": {
        "execution": {
          "iopub.execute_input": "2022-06-30T18:59:42.199285Z",
          "iopub.status.busy": "2022-06-30T18:59:42.198786Z",
          "iopub.status.idle": "2022-06-30T18:59:42.838062Z",
          "shell.execute_reply": "2022-06-30T18:59:42.836784Z",
          "shell.execute_reply.started": "2022-06-30T18:59:42.199249Z"
        },
        "colab": {
          "base_uri": "https://localhost:8080/",
          "height": 408
        },
        "id": "bEsMUAqmzUxn",
        "outputId": "cb960b62-486f-4bdd-d7bd-c371f3dcf9fe"
      },
      "outputs": [
        {
          "output_type": "execute_result",
          "data": {
            "text/plain": [
              "<seaborn.axisgrid.FacetGrid at 0x7fcb2e391760>"
            ]
          },
          "metadata": {},
          "execution_count": 47
        },
        {
          "output_type": "display_data",
          "data": {
            "text/plain": [
              "<Figure size 427.25x360 with 1 Axes>"
            ],
            "image/png": "[encoded data removed]"
          },
          "metadata": {
            "needs_background": "light"
          }
        }
      ],
      "source": [
        "\n",
        "# by week\n",
        "day_df =df.groupby([\"TransWeekDay\", \"CustGender\"]).mean().reset_index()\n",
        "g = sns.catplot(data=day_df,\n",
        "            x='TransWeekDay',\n",
        "            y='TransactionAmount (INR)',\n",
        "            kind='bar',\n",
        "            hue='CustGender')\n",
        "plt.title('Day of Week Male vs Female comparison in Transaction amount',color='r', fontsize=20);\n",
        "g.set_xticklabels([\"Mon\", \"Tue\", \"Wed\", \"Thur\",\"Fri\", \"Sart\", \"Sun\"])"
      ]
    },
    {
      "cell_type": "markdown",
      "metadata": {
        "id": "6gcryCSozUxo"
      },
      "source": [
        "### Results\n",
        "- On every date, Females have higher  Transaction amount  than their male counterparts\n"
      ]
    },
    {
      "cell_type": "code",
      "execution_count": 48,
      "metadata": {
        "execution": {
          "iopub.execute_input": "2022-06-30T18:59:42.839684Z",
          "iopub.status.busy": "2022-06-30T18:59:42.839330Z",
          "iopub.status.idle": "2022-06-30T18:59:43.217363Z",
          "shell.execute_reply": "2022-06-30T18:59:43.215954Z",
          "shell.execute_reply.started": "2022-06-30T18:59:42.839636Z"
        },
        "colab": {
          "base_uri": "https://localhost:8080/",
          "height": 507
        },
        "id": "UDNgRRbVzUxo",
        "outputId": "d6cb5a3b-40f3-41bf-85d6-63dc39764eb9"
      },
      "outputs": [
        {
          "output_type": "display_data",
          "data": {
            "text/plain": [
              "<Figure size 720x576 with 1 Axes>"
            ],
            "image/png": "[encoded data removed]"
          },
          "metadata": {
            "needs_background": "light"
          }
        }
      ],
      "source": [
        "plt.figure(figsize=(10,8))\n",
        "df.groupby('CustLocation')['TransactionAmount (INR)'].mean().sort_values(\n",
        "    ascending=False)[:15].plot(\n",
        "    kind='barh',\n",
        "    color=['green','cyan','blue','yellow','orangered','tomato','magenta'])\n",
        "plt.ylabel('Transaction Amount for top 15 Locations.');\n",
        "plt.xticks(rotation=45)\n",
        "plt.show()"
      ]
    },
    {
      "cell_type": "markdown",
      "metadata": {
        "id": "hBUa5RAUzUxo"
      },
      "source": [
        "### Observation\n",
        "- Customers from Roomford had the higherst amount of transactions followed by Palakkarai, then Munchen etc "
      ]
    },
    {
      "cell_type": "code",
      "execution_count": 49,
      "metadata": {
        "execution": {
          "iopub.execute_input": "2022-06-30T18:59:43.219554Z",
          "iopub.status.busy": "2022-06-30T18:59:43.219110Z",
          "iopub.status.idle": "2022-06-30T18:59:43.631359Z",
          "shell.execute_reply": "2022-06-30T18:59:43.629995Z",
          "shell.execute_reply.started": "2022-06-30T18:59:43.219517Z"
        },
        "colab": {
          "base_uri": "https://localhost:8080/",
          "height": 504
        },
        "id": "2Bi5efU_zUxp",
        "outputId": "a11343bf-23be-40b4-942f-47003bb5e9fe"
      },
      "outputs": [
        {
          "output_type": "display_data",
          "data": {
            "text/plain": [
              "<Figure size 720x576 with 1 Axes>"
            ],
            "image/png": "[encoded data removed]"
          },
          "metadata": {
            "needs_background": "light"
          }
        }
      ],
      "source": [
        "# bottom 10\n",
        "plt.figure(figsize=(10,8))\n",
        "df.groupby('CustLocation')['CustAccountBalance'].mean().sort_values(ascending=False)[:15].plot(kind='barh',color=['aqua','maroon','lawngreen','crimson','tomato','violet','red','brown','green','royalblue'])\n",
        "plt.ylabel('Transaction Amount for bottom 15 Locations.');\n",
        "plt.xticks(rotation=45)\n",
        "plt.show()"
      ]
    },
    {
      "cell_type": "markdown",
      "metadata": {
        "id": "zrqspngczUxp"
      },
      "source": [
        "### Observing account balance by Age"
      ]
    },
    {
      "cell_type": "code",
      "execution_count": 50,
      "metadata": {
        "execution": {
          "iopub.execute_input": "2022-06-30T18:59:43.633874Z",
          "iopub.status.busy": "2022-06-30T18:59:43.633367Z",
          "iopub.status.idle": "2022-06-30T18:59:56.326194Z",
          "shell.execute_reply": "2022-06-30T18:59:56.324794Z",
          "shell.execute_reply.started": "2022-06-30T18:59:43.633839Z"
        },
        "colab": {
          "base_uri": "https://localhost:8080/",
          "height": 754
        },
        "id": "aB_pl-M7zUxp",
        "outputId": "8003bde6-1a50-45bd-9ee7-59d9c7230a0f"
      },
      "outputs": [
        {
          "output_type": "display_data",
          "data": {
            "text/plain": [
              "<Figure size 3000x1600 with 1 Axes>"
            ],
            "image/png": "[encoded data removed]"
          },
          "metadata": {
            "needs_background": "light"
          }
        }
      ],
      "source": [
        "# Che\n",
        "plt.figure(figsize=(15,8),dpi=200)\n",
        "sns.barplot(data=df,x='Age',y='CustAccountBalance',palette='BuPu_r')\n",
        "plt.xticks(rotation=45)\n",
        "plt.title(\"Account Balance by Age\", fontsize=17, c='g')\n",
        "plt.show()"
      ]
    },
    {
      "cell_type": "markdown",
      "metadata": {
        "id": "AKLQUIJqzUxp"
      },
      "source": [
        "### Observation\n",
        "- Assuming that there is no age 222 which was assumed as a placeholder; we observe that;\n",
        "    - Account balances of customers increases with Age and having a peak at 50 with few exceptions\n",
        "    - \n",
        "    \n",
        "    - "
      ]
    },
    {
      "cell_type": "code",
      "execution_count": 51,
      "metadata": {
        "execution": {
          "iopub.execute_input": "2022-06-30T18:59:56.331210Z",
          "iopub.status.busy": "2022-06-30T18:59:56.328322Z",
          "iopub.status.idle": "2022-06-30T19:00:08.674285Z",
          "shell.execute_reply": "2022-06-30T19:00:08.672978Z",
          "shell.execute_reply.started": "2022-06-30T18:59:56.331162Z"
        },
        "colab": {
          "base_uri": "https://localhost:8080/",
          "height": 636
        },
        "id": "xCOCKqlnzUxq",
        "outputId": "edc01034-ad53-4357-ef04-7f238d59125b"
      },
      "outputs": [
        {
          "output_type": "display_data",
          "data": {
            "text/plain": [
              "<Figure size 1080x720 with 1 Axes>"
            ],
            "image/png": "[encoded data removed]"
          },
          "metadata": {
            "needs_background": "light"
          }
        }
      ],
      "source": [
        "plt.figure(figsize=(15,10))\n",
        "sns.barplot(data=df,x='Age',y='TransactionAmount (INR)')\n",
        "plt.title(\"Transaction Amount  by Age\", fontsize=17, c='g')\n",
        "plt.xticks(rotation=50)\n",
        "plt.show()"
      ]
    },
    {
      "cell_type": "markdown",
      "metadata": {
        "id": "7SCnGcuIzUxq"
      },
      "source": [
        "- There is a similar trend as the case of Account balance allthough for Younger adult customers, in the age range of 19 to 24 years, \n",
        " perform exorbitant transactions as compared to their surrounding age groups. This  might be a reason due to the reason that younger adults between the ages of 18 to 24 years have their own career aspirations to fulfil as a  consequence of which they generally have lavish and extravagant demands for fulfilling their passions and interests and for facilitating their development through all means.\n",
        "- As also from 29 the transaction amount increases which might be due to the individual has a family which he is looking after and managing his livelihood"
      ]
    },
    {
      "cell_type": "markdown",
      "metadata": {
        "id": "x8Ti2uT8zUxq"
      },
      "source": [
        "### Check Distribution of numerical columns originally"
      ]
    },
    {
      "cell_type": "code",
      "execution_count": 52,
      "metadata": {
        "execution": {
          "iopub.execute_input": "2022-06-30T19:00:08.676967Z",
          "iopub.status.busy": "2022-06-30T19:00:08.676506Z",
          "iopub.status.idle": "2022-06-30T19:00:24.548787Z",
          "shell.execute_reply": "2022-06-30T19:00:24.547312Z",
          "shell.execute_reply.started": "2022-06-30T19:00:08.676932Z"
        },
        "colab": {
          "base_uri": "https://localhost:8080/",
          "height": 872
        },
        "id": "S53lP0hSzUxr",
        "outputId": "139aa7ef-5800-4132-ca64-8822465129ed"
      },
      "outputs": [
        {
          "output_type": "display_data",
          "data": {
            "text/plain": [
              "<Figure size 720x3600 with 4 Axes>"
            ],
            "image/png": "[encoded data removed]"
          },
          "metadata": {
            "needs_background": "light"
          }
        }
      ],
      "source": [
        "# lets plot KDE plot of numerical features to have some observations\n",
        "plt.figure(figsize = (10,50))\n",
        "numerical_cols = ['TransactionAmount (INR)', 'TransactionTime', 'CustAccountBalance', \"Age\"]\n",
        "for i in range(len(numerical_cols)):\n",
        "    plt.subplot(17, 1,  i+1) \n",
        "    sns.distplot(df[numerical_cols[i]], kde_kws = {\"color\": \"b\", \"lw\": 3, \"label\": \"KDE\"}, hist_kws= {\"color\":\"g\"}) \n",
        "    \n",
        "    plt.title(numerical_cols[i], fontsize=17, c='r')     \n",
        "    \n",
        "plt.tight_layout()"
      ]
    },
    {
      "cell_type": "markdown",
      "metadata": {
        "execution": {
          "iopub.execute_input": "2022-06-30T10:49:09.330095Z",
          "iopub.status.busy": "2022-06-30T10:49:09.329646Z",
          "iopub.status.idle": "2022-06-30T10:49:09.337668Z",
          "shell.execute_reply": "2022-06-30T10:49:09.336552Z",
          "shell.execute_reply.started": "2022-06-30T10:49:09.330057Z"
        },
        "id": "uK_CWePgzUxr"
      },
      "source": [
        "### Observation\n",
        "- Age is normally distributed when imputed age with placeholder i.e one that DOB was 1800 is ignored.\n",
        "- Transaction amount, Account balance and transaction time is not normally distributed.\n",
        "- Balance and Transaction amount is skewed to the left highly while Transaction time is skewed to the right.\n",
        "- These features will be normallized using A scaling version between the maximum and minimum value in order to make it std value small"
      ]
    },
    {
      "cell_type": "code",
      "execution_count": 53,
      "metadata": {
        "execution": {
          "iopub.execute_input": "2022-06-30T19:00:24.551786Z",
          "iopub.status.busy": "2022-06-30T19:00:24.551411Z",
          "iopub.status.idle": "2022-06-30T19:00:24.875295Z",
          "shell.execute_reply": "2022-06-30T19:00:24.873884Z",
          "shell.execute_reply.started": "2022-06-30T19:00:24.551753Z"
        },
        "colab": {
          "base_uri": "https://localhost:8080/",
          "height": 350
        },
        "id": "xRxo_EYgzUxs",
        "outputId": "a1b5c39e-fe8a-4298-d0de-5f5f3af3c598"
      },
      "outputs": [
        {
          "output_type": "display_data",
          "data": {
            "text/plain": [
              "<Figure size 720x360 with 1 Axes>"
            ],
            "image/png": "[encoded data removed]"
          },
          "metadata": {
            "needs_background": "light"
          }
        }
      ],
      "source": [
        "plt.figure(figsize=(10,5))\n",
        "plt.title(\"Account Balance Distribution\")\n",
        "plt.xlabel(\"Account Balance Bins\")\n",
        "plt.ylabel(\"Count\")\n",
        "plt.hist(df.CustAccountBalance,bins=10)\n",
        "plt.tick_params(bottom=False,left=False)\n",
        "plt.ticklabel_format(style='plain')\n",
        "plt.show()"
      ]
    },
    {
      "cell_type": "markdown",
      "metadata": {
        "id": "5Po1MwA4zUxs"
      },
      "source": [
        "### Results\n",
        "\n",
        "- Account balances domainte in the region of 0 to 800000 Cr and above showing that the majority of population is Moderately rich customers."
      ]
    },
    {
      "cell_type": "code",
      "execution_count": 54,
      "metadata": {
        "execution": {
          "iopub.execute_input": "2022-06-30T19:00:24.878040Z",
          "iopub.status.busy": "2022-06-30T19:00:24.877419Z",
          "iopub.status.idle": "2022-06-30T19:00:24.886408Z",
          "shell.execute_reply": "2022-06-30T19:00:24.884863Z",
          "shell.execute_reply.started": "2022-06-30T19:00:24.878003Z"
        },
        "colab": {
          "base_uri": "https://localhost:8080/"
        },
        "id": "O7NCAYaNzUxs",
        "outputId": "f2480766-9f3d-47f9-b7e6-730791476f94"
      },
      "outputs": [
        {
          "output_type": "execute_result",
          "data": {
            "text/plain": [
              "Index(['CustomerDOB', 'CustGender', 'CustLocation', 'CustAccountBalance',\n",
              "       'TransactionDate', 'TransactionTime', 'TransactionAmount (INR)', 'Age',\n",
              "       'TransMonth', 'TransactionDay', 'TransWeekDay', 'TransYearDay',\n",
              "       'TransYear', 'TransHour'],\n",
              "      dtype='object')"
            ]
          },
          "metadata": {},
          "execution_count": 54
        }
      ],
      "source": [
        "df.columns"
      ]
    },
    {
      "cell_type": "code",
      "execution_count": 55,
      "metadata": {
        "execution": {
          "iopub.execute_input": "2022-06-30T19:00:24.888305Z",
          "iopub.status.busy": "2022-06-30T19:00:24.887930Z",
          "iopub.status.idle": "2022-06-30T19:00:25.359812Z",
          "shell.execute_reply": "2022-06-30T19:00:25.358325Z",
          "shell.execute_reply.started": "2022-06-30T19:00:24.888268Z"
        },
        "colab": {
          "base_uri": "https://localhost:8080/",
          "height": 350
        },
        "id": "2QBtfvmEzUxt",
        "outputId": "b499edc8-50a2-4233-f805-7e5f6e522aca"
      },
      "outputs": [
        {
          "output_type": "display_data",
          "data": {
            "text/plain": [
              "<Figure size 1080x360 with 1 Axes>"
            ],
            "image/png": "[encoded data removed]"
          },
          "metadata": {
            "needs_background": "light"
          }
        }
      ],
      "source": [
        "plt.figure(figsize=(15,5))\n",
        "un, count = np.unique(df.TransHour.values.astype('int32'),return_counts=True)\n",
        "un, count = zip(*sorted(zip(un, count)))\n",
        "plt.title(\"Transaction Hour of Day Distribution\")\n",
        "plt.xlabel(\"Hour of Day\")\n",
        "plt.ylabel(\"Count\")\n",
        "plt.tick_params(bottom=False,left=False)\n",
        "# sns.barplot(\n",
        "#     [str(i) for i in un], count\n",
        "# )\n",
        "plt.bar([str(i) for i in un], count)\n",
        "plt.show()"
      ]
    },
    {
      "cell_type": "markdown",
      "metadata": {
        "id": "7agDl1-2zUxt"
      },
      "source": [
        "### Res\n",
        "- More transaction are done at 0500hrs, 1000hrs and 13hrs. This is probable the time in which they are waking up, going for morning tea and lunch."
      ]
    },
    {
      "cell_type": "markdown",
      "metadata": {
        "execution": {
          "iopub.execute_input": "2022-06-30T10:49:10.058184Z",
          "iopub.status.busy": "2022-06-30T10:49:10.057785Z",
          "iopub.status.idle": "2022-06-30T10:49:10.064700Z",
          "shell.execute_reply": "2022-06-30T10:49:10.062910Z",
          "shell.execute_reply.started": "2022-06-30T10:49:10.058147Z"
        },
        "id": "Lp0TLoQZzUxt"
      },
      "source": [
        "### feature engineering\n",
        "\n",
        "- All columns not required will be removed.\n",
        "- Columns that are not numerical will be converted to numerical for machine learning (Clustering purposes)\n",
        "- Data will be scaling using MinMax scaler"
      ]
    },
    {
      "cell_type": "code",
      "execution_count": 56,
      "metadata": {
        "execution": {
          "iopub.execute_input": "2022-06-30T19:00:25.362316Z",
          "iopub.status.busy": "2022-06-30T19:00:25.361435Z",
          "iopub.status.idle": "2022-06-30T19:00:25.381569Z",
          "shell.execute_reply": "2022-06-30T19:00:25.380251Z",
          "shell.execute_reply.started": "2022-06-30T19:00:25.362277Z"
        },
        "colab": {
          "base_uri": "https://localhost:8080/",
          "height": 193
        },
        "id": "jgApy_cdzUxu",
        "outputId": "c91c1a76-b214-43ef-ef85-b140886e535c"
      },
      "outputs": [
        {
          "output_type": "execute_result",
          "data": {
            "text/plain": [
              "  CustomerDOB CustGender CustLocation  CustAccountBalance TransactionDate  \\\n",
              "0  1994-10-01          F   JAMSHEDPUR            17819.05      2016-02-08   \n",
              "2  1996-11-26          F       MUMBAI            17874.44      2016-02-08   \n",
              "\n",
              "   TransactionTime  TransactionAmount (INR)  Age  TransMonth  TransactionDay  \\\n",
              "0           143207                     25.0   28           2               8   \n",
              "2           142712                    459.0   26           2               8   \n",
              "\n",
              "   TransWeekDay  TransYearDay  TransYear  TransHour  \n",
              "0             0            39       2016         15  \n",
              "2             0            39       2016         15  "
            ],
            "text/html": [
              "\n",
              "  <div id=\"df-91d5d877-50ab-4ecc-a0e3-8e33b529e674\">\n",
              "    <div class=\"colab-df-container\">\n",
              "      <div>\n",
              "<style scoped>\n",
              "    .dataframe tbody tr th:only-of-type {\n",
              "        vertical-align: middle;\n",
              "    }\n",
              "\n",
              "    .dataframe tbody tr th {\n",
              "        vertical-align: top;\n",
              "    }\n",
              "\n",
              "    .dataframe thead th {\n",
              "        text-align: right;\n",
              "    }\n",
              "</style>\n",
              "<table border=\"1\" class=\"dataframe\">\n",
              "  <thead>\n",
              "    <tr style=\"text-align: right;\">\n",
              "      <th></th>\n",
              "      <th>CustomerDOB</th>\n",
              "      <th>CustGender</th>\n",
              "      <th>CustLocation</th>\n",
              "      <th>CustAccountBalance</th>\n",
              "      <th>TransactionDate</th>\n",
              "      <th>TransactionTime</th>\n",
              "      <th>TransactionAmount (INR)</th>\n",
              "      <th>Age</th>\n",
              "      <th>TransMonth</th>\n",
              "      <th>TransactionDay</th>\n",
              "      <th>TransWeekDay</th>\n",
              "      <th>TransYearDay</th>\n",
              "      <th>TransYear</th>\n",
              "      <th>TransHour</th>\n",
              "    </tr>\n",
              "  </thead>\n",
              "  <tbody>\n",
              "    <tr>\n",
              "      <th>0</th>\n",
              "      <td>1994-10-01</td>\n",
              "      <td>F</td>\n",
              "      <td>JAMSHEDPUR</td>\n",
              "      <td>17819.05</td>\n",
              "      <td>2016-02-08</td>\n",
              "      <td>143207</td>\n",
              "      <td>25.0</td>\n",
              "      <td>28</td>\n",
              "      <td>2</td>\n",
              "      <td>8</td>\n",
              "      <td>0</td>\n",
              "      <td>39</td>\n",
              "      <td>2016</td>\n",
              "      <td>15</td>\n",
              "    </tr>\n",
              "    <tr>\n",
              "      <th>2</th>\n",
              "      <td>1996-11-26</td>\n",
              "      <td>F</td>\n",
              "      <td>MUMBAI</td>\n",
              "      <td>17874.44</td>\n",
              "      <td>2016-02-08</td>\n",
              "      <td>142712</td>\n",
              "      <td>459.0</td>\n",
              "      <td>26</td>\n",
              "      <td>2</td>\n",
              "      <td>8</td>\n",
              "      <td>0</td>\n",
              "      <td>39</td>\n",
              "      <td>2016</td>\n",
              "      <td>15</td>\n",
              "    </tr>\n",
              "  </tbody>\n",
              "</table>\n",
              "</div>\n",
              "      <button class=\"colab-df-convert\" onclick=\"convertToInteractive('df-91d5d877-50ab-4ecc-a0e3-8e33b529e674')\"\n",
              "              title=\"Convert this dataframe to an interactive table.\"\n",
              "              style=\"display:none;\">\n",
              "        \n",
              "  <svg xmlns=\"http://www.w3.org/2000/svg\" height=\"24px\"viewBox=\"0 0 24 24\"\n",
              "       width=\"24px\">\n",
              "    <path d=\"M0 0h24v24H0V0z\" fill=\"none\"/>\n",
              "    <path d=\"M18.56 5.44l.94 2.06.94-2.06 2.06-.94-2.06-.94-.94-2.06-.94 2.06-2.06.94zm-11 1L8.5 8.5l.94-2.06 2.06-.94-2.06-.94L8.5 2.5l-.94 2.06-2.06.94zm10 10l.94 2.06.94-2.06 2.06-.94-2.06-.94-.94-2.06-.94 2.06-2.06.94z\"/><path d=\"M17.41 7.96l-1.37-1.37c-.4-.4-.92-.59-1.43-.59-.52 0-1.04.2-1.43.59L10.3 9.45l-7.72 7.72c-.78.78-.78 2.05 0 2.83L4 21.41c.39.39.9.59 1.41.59.51 0 1.02-.2 1.41-.59l7.78-7.78 2.81-2.81c.8-.78.8-2.07 0-2.86zM5.41 20L4 18.59l7.72-7.72 1.47 1.35L5.41 20z\"/>\n",
              "  </svg>\n",
              "      </button>\n",
              "      \n",
              "  <style>\n",
              "    .colab-df-container {\n",
              "      display:flex;\n",
              "      flex-wrap:wrap;\n",
              "      gap: 12px;\n",
              "    }\n",
              "\n",
              "    .colab-df-convert {\n",
              "      background-color: #E8F0FE;\n",
              "      border: none;\n",
              "      border-radius: 50%;\n",
              "      cursor: pointer;\n",
              "      display: none;\n",
              "      fill: #1967D2;\n",
              "      height: 32px;\n",
              "      padding: 0 0 0 0;\n",
              "      width: 32px;\n",
              "    }\n",
              "\n",
              "    .colab-df-convert:hover {\n",
              "      background-color: #E2EBFA;\n",
              "      box-shadow: 0px 1px 2px rgba(60, 64, 67, 0.3), 0px 1px 3px 1px rgba(60, 64, 67, 0.15);\n",
              "      fill: #174EA6;\n",
              "    }\n",
              "\n",
              "    [theme=dark] .colab-df-convert {\n",
              "      background-color: #3B4455;\n",
              "      fill: #D2E3FC;\n",
              "    }\n",
              "\n",
              "    [theme=dark] .colab-df-convert:hover {\n",
              "      background-color: #434B5C;\n",
              "      box-shadow: 0px 1px 3px 1px rgba(0, 0, 0, 0.15);\n",
              "      filter: drop-shadow(0px 1px 2px rgba(0, 0, 0, 0.3));\n",
              "      fill: #FFFFFF;\n",
              "    }\n",
              "  </style>\n",
              "\n",
              "      <script>\n",
              "        const buttonEl =\n",
              "          document.querySelector('#df-91d5d877-50ab-4ecc-a0e3-8e33b529e674 button.colab-df-convert');\n",
              "        buttonEl.style.display =\n",
              "          google.colab.kernel.accessAllowed ? 'block' : 'none';\n",
              "\n",
              "        async function convertToInteractive(key) {\n",
              "          const element = document.querySelector('#df-91d5d877-50ab-4ecc-a0e3-8e33b529e674');\n",
              "          const dataTable =\n",
              "            await google.colab.kernel.invokeFunction('convertToInteractive',\n",
              "                                                     [key], {});\n",
              "          if (!dataTable) return;\n",
              "\n",
              "          const docLinkHtml = 'Like what you see? Visit the ' +\n",
              "            '<a target=\"_blank\" href=https://colab.research.google.com/notebooks/data_table.ipynb>data table notebook</a>'\n",
              "            + ' to learn more about interactive tables.';\n",
              "          element.innerHTML = '';\n",
              "          dataTable['output_type'] = 'display_data';\n",
              "          await google.colab.output.renderOutput(dataTable, element);\n",
              "          const docLink = document.createElement('div');\n",
              "          docLink.innerHTML = docLinkHtml;\n",
              "          element.appendChild(docLink);\n",
              "        }\n",
              "      </script>\n",
              "    </div>\n",
              "  </div>\n",
              "  "
            ]
          },
          "metadata": {},
          "execution_count": 56
        }
      ],
      "source": [
        "df.head(2)"
      ]
    },
    {
      "cell_type": "code",
      "execution_count": 57,
      "metadata": {
        "execution": {
          "iopub.execute_input": "2022-06-30T19:00:25.383418Z",
          "iopub.status.busy": "2022-06-30T19:00:25.383092Z",
          "iopub.status.idle": "2022-06-30T19:00:25.391710Z",
          "shell.execute_reply": "2022-06-30T19:00:25.390499Z",
          "shell.execute_reply.started": "2022-06-30T19:00:25.383386Z"
        },
        "id": "3Cksxfx0zUxu"
      },
      "outputs": [],
      "source": [
        "# Extract year of birth, month of birth and day from CustomerDOB\n",
        "# Convert gender data F=0 and M=1\n",
        "# Drop  CustomerDOB and TransactionDate columns for ml application"
      ]
    },
    {
      "cell_type": "code",
      "execution_count": 58,
      "metadata": {
        "execution": {
          "iopub.execute_input": "2022-06-30T19:00:25.394252Z",
          "iopub.status.busy": "2022-06-30T19:00:25.393593Z",
          "iopub.status.idle": "2022-06-30T19:00:25.733643Z",
          "shell.execute_reply": "2022-06-30T19:00:25.731913Z",
          "shell.execute_reply.started": "2022-06-30T19:00:25.394065Z"
        },
        "id": "lNpvVuJ6zUxu"
      },
      "outputs": [],
      "source": [
        "# extract year, month and day from date of birth\n",
        "df['YearDOB'] = df['CustomerDOB'].dt.year\n",
        "df['DayDOB']  = df['CustomerDOB'].dt.day\n",
        "df['MonthDOB'] = df['CustomerDOB'].dt.month\n"
      ]
    },
    {
      "cell_type": "code",
      "execution_count": 59,
      "metadata": {
        "execution": {
          "iopub.execute_input": "2022-06-30T19:00:25.735690Z",
          "iopub.status.busy": "2022-06-30T19:00:25.735273Z",
          "iopub.status.idle": "2022-06-30T19:00:26.112394Z",
          "shell.execute_reply": "2022-06-30T19:00:26.111191Z",
          "shell.execute_reply.started": "2022-06-30T19:00:25.735643Z"
        },
        "id": "ZVzM7gFxzUxv"
      },
      "outputs": [],
      "source": [
        "# encode location since it has some information about customer\n",
        "from sklearn.preprocessing import LabelEncoder\n",
        "loc_encoder = LabelEncoder()\n",
        "df['CustLocation'] = loc_encoder.fit_transform(df.CustLocation)"
      ]
    },
    {
      "cell_type": "code",
      "execution_count": 60,
      "metadata": {
        "execution": {
          "iopub.execute_input": "2022-06-30T19:00:26.114578Z",
          "iopub.status.busy": "2022-06-30T19:00:26.113754Z",
          "iopub.status.idle": "2022-06-30T19:00:26.265514Z",
          "shell.execute_reply": "2022-06-30T19:00:26.264463Z",
          "shell.execute_reply.started": "2022-06-30T19:00:26.114542Z"
        },
        "colab": {
          "base_uri": "https://localhost:8080/",
          "height": 288
        },
        "id": "wywCls4nzUxv",
        "outputId": "e8580d5f-a0f0-41cc-aec8-9f1c8d0564f7"
      },
      "outputs": [
        {
          "output_type": "execute_result",
          "data": {
            "text/plain": [
              "  CustGender  CustLocation  CustAccountBalance  TransactionTime  \\\n",
              "0          F          3357            17819.05           143207   \n",
              "2          F          4927            17874.44           142712   \n",
              "3          F          4927           866503.21           142714   \n",
              "4          F          5291             6714.43           181156   \n",
              "6          F          4927              973.46           173806   \n",
              "\n",
              "   TransactionAmount (INR)  Age  TransMonth  TransactionDay  TransWeekDay  \\\n",
              "0                     25.0   28           2               8             0   \n",
              "2                    459.0   26           2               8             0   \n",
              "3                   2060.0   49           2               8             0   \n",
              "4                   1762.5   34           2               8             0   \n",
              "6                    566.0   30           2               8             0   \n",
              "\n",
              "   TransYearDay  TransYear  TransHour  YearDOB  DayDOB  MonthDOB  \n",
              "0            39       2016         15     1994       1        10  \n",
              "2            39       2016         15     1996      26        11  \n",
              "3            39       2016         15     1973      14         9  \n",
              "4            39       2016          2     1988      24         3  \n",
              "6            39       2016          0     1992      26         1  "
            ],
            "text/html": [
              "\n",
              "  <div id=\"df-c0593c2c-f696-47c0-90ff-0516b6924380\">\n",
              "    <div class=\"colab-df-container\">\n",
              "      <div>\n",
              "<style scoped>\n",
              "    .dataframe tbody tr th:only-of-type {\n",
              "        vertical-align: middle;\n",
              "    }\n",
              "\n",
              "    .dataframe tbody tr th {\n",
              "        vertical-align: top;\n",
              "    }\n",
              "\n",
              "    .dataframe thead th {\n",
              "        text-align: right;\n",
              "    }\n",
              "</style>\n",
              "<table border=\"1\" class=\"dataframe\">\n",
              "  <thead>\n",
              "    <tr style=\"text-align: right;\">\n",
              "      <th></th>\n",
              "      <th>CustGender</th>\n",
              "      <th>CustLocation</th>\n",
              "      <th>CustAccountBalance</th>\n",
              "      <th>TransactionTime</th>\n",
              "      <th>TransactionAmount (INR)</th>\n",
              "      <th>Age</th>\n",
              "      <th>TransMonth</th>\n",
              "      <th>TransactionDay</th>\n",
              "      <th>TransWeekDay</th>\n",
              "      <th>TransYearDay</th>\n",
              "      <th>TransYear</th>\n",
              "      <th>TransHour</th>\n",
              "      <th>YearDOB</th>\n",
              "      <th>DayDOB</th>\n",
              "      <th>MonthDOB</th>\n",
              "    </tr>\n",
              "  </thead>\n",
              "  <tbody>\n",
              "    <tr>\n",
              "      <th>0</th>\n",
              "      <td>F</td>\n",
              "      <td>3357</td>\n",
              "      <td>17819.05</td>\n",
              "      <td>143207</td>\n",
              "      <td>25.0</td>\n",
              "      <td>28</td>\n",
              "      <td>2</td>\n",
              "      <td>8</td>\n",
              "      <td>0</td>\n",
              "      <td>39</td>\n",
              "      <td>2016</td>\n",
              "      <td>15</td>\n",
              "      <td>1994</td>\n",
              "      <td>1</td>\n",
              "      <td>10</td>\n",
              "    </tr>\n",
              "    <tr>\n",
              "      <th>2</th>\n",
              "      <td>F</td>\n",
              "      <td>4927</td>\n",
              "      <td>17874.44</td>\n",
              "      <td>142712</td>\n",
              "      <td>459.0</td>\n",
              "      <td>26</td>\n",
              "      <td>2</td>\n",
              "      <td>8</td>\n",
              "      <td>0</td>\n",
              "      <td>39</td>\n",
              "      <td>2016</td>\n",
              "      <td>15</td>\n",
              "      <td>1996</td>\n",
              "      <td>26</td>\n",
              "      <td>11</td>\n",
              "    </tr>\n",
              "    <tr>\n",
              "      <th>3</th>\n",
              "      <td>F</td>\n",
              "      <td>4927</td>\n",
              "      <td>866503.21</td>\n",
              "      <td>142714</td>\n",
              "      <td>2060.0</td>\n",
              "      <td>49</td>\n",
              "      <td>2</td>\n",
              "      <td>8</td>\n",
              "      <td>0</td>\n",
              "      <td>39</td>\n",
              "      <td>2016</td>\n",
              "      <td>15</td>\n",
              "      <td>1973</td>\n",
              "      <td>14</td>\n",
              "      <td>9</td>\n",
              "    </tr>\n",
              "    <tr>\n",
              "      <th>4</th>\n",
              "      <td>F</td>\n",
              "      <td>5291</td>\n",
              "      <td>6714.43</td>\n",
              "      <td>181156</td>\n",
              "      <td>1762.5</td>\n",
              "      <td>34</td>\n",
              "      <td>2</td>\n",
              "      <td>8</td>\n",
              "      <td>0</td>\n",
              "      <td>39</td>\n",
              "      <td>2016</td>\n",
              "      <td>2</td>\n",
              "      <td>1988</td>\n",
              "      <td>24</td>\n",
              "      <td>3</td>\n",
              "    </tr>\n",
              "    <tr>\n",
              "      <th>6</th>\n",
              "      <td>F</td>\n",
              "      <td>4927</td>\n",
              "      <td>973.46</td>\n",
              "      <td>173806</td>\n",
              "      <td>566.0</td>\n",
              "      <td>30</td>\n",
              "      <td>2</td>\n",
              "      <td>8</td>\n",
              "      <td>0</td>\n",
              "      <td>39</td>\n",
              "      <td>2016</td>\n",
              "      <td>0</td>\n",
              "      <td>1992</td>\n",
              "      <td>26</td>\n",
              "      <td>1</td>\n",
              "    </tr>\n",
              "  </tbody>\n",
              "</table>\n",
              "</div>\n",
              "      <button class=\"colab-df-convert\" onclick=\"convertToInteractive('df-c0593c2c-f696-47c0-90ff-0516b6924380')\"\n",
              "              title=\"Convert this dataframe to an interactive table.\"\n",
              "              style=\"display:none;\">\n",
              "        \n",
              "  <svg xmlns=\"http://www.w3.org/2000/svg\" height=\"24px\"viewBox=\"0 0 24 24\"\n",
              "       width=\"24px\">\n",
              "    <path d=\"M0 0h24v24H0V0z\" fill=\"none\"/>\n",
              "    <path d=\"M18.56 5.44l.94 2.06.94-2.06 2.06-.94-2.06-.94-.94-2.06-.94 2.06-2.06.94zm-11 1L8.5 8.5l.94-2.06 2.06-.94-2.06-.94L8.5 2.5l-.94 2.06-2.06.94zm10 10l.94 2.06.94-2.06 2.06-.94-2.06-.94-.94-2.06-.94 2.06-2.06.94z\"/><path d=\"M17.41 7.96l-1.37-1.37c-.4-.4-.92-.59-1.43-.59-.52 0-1.04.2-1.43.59L10.3 9.45l-7.72 7.72c-.78.78-.78 2.05 0 2.83L4 21.41c.39.39.9.59 1.41.59.51 0 1.02-.2 1.41-.59l7.78-7.78 2.81-2.81c.8-.78.8-2.07 0-2.86zM5.41 20L4 18.59l7.72-7.72 1.47 1.35L5.41 20z\"/>\n",
              "  </svg>\n",
              "      </button>\n",
              "      \n",
              "  <style>\n",
              "    .colab-df-container {\n",
              "      display:flex;\n",
              "      flex-wrap:wrap;\n",
              "      gap: 12px;\n",
              "    }\n",
              "\n",
              "    .colab-df-convert {\n",
              "      background-color: #E8F0FE;\n",
              "      border: none;\n",
              "      border-radius: 50%;\n",
              "      cursor: pointer;\n",
              "      display: none;\n",
              "      fill: #1967D2;\n",
              "      height: 32px;\n",
              "      padding: 0 0 0 0;\n",
              "      width: 32px;\n",
              "    }\n",
              "\n",
              "    .colab-df-convert:hover {\n",
              "      background-color: #E2EBFA;\n",
              "      box-shadow: 0px 1px 2px rgba(60, 64, 67, 0.3), 0px 1px 3px 1px rgba(60, 64, 67, 0.15);\n",
              "      fill: #174EA6;\n",
              "    }\n",
              "\n",
              "    [theme=dark] .colab-df-convert {\n",
              "      background-color: #3B4455;\n",
              "      fill: #D2E3FC;\n",
              "    }\n",
              "\n",
              "    [theme=dark] .colab-df-convert:hover {\n",
              "      background-color: #434B5C;\n",
              "      box-shadow: 0px 1px 3px 1px rgba(0, 0, 0, 0.15);\n",
              "      filter: drop-shadow(0px 1px 2px rgba(0, 0, 0, 0.3));\n",
              "      fill: #FFFFFF;\n",
              "    }\n",
              "  </style>\n",
              "\n",
              "      <script>\n",
              "        const buttonEl =\n",
              "          document.querySelector('#df-c0593c2c-f696-47c0-90ff-0516b6924380 button.colab-df-convert');\n",
              "        buttonEl.style.display =\n",
              "          google.colab.kernel.accessAllowed ? 'block' : 'none';\n",
              "\n",
              "        async function convertToInteractive(key) {\n",
              "          const element = document.querySelector('#df-c0593c2c-f696-47c0-90ff-0516b6924380');\n",
              "          const dataTable =\n",
              "            await google.colab.kernel.invokeFunction('convertToInteractive',\n",
              "                                                     [key], {});\n",
              "          if (!dataTable) return;\n",
              "\n",
              "          const docLinkHtml = 'Like what you see? Visit the ' +\n",
              "            '<a target=\"_blank\" href=https://colab.research.google.com/notebooks/data_table.ipynb>data table notebook</a>'\n",
              "            + ' to learn more about interactive tables.';\n",
              "          element.innerHTML = '';\n",
              "          dataTable['output_type'] = 'display_data';\n",
              "          await google.colab.output.renderOutput(dataTable, element);\n",
              "          const docLink = document.createElement('div');\n",
              "          docLink.innerHTML = docLinkHtml;\n",
              "          element.appendChild(docLink);\n",
              "        }\n",
              "      </script>\n",
              "    </div>\n",
              "  </div>\n",
              "  "
            ]
          },
          "metadata": {},
          "execution_count": 60
        }
      ],
      "source": [
        "# drop the 3 columns\n",
        "\n",
        "df.drop(columns=['CustomerDOB',\"TransactionDate\"], inplace=True)\n",
        "\n",
        "# recheck the data\n",
        "df.head()"
      ]
    },
    {
      "cell_type": "code",
      "execution_count": 61,
      "metadata": {
        "execution": {
          "iopub.execute_input": "2022-06-30T19:00:26.267710Z",
          "iopub.status.busy": "2022-06-30T19:00:26.267169Z",
          "iopub.status.idle": "2022-06-30T19:00:26.390548Z",
          "shell.execute_reply": "2022-06-30T19:00:26.389102Z",
          "shell.execute_reply.started": "2022-06-30T19:00:26.267668Z"
        },
        "id": "Mjwavqx1zUxv"
      },
      "outputs": [],
      "source": [
        "# convert gender values to numerical\n",
        "df['CustGender'] = np.where(df.CustGender==\"M\", 1, 0)"
      ]
    },
    {
      "cell_type": "code",
      "execution_count": 62,
      "metadata": {
        "execution": {
          "iopub.execute_input": "2022-06-30T19:00:26.402679Z",
          "iopub.status.busy": "2022-06-30T19:00:26.401480Z",
          "iopub.status.idle": "2022-06-30T19:00:26.558352Z",
          "shell.execute_reply": "2022-06-30T19:00:26.557385Z",
          "shell.execute_reply.started": "2022-06-30T19:00:26.402596Z"
        },
        "id": "QGENralXzUxv"
      },
      "outputs": [],
      "source": [
        "# All records with age as placeholder is going to be removed since the analysis phase is done\n",
        "\n",
        "df_final = df[df['Age']<=100]"
      ]
    },
    {
      "cell_type": "code",
      "execution_count": 63,
      "metadata": {
        "execution": {
          "iopub.execute_input": "2022-06-30T19:00:26.560819Z",
          "iopub.status.busy": "2022-06-30T19:00:26.559878Z",
          "iopub.status.idle": "2022-06-30T19:00:26.904297Z",
          "shell.execute_reply": "2022-06-30T19:00:26.903052Z",
          "shell.execute_reply.started": "2022-06-30T19:00:26.560769Z"
        },
        "id": "APC3gwbAzUxv"
      },
      "outputs": [],
      "source": [
        "# scale the dataset\n",
        "scaler = StandardScaler()\n",
        "X = scaler.fit_transform(df_final)"
      ]
    },
    {
      "cell_type": "markdown",
      "metadata": {
        "execution": {
          "iopub.execute_input": "2022-06-30T10:49:11.563442Z",
          "iopub.status.busy": "2022-06-30T10:49:11.563100Z",
          "iopub.status.idle": "2022-06-30T10:49:11.568558Z",
          "shell.execute_reply": "2022-06-30T10:49:11.567194Z",
          "shell.execute_reply.started": "2022-06-30T10:49:11.563410Z"
        },
        "id": "FTAVxD1azUxw"
      },
      "source": [
        "### The dataset is now ready for machine learning\n",
        "- It will be reduced its dimension using PCA\n",
        "- At first, contribution percentage of each component will be observed and components that has atleast 60% representation of the dataset selected"
      ]
    },
    {
      "cell_type": "code",
      "execution_count": 64,
      "metadata": {
        "execution": {
          "iopub.execute_input": "2022-06-30T19:00:26.906860Z",
          "iopub.status.busy": "2022-06-30T19:00:26.906312Z",
          "iopub.status.idle": "2022-06-30T19:00:26.915952Z",
          "shell.execute_reply": "2022-06-30T19:00:26.914554Z",
          "shell.execute_reply.started": "2022-06-30T19:00:26.906811Z"
        },
        "colab": {
          "base_uri": "https://localhost:8080/"
        },
        "id": "5QqDUuI5zUxw",
        "outputId": "120827f4-d62d-4f04-e57d-ce2486bbdb80"
      },
      "outputs": [
        {
          "output_type": "execute_result",
          "data": {
            "text/plain": [
              "(901140, 15)"
            ]
          },
          "metadata": {},
          "execution_count": 64
        }
      ],
      "source": [
        "X.shape"
      ]
    },
    {
      "cell_type": "code",
      "execution_count": 65,
      "metadata": {
        "execution": {
          "iopub.execute_input": "2022-06-30T19:00:26.918794Z",
          "iopub.status.busy": "2022-06-30T19:00:26.917943Z",
          "iopub.status.idle": "2022-06-30T19:00:26.928783Z",
          "shell.execute_reply": "2022-06-30T19:00:26.927418Z",
          "shell.execute_reply.started": "2022-06-30T19:00:26.918744Z"
        },
        "id": "sGhhqZ4GzUxw"
      },
      "outputs": [],
      "source": [
        "X = pd.DataFrame(X)"
      ]
    },
    {
      "cell_type": "code",
      "execution_count": 66,
      "metadata": {
        "execution": {
          "iopub.execute_input": "2022-06-30T19:00:26.931143Z",
          "iopub.status.busy": "2022-06-30T19:00:26.930170Z",
          "iopub.status.idle": "2022-06-30T19:00:26.942160Z",
          "shell.execute_reply": "2022-06-30T19:00:26.941166Z",
          "shell.execute_reply.started": "2022-06-30T19:00:26.931094Z"
        },
        "id": "O0KT8Jw0zUxx"
      },
      "outputs": [],
      "source": [
        "#set seed for productivity of the project\n",
        "SEED = 2022\n",
        "def set_random_seed(SEED=SEED):\n",
        "    import os\n",
        "    np.random.seed = SEED\n",
        "    os.environ['PYTHONHASHSEED'] = str(SEED)\n",
        "    \n",
        "set_random_seed()"
      ]
    },
    {
      "cell_type": "code",
      "execution_count": 67,
      "metadata": {
        "execution": {
          "iopub.execute_input": "2022-06-30T19:00:26.945122Z",
          "iopub.status.busy": "2022-06-30T19:00:26.944168Z",
          "iopub.status.idle": "2022-06-30T19:00:28.294325Z",
          "shell.execute_reply": "2022-06-30T19:00:28.292669Z",
          "shell.execute_reply.started": "2022-06-30T19:00:26.945072Z"
        },
        "id": "ChdoGH52zUxx"
      },
      "outputs": [],
      "source": [
        "# in order to work well , try reducing the dimension of the data points\n",
        "# Apply PCA by fitting the data with the same number of dimensions as features\n",
        "\n",
        "\n",
        "mms = MinMaxScaler()\n",
        "mms.fit(df)\n",
        "df1 = mms.transform(df)\n",
        "\n",
        "\n",
        "n_components = df.shape[1]\n",
        "pca = PCA(n_components=n_components, random_state=SEED)\n",
        "pca.fit(df)\n",
        "\n",
        "#transform the df using the PCA fit above\n",
        "pca_df = pca.transform(df)\n"
      ]
    },
    {
      "cell_type": "code",
      "execution_count": 68,
      "metadata": {
        "execution": {
          "iopub.execute_input": "2022-06-30T19:00:28.298152Z",
          "iopub.status.busy": "2022-06-30T19:00:28.297090Z",
          "iopub.status.idle": "2022-06-30T19:00:28.308546Z",
          "shell.execute_reply": "2022-06-30T19:00:28.306952Z",
          "shell.execute_reply.started": "2022-06-30T19:00:28.298097Z"
        },
        "colab": {
          "base_uri": "https://localhost:8080/"
        },
        "id": "Lr--hSDfzUxx",
        "outputId": "5421dedd-48ba-43ed-944f-850395a3c35b"
      },
      "outputs": [
        {
          "output_type": "execute_result",
          "data": {
            "text/plain": [
              "(957431, 15)"
            ]
          },
          "metadata": {},
          "execution_count": 68
        }
      ],
      "source": [
        "df.shape"
      ]
    },
    {
      "cell_type": "markdown",
      "metadata": {
        "id": "Rcn0P7yczUxx"
      },
      "source": [
        "- Checking the representation of each componet of the whole dataset\n",
        "- Explained variance ration is going to be used to determine cumulative explained variance."
      ]
    },
    {
      "cell_type": "code",
      "execution_count": 69,
      "metadata": {
        "execution": {
          "iopub.execute_input": "2022-06-30T19:00:28.312232Z",
          "iopub.status.busy": "2022-06-30T19:00:28.311139Z",
          "iopub.status.idle": "2022-06-30T19:00:28.327727Z",
          "shell.execute_reply": "2022-06-30T19:00:28.325992Z",
          "shell.execute_reply.started": "2022-06-30T19:00:28.312172Z"
        },
        "colab": {
          "base_uri": "https://localhost:8080/"
        },
        "id": "P2xshCtuzUxy",
        "outputId": "0d5c7c78-89eb-4030-fc95-67f8251bfd0d"
      },
      "outputs": [
        {
          "output_type": "stream",
          "name": "stdout",
          "text": [
            "Percent variance explained by first 1 components: 98.8919%\n",
            "Percent variance explained by first 2 components: 99.9831%\n",
            "Percent variance explained by first 3 components: 99.998%\n",
            "Percent variance explained by first 4 components: 100.0%\n",
            "Percent variance explained by first 5 components: 100.0%\n",
            "Percent variance explained by first 6 components: 100.0%\n",
            "Percent variance explained by first 7 components: 100.0%\n",
            "Percent variance explained by first 8 components: 100.0%\n",
            "Percent variance explained by first 9 components: 100.0%\n",
            "Percent variance explained by first 10 components: 100.0%\n",
            "Percent variance explained by first 11 components: 100.0%\n",
            "Percent variance explained by first 12 components: 100.0%\n",
            "Percent variance explained by first 13 components: 100.0%\n",
            "Percent variance explained by first 14 components: 100.0%\n",
            "Percent variance explained by first 15 components: 100.0%\n"
          ]
        }
      ],
      "source": [
        "# get variance/data representability of each of the component\n",
        "for i in range(n_components):\n",
        "    first_n = pca.explained_variance_ratio_[0:i+1].sum()*100\n",
        "    print(f'Percent variance explained by first {i+1} components: {round(first_n , 4)}%')"
      ]
    },
    {
      "cell_type": "markdown",
      "metadata": {
        "execution": {
          "iopub.execute_input": "2022-06-30T10:49:13.039234Z",
          "iopub.status.busy": "2022-06-30T10:49:13.038239Z",
          "iopub.status.idle": "2022-06-30T10:49:13.046070Z",
          "shell.execute_reply": "2022-06-30T10:49:13.044742Z",
          "shell.execute_reply.started": "2022-06-30T10:49:13.039174Z"
        },
        "id": "3Xm3JnCczUxy"
      },
      "source": [
        "### Observation\n",
        "- It can be seen that the majority of the variance in our data (>99%) can be encoded in 2 of our 15 dimensions. Thats over 99% of the variance  present can be encoded in 2 dimensions. This suggests that, There can be seen some underlying structure in a 2D visualization although some information of about 1% will be hidden.\n",
        "- All the data can be encoded with only 3 dimension (3D) by 100% score\n",
        "\n",
        "-  Also at 2D 99.98% of the information can be encoded , by being able to gather much information using the first 2 components\n",
        "- So in this case, Only 2 Dimensions will be created by reducing it using PCA algorithm with 2 PCA components.\n",
        "- Then compile the labels to to this compressed dataset after assigning labels to all of our records to visualize the results of our clustering efforts."
      ]
    },
    {
      "cell_type": "code",
      "execution_count": 70,
      "metadata": {
        "execution": {
          "iopub.execute_input": "2022-06-30T19:00:28.331106Z",
          "iopub.status.busy": "2022-06-30T19:00:28.329829Z",
          "iopub.status.idle": "2022-06-30T19:00:32.286551Z",
          "shell.execute_reply": "2022-06-30T19:00:32.284871Z",
          "shell.execute_reply.started": "2022-06-30T19:00:28.331046Z"
        },
        "id": "mr7bwyvezUxy"
      },
      "outputs": [],
      "source": [
        "# reduccing the data to the 2 dimensions\n",
        "mms = MinMaxScaler()\n",
        "mms.fit(df)\n",
        "df2 = mms.transform(df)\n",
        "\n",
        "pca = PCA(n_components=2, random_state=SEED)\n",
        "pca.fit(df2)\n",
        "\n",
        "#transform wines_norm using the PCA fit above\n",
        "traindf = pca.transform(df2)"
      ]
    },
    {
      "cell_type": "code",
      "execution_count": 71,
      "metadata": {
        "execution": {
          "iopub.execute_input": "2022-06-30T19:00:32.298402Z",
          "iopub.status.busy": "2022-06-30T19:00:32.294352Z",
          "iopub.status.idle": "2022-06-30T19:00:34.293793Z",
          "shell.execute_reply": "2022-06-30T19:00:34.292559Z",
          "shell.execute_reply.started": "2022-06-30T19:00:32.298327Z"
        },
        "colab": {
          "base_uri": "https://localhost:8080/",
          "height": 625
        },
        "id": "Kz8ykxu5zUx8",
        "outputId": "88159dba-9fdb-44b6-d63d-4a63bf333515"
      },
      "outputs": [
        {
          "output_type": "execute_result",
          "data": {
            "text/plain": [
              "<matplotlib.axes._subplots.AxesSubplot at 0x7fcb355464c0>"
            ]
          },
          "metadata": {},
          "execution_count": 71
        },
        {
          "output_type": "display_data",
          "data": {
            "text/plain": [
              "<Figure size 720x720 with 1 Axes>"
            ],
            "image/png": "[encoded data removed]"
          },
          "metadata": {
            "needs_background": "light"
          }
        }
      ],
      "source": [
        "plt.figure(figsize=(10 ,10))\n",
        "plt.title(\"2D plot of the data representation\")\n",
        "sns.scatterplot(traindf[: , 0] , traindf[: , 1])"
      ]
    },
    {
      "cell_type": "markdown",
      "metadata": {
        "id": "wisvTJ_JzUx8"
      },
      "source": [
        "### Observation\n",
        "- As it can be seen from above, the data is divided into some groups when visualized in 2D.\n",
        "\n",
        "- From the above plot there seems to be a distinguishable pattern for groups\n",
        "- Some algorithms for clustering (In this case KMEANS will be used) will be used to perfom check for distinguishable pattern for groups/segments.\n",
        "- An analytic method will be used to determine the best number of groups\n",
        "\n",
        "##### This analytical will be done as follows:\n",
        "\n",
        "- 1)  Fit the clustering algorithm using several different values of k where k is the number of clusters with  k range from 2 to 20.\n",
        "\n",
        "- 2) For each value of k, Evaluate the clustering results using the average Sum of squared distance score. Then plot the results against each k value and identify which number of clusters leads to the best results. This method is called ELBOW CURVE method\n",
        "\n",
        "- 3) Clusters will then be assigned to the required data point\n",
        "\n",
        "\\"
      ]
    },
    {
      "cell_type": "markdown",
      "metadata": {
        "id": "9_wbvnaQzUx9"
      },
      "source": [
        "### Determining the best k value"
      ]
    },
    {
      "cell_type": "code",
      "execution_count": null,
      "metadata": {
        "execution": {
          "iopub.execute_input": "2022-06-30T19:00:34.296909Z",
          "iopub.status.busy": "2022-06-30T19:00:34.295738Z",
          "iopub.status.idle": "2022-06-30T19:03:25.643679Z",
          "shell.execute_reply": "2022-06-30T19:03:25.642668Z",
          "shell.execute_reply.started": "2022-06-30T19:00:34.296859Z"
        },
        "id": "oWSJFk_jzUx9"
      },
      "outputs": [],
      "source": [
        "# determine the best k value using kmeans\n",
        "\n",
        "# model params\n",
        "kmeans_kwargs = {\"init\": \"random\",\"n_init\": 10,\"max_iter\": 300,\"random_state\": 42}\n",
        " # A list holds the SSE values for each k\n",
        "sse = []\n",
        "for k in range(1, 20):\n",
        "    kmeans = KMeans(n_clusters=k, **kmeans_kwargs)\n",
        "    kmeans.fit(traindf)\n",
        "    sse.append(kmeans.inertia_)\n",
        "    \n",
        "# plot the elbow curve\n",
        "plt.plot(range(1, 20), sse)\n",
        "plt.xticks(range(1, 20))\n",
        "plt.xlabel(\"Number of Clusters\")\n",
        "plt.ylabel(\"SSE\")\n",
        "plt.show()"
      ]
    },
    {
      "cell_type": "markdown",
      "metadata": {
        "id": "Lss2HfSKzUx9"
      },
      "source": [
        "### Observation\n",
        "- From the curve above, It can be seen that the elbow curve forms in about the 3rd or 4th cluster.\n",
        "- This 2 might be the best clusters for segmentation.\n",
        "- For easier analysis, both 2 clusters are going to be used in the analysis."
      ]
    },
    {
      "cell_type": "code",
      "execution_count": null,
      "metadata": {
        "execution": {
          "iopub.execute_input": "2022-06-30T19:03:25.646454Z",
          "iopub.status.busy": "2022-06-30T19:03:25.645241Z",
          "iopub.status.idle": "2022-06-30T19:03:25.661291Z",
          "shell.execute_reply": "2022-06-30T19:03:25.659529Z",
          "shell.execute_reply.started": "2022-06-30T19:03:25.646412Z"
        },
        "id": "P86U1CtRzUx9"
      },
      "outputs": [],
      "source": [
        "#step size of the mesh\n",
        "#a point in mesh\n",
        "h = 0.015 \n",
        "# for plotting decision boundary . each will have its won color.\n",
        "x_min, x_max = traindf[:, 0].min() - 1, traindf[:, 0].max() + 1\n",
        "y_min, y_max = traindf[:, 1].min() - 1, traindf[:, 1].max() + 1\n",
        "xx, yy = np.meshgrid(np.arange(x_min, x_max, h), np.arange(y_min, y_max, h))"
      ]
    },
    {
      "cell_type": "code",
      "execution_count": null,
      "metadata": {
        "execution": {
          "iopub.execute_input": "2022-06-30T19:03:25.664799Z",
          "iopub.status.busy": "2022-06-30T19:03:25.663376Z",
          "iopub.status.idle": "2022-06-30T19:03:56.511968Z",
          "shell.execute_reply": "2022-06-30T19:03:56.510533Z",
          "shell.execute_reply.started": "2022-06-30T19:03:25.664748Z"
        },
        "id": "tJQknUGXzUx9"
      },
      "outputs": [],
      "source": [
        "\"\"\"\n",
        "Plotting Kmean++ and normal kmeans on clusters 3,4,5 and visuallization of the results\n",
        "\"\"\"\n",
        "for n_points in [3 ,4,5]:\n",
        "    n_rows = 2\n",
        "    n_cols = 1\n",
        "    plt.figure(figsize=(30,25))\n",
        "    plt.suptitle(f\"Comparison of  Multiple KMEAN Clustering Algorithms with  {n_points} clusters\",fontsize=40,color='r')\n",
        "\n",
        "    selected_models = [       \n",
        "        (KMeans(n_clusters=n_points), \"KMeans\"),\n",
        "        (KMeans(n_clusters=n_points, init='k-means++'),\"k-means++\")\n",
        "    ]\n",
        "\n",
        "    for i, (select_model, description) in enumerate(selected_models):\n",
        "        select_model.fit(traindf)\n",
        "        y = select_model.predict(np.c_[xx.ravel(), yy.ravel()])\n",
        "        y = y.reshape(xx.shape)\n",
        "        #plot the cluster results\n",
        "        plt.subplot(n_cols, n_rows, i + 1)\n",
        "        plt.imshow(y, interpolation=\"nearest\", \n",
        "                   extent=(xx.min(), xx.max(), \n",
        "                   yy.min(), yy.max()),\n",
        "                   cmap=plt.cm.Paired, \n",
        "                   aspect=\"auto\", origin=\"lower\",\n",
        "                  )\n",
        "        plt.plot(traindf[:, 0], traindf[:, 1], \"k.\", markersize=2, alpha=0.5)\n",
        "\n",
        "\n",
        "        centroids = select_model.cluster_centers_\n",
        "        # set centroids shape as a X        ; set centroids color as a white\n",
        "        plt.scatter(centroids[:, 0], centroids[:, 1], marker=\"x\", s=169, linewidths=3, color=\"w\", zorder=10,)\n",
        "        plt.title(description , fontsize=20 , color='g')\n",
        "        plt.xlim(x_min, x_max)\n",
        "        plt.ylim(y_min, y_max)\n",
        "        plt.xticks(())\n",
        "        plt.yticks(())\n",
        "    plt.show()"
      ]
    },
    {
      "cell_type": "markdown",
      "metadata": {
        "id": "nh7U2IuozUx-"
      },
      "source": [
        "#### Observation\n",
        "- Each algorithm and cluster points has different distingishable features\n",
        "- Cluster 3 seems to be well separated in all algorithm followed by 4.\n",
        "- For the purpose of segmenting the data, only the two will be used"
      ]
    },
    {
      "cell_type": "code",
      "execution_count": null,
      "metadata": {
        "execution": {
          "iopub.execute_input": "2022-06-30T19:03:56.513517Z",
          "iopub.status.busy": "2022-06-30T19:03:56.513219Z",
          "iopub.status.idle": "2022-06-30T19:04:23.292236Z",
          "shell.execute_reply": "2022-06-30T19:04:23.290959Z",
          "shell.execute_reply.started": "2022-06-30T19:03:56.513486Z"
        },
        "id": "UpivoXrYzUx-"
      },
      "outputs": [],
      "source": [
        "kmean3 = KMeans(n_clusters=3,init=\"k-means++\")\n",
        "kmean3.fit(traindf)\n",
        "labels_3 = kmean3.labels_\n",
        "\n",
        "# plot\n",
        "plt.figure(figsize=(15 , 10))\n",
        "sns.scatterplot(traindf[:, 0], traindf[:, 1] , c = labels_3 , label=\"n_cluster-\"+str(len(set(labels_3))))\n",
        "plt.title(\"Kmeans Clusters=3 algorithm\" , fontsize =25)\n",
        "plt.show()"
      ]
    },
    {
      "cell_type": "markdown",
      "metadata": {
        "id": "HX_-EXNuzUx-"
      },
      "source": [
        "- There is well distinguishable of features in this case although centroid of one of the clusters seems to not be good placed."
      ]
    },
    {
      "cell_type": "code",
      "execution_count": null,
      "metadata": {
        "execution": {
          "iopub.execute_input": "2022-06-30T19:04:23.295375Z",
          "iopub.status.busy": "2022-06-30T19:04:23.294560Z",
          "iopub.status.idle": "2022-06-30T19:04:50.744536Z",
          "shell.execute_reply": "2022-06-30T19:04:50.743135Z",
          "shell.execute_reply.started": "2022-06-30T19:04:23.295322Z"
        },
        "id": "g_0NckvizUx-"
      },
      "outputs": [],
      "source": [
        "kmean4 = KMeans(n_clusters=4,init=\"k-means++\")\n",
        "kmean4.fit(traindf)\n",
        "labels_4 = kmean4.labels_\n",
        "\n",
        "# plot\n",
        "plt.figure(figsize=(15 , 10))\n",
        "sns.scatterplot(traindf[:, 0], traindf[:, 1] , c = labels_4 , label=\"n_cluster-\"+str(len(set(labels_4))))\n",
        "plt.title(\"Kmeans Cluster=4   algorithm\" , fontsize =25)\n",
        "plt.show()"
      ]
    },
    {
      "cell_type": "markdown",
      "metadata": {
        "execution": {
          "iopub.execute_input": "2022-06-30T11:02:56.054979Z",
          "iopub.status.busy": "2022-06-30T11:02:56.054439Z",
          "iopub.status.idle": "2022-06-30T11:02:56.061169Z",
          "shell.execute_reply": "2022-06-30T11:02:56.059895Z",
          "shell.execute_reply.started": "2022-06-30T11:02:56.054936Z"
        },
        "id": "8l54SFTpzUx-"
      },
      "source": [
        "### Cluster 4 seems to be the best.\n",
        "- Segmentation will focus on 4 clusters but 3 will also be included\n",
        "- The clusters 3 and can split the data into distint clusters as seen above by the graphs."
      ]
    },
    {
      "cell_type": "code",
      "execution_count": null,
      "metadata": {
        "execution": {
          "iopub.execute_input": "2022-06-30T19:04:50.747098Z",
          "iopub.status.busy": "2022-06-30T19:04:50.746127Z",
          "iopub.status.idle": "2022-06-30T19:04:50.756379Z",
          "shell.execute_reply": "2022-06-30T19:04:50.755136Z",
          "shell.execute_reply.started": "2022-06-30T19:04:50.747044Z"
        },
        "id": "UJ_wJNZDzUx_"
      },
      "outputs": [],
      "source": [
        "# check the data and add the labels for both cluster\n",
        "df['cluster4'] = labels_4\n",
        "df['cluster3'] = labels_3"
      ]
    },
    {
      "cell_type": "code",
      "execution_count": null,
      "metadata": {
        "execution": {
          "iopub.execute_input": "2022-06-30T19:04:50.758305Z",
          "iopub.status.busy": "2022-06-30T19:04:50.757938Z",
          "iopub.status.idle": "2022-06-30T19:04:50.779447Z",
          "shell.execute_reply": "2022-06-30T19:04:50.778361Z",
          "shell.execute_reply.started": "2022-06-30T19:04:50.758269Z"
        },
        "id": "wmSpxS0GzUx_"
      },
      "outputs": [],
      "source": [
        "# check distribution for cluster 4\n",
        "df.cluster4.value_counts(normalize=True)\n",
        "\n"
      ]
    },
    {
      "cell_type": "code",
      "execution_count": null,
      "metadata": {
        "execution": {
          "iopub.execute_input": "2022-06-30T19:05:48.359831Z",
          "iopub.status.busy": "2022-06-30T19:05:48.359421Z",
          "iopub.status.idle": "2022-06-30T19:05:48.624720Z",
          "shell.execute_reply": "2022-06-30T19:05:48.623200Z",
          "shell.execute_reply.started": "2022-06-30T19:05:48.359797Z"
        },
        "id": "3aW45EHwzUx_"
      },
      "outputs": [],
      "source": [
        "sns.countplot(df['cluster4'])\n",
        "plt.title(\"Distribution of cluster 3 data\", fontsize=19, c='r')"
      ]
    },
    {
      "cell_type": "markdown",
      "metadata": {
        "id": "pogyqDKtzUx_"
      },
      "source": [
        "### Observation\n",
        "- The 4 clusters are not normally distributed. Each cluster has the following percentage distribution\n",
        "            0    35%\n",
        "            3    32%\n",
        "            1    26%\n",
        "            2    5%\n",
        "Cluster labelled 2 had the lowest datapoints of about 5%."
      ]
    },
    {
      "cell_type": "code",
      "execution_count": null,
      "metadata": {
        "execution": {
          "iopub.execute_input": "2022-06-30T19:05:52.248218Z",
          "iopub.status.busy": "2022-06-30T19:05:52.247789Z",
          "iopub.status.idle": "2022-06-30T19:05:52.263777Z",
          "shell.execute_reply": "2022-06-30T19:05:52.262368Z",
          "shell.execute_reply.started": "2022-06-30T19:05:52.248183Z"
        },
        "id": "GL1qC83NzUx_"
      },
      "outputs": [],
      "source": [
        "df.cluster3.value_counts(normalize=True)"
      ]
    },
    {
      "cell_type": "code",
      "execution_count": null,
      "metadata": {
        "execution": {
          "iopub.execute_input": "2022-06-30T19:05:53.681453Z",
          "iopub.status.busy": "2022-06-30T19:05:53.680798Z",
          "iopub.status.idle": "2022-06-30T19:05:53.936806Z",
          "shell.execute_reply": "2022-06-30T19:05:53.935304Z",
          "shell.execute_reply.started": "2022-06-30T19:05:53.681403Z"
        },
        "id": "wwNMLU5RzUyA"
      },
      "outputs": [],
      "source": [
        "# plot for clusters\n",
        "\n",
        "sns.countplot(df['cluster3'])\n",
        "plt.title(\"Distribution of cluster 3 data\", fontsize=19, c='r')"
      ]
    },
    {
      "cell_type": "markdown",
      "metadata": {
        "id": "AvMn8KvFzUyA"
      },
      "source": [
        "### Observation\n",
        "- The 3 clusters are not normally distributed as some labels have large amount of recordds. Each cluster has the following percentage distribution\n",
        "            0    26%\n",
        "            2    68%\n",
        "            1    5%\n",
        "            \n",
        "           ~~ Much of the data is clustered at label 2 as it covers about 68% of the whole dataset"
      ]
    },
    {
      "cell_type": "code",
      "execution_count": null,
      "metadata": {
        "execution": {
          "iopub.execute_input": "2022-06-30T19:05:56.745879Z",
          "iopub.status.busy": "2022-06-30T19:05:56.745470Z",
          "iopub.status.idle": "2022-06-30T19:05:56.765875Z",
          "shell.execute_reply": "2022-06-30T19:05:56.764844Z",
          "shell.execute_reply.started": "2022-06-30T19:05:56.745846Z"
        },
        "id": "jVSE1UR5zUyA"
      },
      "outputs": [],
      "source": [
        "df.head()"
      ]
    },
    {
      "cell_type": "markdown",
      "metadata": {
        "id": "1-K1NMh_zUyA"
      },
      "source": [
        "## Observing the characteristics of each Segment of clustered data.\n",
        "- The major focus will be the TransactionTime, Age, AmountTransacted and CustomerBalance"
      ]
    },
    {
      "cell_type": "code",
      "execution_count": null,
      "metadata": {
        "execution": {
          "iopub.execute_input": "2022-06-30T19:05:58.670281Z",
          "iopub.status.busy": "2022-06-30T19:05:58.669272Z",
          "iopub.status.idle": "2022-06-30T19:05:58.707698Z",
          "shell.execute_reply": "2022-06-30T19:05:58.706281Z",
          "shell.execute_reply.started": "2022-06-30T19:05:58.670239Z"
        },
        "id": "nQwncSqMzUyA"
      },
      "outputs": [],
      "source": [
        "df[['CustAccountBalance','TransactionTime',\"Age\",\"TransactionAmount (INR)\",\"TransHour\", \"cluster3\", \"cluster4\"]]"
      ]
    },
    {
      "cell_type": "code",
      "execution_count": null,
      "metadata": {
        "execution": {
          "iopub.execute_input": "2022-06-30T19:05:59.451375Z",
          "iopub.status.busy": "2022-06-30T19:05:59.450995Z",
          "iopub.status.idle": "2022-06-30T19:05:59.480583Z",
          "shell.execute_reply": "2022-06-30T19:05:59.479643Z",
          "shell.execute_reply.started": "2022-06-30T19:05:59.451342Z"
        },
        "id": "98vQVXJqzUyA"
      },
      "outputs": [],
      "source": [
        "# query required data\n",
        "required_df = df[\n",
        "    ['CustAccountBalance','TransactionTime',\"Age\",\"TransactionAmount (INR)\",\"TransHour\", \"cluster3\", \"cluster4\",\"CustGender\"]\n",
        "]"
      ]
    },
    {
      "cell_type": "code",
      "execution_count": null,
      "metadata": {
        "execution": {
          "iopub.execute_input": "2022-06-30T19:06:02.757161Z",
          "iopub.status.busy": "2022-06-30T19:06:02.756376Z",
          "iopub.status.idle": "2022-06-30T19:06:02.765241Z",
          "shell.execute_reply": "2022-06-30T19:06:02.764003Z",
          "shell.execute_reply.started": "2022-06-30T19:06:02.757112Z"
        },
        "id": "QrIji_YzzUyB"
      },
      "outputs": [],
      "source": [
        "required_df.shape"
      ]
    },
    {
      "cell_type": "code",
      "execution_count": null,
      "metadata": {
        "execution": {
          "iopub.execute_input": "2022-06-30T19:10:34.170041Z",
          "iopub.status.busy": "2022-06-30T19:10:34.169665Z",
          "iopub.status.idle": "2022-06-30T19:10:34.249137Z",
          "shell.execute_reply": "2022-06-30T19:10:34.247732Z",
          "shell.execute_reply.started": "2022-06-30T19:10:34.170007Z"
        },
        "id": "WVAiE0IXzUyB"
      },
      "outputs": [],
      "source": [
        "# columns to use\n",
        "query_cols = ['CustAccountBalance','TransactionTime',\"Age\",\"TransactionAmount (INR)\",\"TransHour\"]\n",
        "\n",
        "required_df.groupby('cluster3')[query_cols].mean().style.background_gradient(cmap='rainbow_r')"
      ]
    },
    {
      "cell_type": "markdown",
      "metadata": {
        "id": "GcJ02jXazUyB"
      },
      "source": [
        "### 3-segments Observation\n",
        "\n",
        "- There is a clear distinction between cluster labelled 1 and the rest.\n",
        "- Interms of transactions Hour, both almost take similar time on averagely.\n",
        "- The values for Account Balance, Transaction Time and Transaction Amount is way hihger than those labeled 0 and 2. - -- This is the group that had their age put as placeholed i.e their ages is 222years\n",
        "\n",
        "- There is not march big difference between cluster labelled 0 and 2"
      ]
    },
    {
      "cell_type": "code",
      "execution_count": null,
      "metadata": {
        "execution": {
          "iopub.execute_input": "2022-06-30T19:08:10.422040Z",
          "iopub.status.busy": "2022-06-30T19:08:10.421588Z",
          "iopub.status.idle": "2022-06-30T19:08:10.585876Z",
          "shell.execute_reply": "2022-06-30T19:08:10.584571Z",
          "shell.execute_reply.started": "2022-06-30T19:08:10.422006Z"
        },
        "id": "o_o2m-7uzUyB"
      },
      "outputs": [],
      "source": [
        "tbl1 = required_df.groupby(\"cluster4\").mean()[query_cols]\n",
        "tbl1.style.background_gradient(cmap='Reds')"
      ]
    },
    {
      "cell_type": "markdown",
      "metadata": {
        "id": "8yDfW8CgzUyB"
      },
      "source": [
        "### Observation \n",
        "- A similar trend is observed. It can be seen that The clusters cannot be segmented by their age on hour in which they did their transaction.\n",
        "- Clusters labelled 0, 3, and 4 and closely related while cluster labelled 2 has the most distint among them."
      ]
    },
    {
      "cell_type": "code",
      "execution_count": null,
      "metadata": {
        "execution": {
          "iopub.execute_input": "2022-06-30T19:10:01.588181Z",
          "iopub.status.busy": "2022-06-30T19:10:01.587803Z",
          "iopub.status.idle": "2022-06-30T19:10:01.714152Z",
          "shell.execute_reply": "2022-06-30T19:10:01.712823Z",
          "shell.execute_reply.started": "2022-06-30T19:10:01.588149Z"
        },
        "id": "Vy9yxABWzUyC"
      },
      "outputs": [],
      "source": [
        "required_df.groupby(['CustGender', \"cluster3\"]).mean()[query_cols].style.background_gradient(cmap='cividis')"
      ]
    },
    {
      "cell_type": "markdown",
      "metadata": {
        "id": "m2UYl3lmzUyC"
      },
      "source": [
        "### Observation\n",
        "- There is no Cluster 0 in Males.\n",
        "- MAjority of males males up cluster 1 and 3.\n",
        "- Cluster labelled 0 has only few females.\n",
        "- Clusters 0 and 2 had lowests amount of Transaction and Account Balance while cluster 1 had the highest.\n",
        "- This suggests that both female and males in cluster 1 were heavy investors and transacters.\n"
      ]
    },
    {
      "cell_type": "markdown",
      "source": [
        "\n",
        "\n",
        "*   List item\n",
        "*   List item\n",
        "\n"
      ],
      "metadata": {
        "id": "5LSlTQT0AVQV"
      }
    },
    {
      "cell_type": "code",
      "execution_count": null,
      "metadata": {
        "execution": {
          "iopub.execute_input": "2022-06-30T19:09:21.673437Z",
          "iopub.status.busy": "2022-06-30T19:09:21.673044Z",
          "iopub.status.idle": "2022-06-30T19:09:21.795765Z",
          "shell.execute_reply": "2022-06-30T19:09:21.794830Z",
          "shell.execute_reply.started": "2022-06-30T19:09:21.673404Z"
        },
        "id": "KUx06k8dzUyC"
      },
      "outputs": [],
      "source": [
        "required_df.groupby(['CustGender', \"cluster4\"]).mean()[query_cols].style.background_gradient(cmap='magma')"
      ]
    },
    {
      "cell_type": "markdown",
      "metadata": {
        "id": "vEbUXFCyzUyC"
      },
      "source": [
        "### Observation\n",
        " - A similar trend is observed as above where clusteds 0, 1 and 3 have small values of account balances while clusters 2 had large sum of account balances and transaction amounts.\n",
        " - Cluster 1 only has Females while cluster 0 only has Males."
      ]
    },
    {
      "cell_type": "markdown",
      "metadata": {
        "id": "rD_IVg0_zUyC"
      },
      "source": [
        "### Final Conclusion\n",
        "\n",
        "- The Average age of customers does not affect how transaction is made as the segmented groups have almost simlar age on average.\n",
        "- The `CLuster LAbelled 2` on the 3 cluster analysis should be considered suitably for better banking products. Majority of customers in this segment are the one whose DOB is not provided as it can be seen from the segmentation. More products on them will mean they can be encouraged to store more money and transact more.\n",
        "\n",
        "- `Cluster Labelled 0 and 1` is characterised by lower amount of transactions. The bank should alos try to get feedback from people on those groups in order to identify how their services can be improved. The group might be being affected by services offered and taking feedback from them might help the bank come up with a better strategy to improve their transactions and amount they store in the bank.\n",
        "\n",
        "\n",
        "- This cluster analysis  has helped us revealed specific characteristics and insights that will help the bank to understand their customers need and requirement so that the bank can create customized offers and custom plans to attract potential and profitable customers sell their products and services to those holding few products that will lead to higher product penetration, higher stickiness, and lower base erosion. This will empower banks to nurture by targeting specific segments with suitable products and services, thus providing a more personalized approach that might lead the bank with appropriate marketing propositions, growth, and profitability."
      ]
    },
    {
      "cell_type": "markdown",
      "metadata": {
        "id": "gaI0S3YAzUyD"
      },
      "source": [
        "---\n",
        "THE END\n",
        "\n",
        "---"
      ]
    },
    {
      "cell_type": "code",
      "execution_count": null,
      "metadata": {
        "id": "c_DcVjAOzUyD"
      },
      "outputs": [],
      "source": []
    }
  ],
  "metadata": {
    "kernelspec": {
      "display_name": "Python 3",
      "language": "python",
      "name": "python3"
    },
    "language_info": {
      "codemirror_mode": {
        "name": "ipython",
        "version": 3
      },
      "file_extension": ".py",
      "mimetype": "text/x-python",
      "name": "python",
      "nbconvert_exporter": "python",
      "pygments_lexer": "ipython3",
      "version": "3.8.8"
    },
    "colab": {
      "provenance": [],
      "include_colab_link": true
    }
  },
  "nbformat": 4,
  "nbformat_minor": 0
}